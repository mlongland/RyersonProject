{
 "cells": [
  {
   "cell_type": "markdown",
   "metadata": {},
   "source": [
    "![Spark Logo](http://spark-mooc.github.io/web-assets/images/ta_Spark-logo-small.png) + ![Python Logo](http://spark-mooc.github.io/web-assets/images/python-logo-master-v3-TM-flattened_small.png)\n",
    "# **Reccomendation Building of Beer Reviews**"
   ]
  },
  {
   "cell_type": "code",
   "execution_count": 1,
   "metadata": {
    "collapsed": false
   },
   "outputs": [
    {
     "data": {
      "text/plain": [
       "1"
      ]
     },
     "execution_count": 1,
     "metadata": {},
     "output_type": "execute_result"
    }
   ],
   "source": [
    "sc.defaultParallelism"
   ]
  },
  {
   "cell_type": "markdown",
   "metadata": {},
   "source": [
    "### **Preliminaries**\n",
    "#### We read in the allBeer.txt file and create an RDD consisting of lines.\n",
    "#### We want to remove the header from the file, so the parseDataFileLine function identifies lines starting with 'beer_id' and applies a flag of 0, other lines with the correct number of fields are flagged 1, and incorrect lines are flagged -1.  The lines are split into arrays."
   ]
  },
  {
   "cell_type": "code",
   "execution_count": 2,
   "metadata": {
    "collapsed": false
   },
   "outputs": [],
   "source": [
    "import re\n",
    "\n",
    "def parseDatafileLine(datafileLine):\n",
    "    ##Parse a line of the data file using the specified regular expression pattern\n",
    "    splitArray = datafileLine.split(\"\\t\")\n",
    "    for x in range(0,len(splitArray)):\n",
    "        splitArray[x]=splitArray[x].replace(\"\\\"\",'')\n",
    "    #print len(splitArray)\n",
    "    #print splitArray[0],\n",
    "    splitArray[1],splitArray[2]\n",
    "    if splitArray[0]=='beer_id':\n",
    "        return (splitArray,0)\n",
    "    elif len(splitArray)<>23:\n",
    "        ##this is a failed parse\n",
    "        return (splitArray,-1)\n",
    "    else:\n",
    "        return (splitArray, 1)"
   ]
  },
  {
   "cell_type": "markdown",
   "metadata": {},
   "source": [
    "### Reading the file\n",
    "#### We read the file into three rdds by first parsing the file as above, the header rdd, failed rdd and the valid rdd.  Print the header names so we can remember what fields we're dealing with and in what order."
   ]
  },
  {
   "cell_type": "code",
   "execution_count": 3,
   "metadata": {
    "collapsed": false,
    "scrolled": true
   },
   "outputs": [
    {
     "name": "stdout",
     "output_type": "stream",
     "text": [
      "0 beer_id\n",
      "1 beer_name\n",
      "2 brewer_name\n",
      "3 beer_style\n",
      "4 distribution\n",
      "5 brewery_location\n",
      "6 commercial_desc\n",
      "7 RATINGS: \n",
      "8 MEAN (/5)\n",
      "9 WEIGHTED AVG\n",
      "10 EST. CALORIES\n",
      "11 ABV (%)\n",
      "12 IBU\n",
      "13 SCORE\n",
      "14 AROMA (/10)\n",
      "15 APPEARANCE(/5)\n",
      "16 TASTE(/10)\n",
      "17 PALATE(/5)\n",
      "18 OVERALL(/20)\n",
      "19 reviewer_name\n",
      "20 review_location\n",
      "21 review_date\n",
      "22 review_content\n",
      "AllBeer.txt - Read 620388 lines, successfully parsed 620387 lines, failed to parse 0 lines\n"
     ]
    }
   ],
   "source": [
    "import sys\n",
    "import os\n",
    "\n",
    "baseDir = os.path.join('')\n",
    "allBeer_Path = 'AllBeer.txt'\n",
    "STOPWORDS_PATH = 'stopwords.txt'\n",
    "\n",
    "def parseData(filename):\n",
    "    #Parse a data file returns a RDD of parsed lines\n",
    "    \n",
    "    return (sc\n",
    "            .textFile(filename, 1, True)\n",
    "            .map(parseDatafileLine)\n",
    "            .cache())\n",
    "\n",
    "def loadData(path):\n",
    "    ##Load a data file, returns a RDD of parsed valid lines\n",
    "    \n",
    "    filename = os.path.join(baseDir, path)\n",
    "    raw = parseData(filename).cache()\n",
    "    failed = (raw\n",
    "              .filter(lambda s: s[1] == -1)\n",
    "              .map(lambda s: s[0]))\n",
    "    for line in failed.take(10):\n",
    "        print '%s - Invalid datafile line: %s' % (path, line)\n",
    "    valid = (raw\n",
    "             .filter(lambda s: s[1] == 1)\n",
    "             .map(lambda s: s[0])\n",
    "             .cache())\n",
    "    header = (raw\n",
    "              .filter(lambda s: s[1]==0)\n",
    "             .map(lambda s:s[0])\n",
    "             )\n",
    "    headerDict={}\n",
    "    for line in header.take(1):\n",
    "        for x in range(0,len(line)):\n",
    "            headerDict[x]=line[x]\n",
    "            print x,line[x]\n",
    "            \n",
    "    rawLines = raw.count()\n",
    "    validLines = valid.count()\n",
    "    failedLines = failed.count()\n",
    "    print '%s - Read %d lines, successfully parsed %d lines, failed to parse %d lines' % (path, rawLines, validLines,failedLines)\n",
    "    return valid, headerDict\n",
    "    \n",
    "allBeer,headers = loadData(allBeer_Path)\n",
    "#allReviews = loadData(allReviews_Path)"
   ]
  },
  {
   "cell_type": "markdown",
   "metadata": {},
   "source": [
    "### Clean the Data\n",
    "#### Since we're heavily dependent on the number of reviews each individual gives we will need to remove users who have an unacceptably low number, since we're dividing into training and test sets and the goal is to predict an order we should have at least 3 beers per user in the test set.  If we split 80/20 this means at least 12 beer reviews overall.  We are also going to immediately purge any blank reviews."
   ]
  },
  {
   "cell_type": "code",
   "execution_count": 4,
   "metadata": {
    "collapsed": false
   },
   "outputs": [
    {
     "name": "stdout",
     "output_type": "stream",
     "text": [
      "There are 2276 users in the dataset.\n",
      "There are 99193 beers in the dataset.\n",
      "There are 553283 reviews in the dataset.\n"
     ]
    }
   ],
   "source": [
    "##Purge blank reviews and make (k,V) pairs\n",
    "nonEmpty = allBeer.map(lambda x:(x[19],x)).filter(lambda (x,y):y[22]!='')\n",
    "##Convert strings to floats for 13 through 18\n",
    "def convertStrings(inputList,indexList):\n",
    "    outList = []\n",
    "    for x in range(0,len(inputList)):\n",
    "        if x in indexList:\n",
    "            outList.append(float(inputList[x]))\n",
    "        else:\n",
    "            outList.append(inputList[x])\n",
    "    return outList\n",
    "convIndicies=[13,14,15,16,17,18]\n",
    "convertedToFloats = nonEmpty.map(lambda (x,y):(x,convertStrings(y,convIndicies)))\n",
    "\n",
    "##Remove users with less than 12 reviews.\n",
    "def removeUsers(inputRDD,minReviews):\n",
    "    countPerUser = inputRDD.map(lambda (x,y):(x,1)).reduceByKey(lambda a,b:a+b)\n",
    "    outRDD = inputRDD.join(countPerUser).filter(lambda (x,(y,z)):z>=minReviews)\n",
    "    return outRDD.map(lambda (x,(y,z)):(x,y))\n",
    "\n",
    "##Remove users not in Ontario.\n",
    "def filterByLocation(inputRDD,location):\n",
    "    outRDD = inputRDD.filter(lambda (x,y):y[20].lower().find(location)!=-1)\n",
    "    return outRDD\n",
    "\n",
    "beerByUser = removeUsers(convertedToFloats,40).cache()\n",
    "print \"There are %d users in the dataset.\" % beerByUser.map(lambda (x,y):x).distinct().count()\n",
    "print \"There are %d beers in the dataset.\" % beerByUser.map(lambda (x,y):y[0]).distinct().count()\n",
    "print \"There are %d reviews in the dataset.\" % beerByUser.count()"
   ]
  },
  {
   "cell_type": "code",
   "execution_count": 5,
   "metadata": {
    "collapsed": false
   },
   "outputs": [],
   "source": [
    "##Don't Normalize the scores\n",
    "beerNormalized = beerByUser"
   ]
  },
  {
   "cell_type": "markdown",
   "metadata": {},
   "source": [
    "### Now we'll split the data into a training set (80%),  test set (20%) \n",
    "#### This is slightly complicated by the fact that we want to split each user into 80/20, not the set of reviews as a whole.  We will take advantage of stratified sampling in Spark, grouping the reviews by the user name, then sampling by key.  To get the unused data we employ subtractByKey using a compound key of the username and the beer_id, guaranting uniqueness."
   ]
  },
  {
   "cell_type": "code",
   "execution_count": 6,
   "metadata": {
    "collapsed": false,
    "scrolled": true
   },
   "outputs": [
    {
     "name": "stdout",
     "output_type": "stream",
     "text": [
      "Total reviews: 553283.000000\n",
      "Training set: 442751.000000  Percentage: 0.800225\n",
      "Test set: 110532.000000  Percentage: 0.199775\n"
     ]
    }
   ],
   "source": [
    "##Using the allBeer array, take stratified sample, and remove blank reviews.\n",
    "sampleKeys = beerNormalized.keys().collect()\n",
    "fractions={}\n",
    "for k in sampleKeys:\n",
    "    fractions[k]=0.8\n",
    "    \n",
    "beerTrain = beerNormalized.sampleByKey(False,fractions).cache()\n",
    "beerTrainKeyed = beerTrain.map(lambda (x,y):(y[0]+y[19],y))\n",
    "beerTest = beerNormalized.map(lambda (x,y):(y[0]+y[19],y)).subtractByKey(beerTrainKeyed).map(lambda (x,y):(y[19],y)).cache()\n",
    "#beerTestAndVal = beerNormalized.map(lambda (x,y):(y[0]+y[19],y)).subtractByKey(beerTrainKeyed)\n",
    "#sampleKeys = beerTestAndVal.keys().collect()\n",
    "#fractions={}\n",
    "#for k in sampleKeys:\n",
    "#    fractions[k]=0.5\n",
    "#beerTestCombinedKey = beerTestAndVal.sampleByKey(False,fractions)\n",
    "#beerTest = beerTestCombinedKey.map(lambda (x,y):(y[19],y)).cache()\n",
    "#beerVal = beerTestAndVal.subtractByKey(beerTestCombinedKey).map(lambda (x,y):(y[19],y)).cache()\n",
    "bNC = beerNormalized.count()\n",
    "bTrC = float(beerTrain.count())\n",
    "bTeC = float(beerTest.count() )\n",
    "#bVC = float(beerVal.count())\n",
    "print \"Total reviews: %f\" % float(bNC)\n",
    "print \"Training set: %f  Percentage: %f\" %(bTrC,bTrC/bNC)\n",
    "print \"Test set: %f  Percentage: %f\" %(bTeC,bTeC/bNC)\n",
    "#print \"Validation set: %f  Percentage: %f\" %(bVC,bVC/bNC)"
   ]
  },
  {
   "cell_type": "markdown",
   "metadata": {},
   "source": [
    "### Spearman Correlation\n",
    "#### Let's implement a Spearman Rank Function so we can have a metric to compare the order of two lists.\n",
    "#### I wrote this because the internal spearman correlation in scipy is bugged, a known issue and hasn't yet been fixed as of Spark 1.5.2"
   ]
  },
  {
   "cell_type": "code",
   "execution_count": 7,
   "metadata": {
    "collapsed": true
   },
   "outputs": [],
   "source": [
    "### ToDo: lookup Kendall Tau, Rank Biased Overlap (RBO), maybe mean squared error??\n",
    "from scipy.stats import spearmanr\n",
    "from scipy.stats.stats import rankdata\n",
    "from scipy.stats import pearsonr\n",
    "import math\n",
    "\n",
    "### Need to implement a function which will take the results from the cosSim RDD and spit out\n",
    "### average?? spearman.\n",
    "\n",
    "def catTuplesToLists(tupleOne,tupleTwo):\n",
    "    if len(tupleOne)==len(tupleTwo):\n",
    "        a=[]\n",
    "        for x in range(0,len(tupleOne)):\n",
    "            firstEle=tupleOne[x]\n",
    "            if type(firstEle) is not list: firstEle = [ tupleOne[x] ]\n",
    "            secondEle=tupleTwo[x]\n",
    "            if type(secondEle) is not list: secondEle = [ tupleTwo[x] ]\n",
    "            a.append(firstEle+secondEle)\n",
    "        return tuple(a)\n",
    "    else:\n",
    "        raise ValueError('Two tuples are not the same dimensions')\n",
    "\n",
    "def mattSpearman(listOne,listTwo):\n",
    "    if type(listOne) is list and type(listTwo) is list:\n",
    "        lO=len(listOne)\n",
    "        if lO==len(listTwo) and lO>1:\n",
    "            lOR = rankdata(listOne)\n",
    "            lTR = rankdata(listTwo)\n",
    "            print lOR\n",
    "            print lTR\n",
    "            dSquared=0\n",
    "            for x in range(0,lO):\n",
    "                dSquared+=(lOR[x]-lTR[x])**2\n",
    "            return 1-6*dSquared/lO/(lO**2-1)\n",
    "        else:\n",
    "            raise ValueError(\"Both Lists must be same length and greater than one.\")\n",
    "    else:\n",
    "        return 0\n",
    "\n",
    "def reduceNaN(a,b):\n",
    "    if math.isnan(a):\n",
    "        a=0\n",
    "    if math.isnan(b):\n",
    "        b=0\n",
    "    return a+b\n",
    "\n",
    "def avgSpearman(inputRDD):\n",
    "    #So the problem here is trying to output two lists which have the scores in the same order.\n",
    "    #Write custom reduce function, catTuplesToLists\n",
    "    convertedToLists = inputRDD.reduceByKey(catTuplesToLists)\n",
    "    #print convertedToLists.take(5)\n",
    "    filteredLists = convertedToLists.filter(lambda (x,y):type(y[1]) is list)\n",
    "    #print filteredLists.take(5)\n",
    "    spearmanByKey = filteredLists.map(lambda (x,y):(x,mattSpearman(y[1],y[2]), len(y[1])))\n",
    "    #print spearmanByKey.take(5)\n",
    "    spearmanOnly = spearmanByKey.map(lambda (x,y,z):y)\n",
    "    #print spearmanOnly.count()\n",
    "    #print spearmanOnly.take(5)\n",
    "    avgSpearmanRho=spearmanOnly.reduce(lambda a,b:a+b)/spearmanOnly.count()\n",
    "    return avgSpearmanRho\n",
    "\n",
    "def maxNPerKey(inputRDD,N):\n",
    "    ##Take a random N lines per Key, return RDD with N or less entries in each key.\n",
    "    entriesPerKey = inputRDD.map(lambda (x,y):(x,1)).reduceByKey(lambda a,b:a+b).collect()\n",
    "    fractions={}\n",
    "    for k in entriesPerKey:\n",
    "        if k[1]<=N:\n",
    "            fractions[k[0]]=1\n",
    "        else:\n",
    "            fractions[k[0]]=N/k[1]\n",
    "    return inputRDD.sampleByKey(False,fractions)\n",
    "    "
   ]
  },
  {
   "cell_type": "code",
   "execution_count": 8,
   "metadata": {
    "collapsed": false,
    "scrolled": true
   },
   "outputs": [
    {
     "name": "stdout",
     "output_type": "stream",
     "text": [
      "[u'nazzty', u'Manetsdad', u'Bewitched', u'Nejhleader', u'CObiased']\n"
     ]
    }
   ],
   "source": [
    "##First need to make integer usernames since ALS doesn't support text userIDs.\n",
    "##Solution: create a dictionary\n",
    "#print beerTrain.take(5)\n",
    "import unicodedata\n",
    "import MySQLdb\n",
    "def getUsersFromDatabase():\n",
    "    userDictionary={}\n",
    "    mydb = MySQLdb.connect(host='localhost',\n",
    "        user='pythonconnector',\n",
    "        passwd='python1029',\n",
    "        db='BeerRatings')\n",
    "    cursor = mydb.cursor()\n",
    "    cursor.execute(\"SELECT * FROM users\")\n",
    "    queryResults = cursor.fetchall()\n",
    "    cursor.close()\n",
    "    mydb.close()\n",
    "    for result in queryResults:\n",
    "        userDictionary[result[1].decode('utf-8')]=result[0]\n",
    "    return userDictionary\n",
    "\n",
    "userDict = getUsersFromDatabase()\n",
    "print userDict.keys()[0:5]"
   ]
  },
  {
   "cell_type": "markdown",
   "metadata": {},
   "source": [
    "## Make a Naive Bayes Classifier For Each User\n",
    "### Step 1: Making Bags of Words\n",
    "#### We can take the commercial descriptions and the user input text reviews and convert them into bags of words, we can then treat each word as a feature.  \n",
    "#### We should take out stopwords before we do this, to avoid unfairly weighting reviews based on words which don't contribute much meaning, such as \"the\", \"a\", \"is\", \"which\", etc."
   ]
  },
  {
   "cell_type": "code",
   "execution_count": 9,
   "metadata": {
    "collapsed": false
   },
   "outputs": [
    {
     "name": "stdout",
     "output_type": "stream",
     "text": [
      "These are the stopwords: set([u'all', u'just', u'being', u'over', u'both', u'through', u'yourselves', u'its', u'before', u'with', u'had', u'should', u'to', u'only', u'under', u'ours', u'has', u'do', u'them', u'his', u'very', u'they', u'not', u'during', u'now', u'him', u'nor', u'did', u'these', u't', u'each', u'where', u'because', u'doing', u'theirs', u'some', u'are', u'our', u'ourselves', u'out', u'what', u'for', u'below', u'does', u'above', u'between', u'she', u'be', u'we', u'after', u'here', u'hers', u'by', u'on', u'about', u'of', u'against', u's', u'or', u'own', u'into', u'yourself', u'down', u'your', u'from', u'her', u'whom', u'there', u'been', u'few', u'too', u'themselves', u'was', u'until', u'more', u'himself', u'that', u'but', u'off', u'herself', u'than', u'those', u'he', u'me', u'myself', u'this', u'up', u'will', u'while', u'can', u'were', u'my', u'and', u'then', u'is', u'in', u'am', u'it', u'an', u'as', u'itself', u'at', u'have', u'further', u'their', u'if', u'again', u'no', u'when', u'same', u'any', u'how', u'other', u'which', u'you', u'who', u'most', u'such', u'why', u'a', u'don', u'i', u'having', u'so', u'the', u'yours', u'once'])\n",
      "['test', 'tf', 'function', 'return', 'non', 'stopword', u'frequency', 'frequency', 'sourness']\n"
     ]
    }
   ],
   "source": [
    "stopfile = os.path.join(baseDir, STOPWORDS_PATH)\n",
    "stopwords = set(sc.textFile(stopfile).collect())\n",
    "testString = \"This is a test of the tf function.  It should return non stopword frequencies frequency sourness\"\n",
    "print 'These are the stopwords: %s' % stopwords\n",
    "split_regex = r'\\W+'\n",
    "\n",
    "from nltk.stem import WordNetLemmatizer\n",
    "wnl = WordNetLemmatizer()\n",
    "\n",
    "def tokenize(string):\n",
    "    ##takes in a string and tokenizes it, removing stopwords, returns list\n",
    "    simple=filter(None,re.split(split_regex,string.lower()))\n",
    "    simple = [wnl.lemmatize(i) for i in simple]\n",
    "    return [i for i in simple if i not in stopwords]\n",
    "\n",
    "print tokenize(testString)"
   ]
  },
  {
   "cell_type": "code",
   "execution_count": 10,
   "metadata": {
    "collapsed": false
   },
   "outputs": [
    {
     "name": "stdout",
     "output_type": "stream",
     "text": [
      "There are 10280104 tokens in the commercial descriptions\n",
      "There are 14854780 tokens in the reviews\n"
     ]
    }
   ],
   "source": [
    "##6 commercial description\n",
    "##22 user input review\n",
    "##make an RDD where the user_id is the key, and the value is 2 arrays of tokens \n",
    "##and the original line\n",
    "def checkEmpty(inputList):\n",
    "    if not inputList:\n",
    "        return False\n",
    "    else:\n",
    "        return True\n",
    "    \n",
    "beerTrainToToken = beerTrain.map(lambda (x,y):(y[19],(tokenize(y[6]),tokenize(y[22]),y))).filter(lambda (x,(a,b,c)):checkEmpty(c))\n",
    "\n",
    "def countTokens(textRDD,reviewTRUE):\n",
    "    ## Count and return the number of tokens\n",
    "    if reviewTRUE==True:\n",
    "        return textRDD.map(lambda (x,y):len(y[1])).reduce(lambda a,b:a+b)\n",
    "    else:\n",
    "        return textRDD.map(lambda (x,y):len(y[0])).reduce(lambda a,b:a+b)\n",
    "\n",
    "print 'There are %s tokens in the commercial descriptions' % countTokens(beerTrainToToken,False)\n",
    "print 'There are %s tokens in the reviews' % countTokens(beerTrainToToken,True)"
   ]
  },
  {
   "cell_type": "markdown",
   "metadata": {},
   "source": [
    "### Naive Bayes\n",
    "#### Now it gets a little tricky, we want to predict the score a specific user will give to a beer based on the words in the reviews.  We will need to train a Naive Bayes classifier for each user, then apply it to the test reviews.  Also since we're using so many classes, it's not very informative to pick just the highest probability class, in the nltk naive bayes classifier there is a method to return the probability distribution of all classes, which we can then multiply by the score to get the expectation value of the user's score.\n",
    "\n",
    "### First load up the features from the previous analysis."
   ]
  },
  {
   "cell_type": "code",
   "execution_count": 11,
   "metadata": {
    "collapsed": false
   },
   "outputs": [
    {
     "name": "stdout",
     "output_type": "stream",
     "text": [
      "[u'corn', u'watery', u'water', u'lager', u'bad', u'metallic', u'bland', u'cardboard', u'infected', u'stale', u'weak', u'grainy', u'pale', u'flat', u'grain', u'thin', u'artificial', u'yellow', u'cheap', u'terrible']\n",
      "[u'barrel', u'brandy', u'thick', u'roasted', u'dark', u'cherry', u'complex', u'full', u'grapefruit', u'balanced', u'coconut', u'smooth', u'oak', u'tropical', u'black', u'rich', u'vanilla', u'coffee', u'chocolate', u'bourbon']\n"
     ]
    }
   ],
   "source": [
    "featuresFileName = os.path.join(baseDir, \"sortedFeatures.txt\")\n",
    "def parseFeatFile(inputLine):\n",
    "    word,wscore=inputLine.split(\",\")\n",
    "    return word,wscore\n",
    "features = sc.textFile(featuresFileName, 1).map(parseFeatFile).cache()\n",
    "featureList = features.map(lambda (x,y):x).collect()\n",
    "x = 400\n",
    "featTopX = featureList[:x]+featureList[-x:]\n",
    "print featTopX[:20]\n",
    "print featTopX[-20:]"
   ]
  },
  {
   "cell_type": "markdown",
   "metadata": {},
   "source": [
    "### Now make dictionaries for each beer"
   ]
  },
  {
   "cell_type": "code",
   "execution_count": 12,
   "metadata": {
    "collapsed": false
   },
   "outputs": [
    {
     "name": "stdout",
     "output_type": "stream",
     "text": [
      "[(u'49211', {u'yellow': 1, u'graininess': 0, u'mild': 1, u'salted': 0, u'skin': 0, u'dish': 0, u'woody': 3, u'guava': 0, u'milk': 0, u'poorly': 0, u'liquorice': 0, u'varnish': 0, u'yummy': 0, u'peanut': 0, u'stinky': 0, u'bile': 0, u'sparkling': 0, u'veg': 0, u'compost': 0, u'melon': 0, u'brown': 6, u'overwhelmed': 0, u'vinegary': 0, u'mainstream': 0, u'dessert': 0, u'blanket': 0, u'brownie': 0, u'balancing': 0, u'bleach': 0, u'anemic': 0, u'school': 0, u'heaven': 0, u'washing': 0, u'salad': 0, u'level': 0, u'cooky': 0, u'lawnmower': 0, u'watered': 0, u'frozen': 0, u'small': 0, u'nondescript': 0, u'round': 0, u'farmhouse': 0, u'dilute': 0, u'miller': 0, u'parmesan': 0, u'radler': 0, u'kolsch': 0, u'nail': 0, u'dishwater': 0, u'second': 0, u'currant': 0, u'dried': 2, u'subtle': 0, u'copenhagen': 0, u'shandy': 0, u'port': 0, u'windex': 0, u'soured': 0, u'bomber': 0, u'hide': 0, u'peel': 0, u'opaque': 2, u'espresso': 1, u'musty': 0, u'sweaty': 0, u'oaky': 2, u'rotten': 0, u'abv': 0, u'shared': 1, u'zesty': 0, u'odor': 0, u'meld': 0, u'body': 2, u'full': 1, u'explosion': 0, u'unfermented': 0, u'herb': 0, u'commercial': 0, u'water': 0, u'grape': 0, u'along': 0, u'cardboard': 0, u'rubbery': 0, u'dry': 1, u'vinegar': 0, u'boysenberry': 0, u'substance': 0, u'dusty': 0, u'smoky': 0, u'amount': 0, u'roastiness': 0, u'cinnamon': 0, u'smoke': 0, u'milky': 0, u'popcorn': 0, u'golden': 0, u'via': 1, u'apple': 1, u'straw': 0, u'liqueur': 0, u'charred': 0, u'wit': 0, u'motor': 0, u'fake': 0, u'quenching': 0, u'market': 0, u'lime': 0, u'chocolatey': 0, u'cough': 0, u'ripe': 0, u'alligator': 0, u'puke': 0, u'rustic': 0, u'creamy': 1, u'alkoholfrei': 0, u'iipa': 0, u'strike': 0, u'blonde': 0, u'blueberry': 0, u'wicked': 0, u'flat': 0, u'flaw': 0, u'sharing': 0, u'brings': 0, u'tangerine': 0, u'infection': 0, u'chocolate': 0, u'chocolaty': 0, u'stick': 0, u'rubbish': 0, u'olive': 0, u'vegetal': 0, u'mellow': 0, u'beery': 0, u'whisky': 0, u'vienna': 0, u'room': 0, u'gassy': 0, u'chardonnay': 0, u'malt': 4, u'gasoline': 0, u'citra': 0, u'soup': 0, u'minhas': 0, u'sour': 0, u'wort': 0, u'thin': 4, u'salty': 0, u'chinook': 0, u'sourish': 0, u'beautiful': 0, u'bittersweet': 0, u'vodka': 0, u'grassy': 0, u'thirsty': 0, u'pie': 0, u'confused': 0, u'honey': 0, u'syrupy': 0, u'tan': 1, u'sweetish': 0, u'pink': 0, u'aging': 0, u'buttered': 0, u'rye': 0, u'stuff': 0, u'pine': 0, u'lounge': 0, u'piny': 0, u'forest': 0, u'pure': 0, u'cloying': 0, u'disappoint': 0, u'struggled': 0, u'fudge': 0, u'watery': 0, u'abrasive': 0, u'huge': 0, u'firewater': 0, u'spot': 0, u'fart': 0, u'birthday': 0, u'blood': 0, u'date': 2, u'cracker': 0, u'cabbage': 0, u'law': 0, u'tannin': 0, u'tomato': 0, u'bretty': 0, u'light': 2, u'cantillon': 0, u'corona': 0, u'bready': 1, u'complexity': 1, u'mango': 0, u'green': 0, u'pleasure': 0, u'egg': 0, u'wine': 0, u'soggy': 0, u'copper': 1, u'estery': 0, u'urine': 0, u'fizzy': 0, u'apricot': 0, u'sickly': 0, u'paper': 0, u'dough': 0, u'pitch': 0, u'hell': 0, u'jolly': 0, u'galaxy': 0, u'cola': 0, u'chemical': 0, u'burning': 0, u'hot': 0, u'fig': 2, u'fade': 0, u'plasticy': 0, u'orange': 0, u'covered': 0, u'hidden': 0, u'coffee': 0, u'richness': 0, u'citrus': 0, u'safe': 0, u'vegetable': 0, u'vomit': 0, u'stout': 0, u'foot': 0, u'weizen': 0, u'pinkish': 0, u'sweetener': 0, u'acetone': 0, u'bread': 0, u'gushing': 0, u'easily': 0, u'polish': 0, u'meat': 0, u'roasty': 0, u'cider': 0, u'carlton': 0, u'aniseed': 0, u'berliner': 0, u'delightful': 0, u'mead': 0, u'roast': 0, u'entirely': 0, u'soft': 2, u'lasting': 0, u'heavy': 0, u'sugary': 1, u'cardboardy': 1, u'bursting': 0, u'spiciness': 0, u'hard': 0, u'citric': 0, u'soy': 0, u'nectar': 0, u'oil': 0, u'grapefruity': 0, u'event': 0, u'silky': 0, u'putrid': 0, u'velvet': 0, u'alcohol': 1, u'borderline': 0, u'puckering': 0, u'perfumy': 0, u'dominated': 0, u'medicine': 0, u'surprise': 0, u'integrated': 0, u'red': 0, u'chemically': 0, u'phenolic': 0, u'foam': 0, u'solvent': 0, u'trashy': 0, u'dirt': 0, u'variant': 0, u'base': 0, u'cookie': 0, u'carb': 0, u'passionfruit': 0, u'keith': 0, u'chlorine': 0, u'underwhelming': 0, u'raisin': 4, u'terrible': 0, u'terribly': 0, u'funky': 0, u'yum': 0, u'massive': 1, u'soda': 0, u'baltic': 0, u'south': 0, u'cleaning': 0, u'cheese': 0, u'piney': 0, u'industrial': 0, u'cidery': 0, u'budweiser': 0, u'powerful': 2, u'veggie': 0, u'rank': 0, u'soapy': 0, u'bland': 0, u'rind': 0, u'thick': 0, u'cheesy': 0, u'maple': 0, u'jet': 0, u'murky': 1, u'top': 0, u'licorice': 0, u'plastic': 0, u'paint': 0, u'mosaic': 0, u'tea': 0, u'chugging': 0, u'white': 2, u'syrup': 0, u'banana': 0, u'lingering': 0, u'floaties': 0, u'kiwi': 0, u'almond': 0, u'nitro': 0, u'exploded': 0, u'needle': 0, u'flowery': 0, u'maltiness': 0, u'cereal': 0, u'hazelnut': 0, u'wasted': 0, u'praline': 0, u'overwhelming': 0, u'lacing': 0, u'prune': 3, u'bitter': 0, u'diacetyl': 0, u'dank': 0, u'spoiled': 0, u'stale': 0, u'feeling': 0, u'fruity': 2, u'skunked': 0, u'cleaner': 0, u'coconut': 0, u'san': 0, u'resinous': 0, u'rotting': 0, u'flavorful': 0, u'juicy': 0, u'ginger': 0, u'sad': 0, u'juice': 0, u'blond': 0, u'seltzer': 0, u'breakfast': 0, u'aged': 0, u'clove': 0, u'acid': 0, u'fermented': 0, u'dankness': 0, u'lambic': 0, u'soaked': 0, u'metallic': 0, u'adjunct': 0, u'hefe': 0, u'malty': 2, u'sherry': 0, u'soap': 0, u'unremarkable': 0, u'begin': 0, u'trace': 2, u'iceland': 0, u'diminishing': 0, u'fusels': 0, u'victoria': 0, u'regular': 1, u'mouth': 0, u'plenty': 0, u'acetaldehyde': 0, u'class': 0, u'mineral': 0, u'metal': 0, u'gooseberry': 0, u'rancid': 0, u'sauvin': 0, u'pineapple': 0, u'barrel': 3, u'notch': 0, u'blend': 0, u'gold': 0, u'saga': 0, u'blended': 0, u'tequila': 0, u'doughy': 0, u'boozy': 1, u'bright': 0, u'session': 0, u'velvety': 0, u'rounded': 0, u'rough': 0, u'fine': 0, u'sulphur': 0, u'creamed': 0, u'slow': 0, u'chamomile': 0, u'nectarine': 0, u'tartness': 0, u'barnyard': 0, u'haze': 0, u'texture': 2, u'celery': 0, u'sweetcorn': 0, u'black': 1, u'rich': 4, u'sulfur': 0, u'bourbon': 1, u'rice': 0, u'toffee': 2, u'tint': 0, u'jammy': 0, u'sipping': 0, u'bean': 0, u'molasses': 1, u'lacto': 0, u'gem': 0, u'tobacco': 0, u'ashtray': 0, u'leather': 0, u'perfume': 0, u'bad': 1, u'undertone': 0, u'nutmeg': 0, u'double': 0, u'hype': 0, u'coors': 0, u'pillowy': 0, u'resiny': 0, u'disaster': 0, u'dump': 0, u'fluffy': 0, u'lemonade': 0, u'pinot': 0, u'milwaukee': 0, u'miserable': 0, u'packed': 0, u'hibiscus': 0, u'satisfying': 0, u'creme': 0, u'crystal': 0, u'muted': 0, u'artificial': 0, u'superb': 0, u'enough': 0, u'chewy': 1, u'moldy': 0, u'calvados': 0, u'mandarin': 0, u'probably': 1, u'burned': 0, u'contaminated': 0, u'piss': 0, u'carbonated': 0, u'wanted': 0, u'kool': 0, u'boiled': 0, u'stank': 0, u'complement': 0, u'sipper': 0, u'weak': 0, u'cheap': 0, u'coat': 0, u'upfront': 0, u'homebrew': 0, u'brau': 0, u'fault': 0, u'uninspiring': 0, u'grain': 0, u'berry': 1, u'disappears': 0, u'load': 0, u'subpar': 0, u'liked': 0, u'lite': 0, u'flavorless': 0, u'bell': 0, u'battery': 0, u'sweet': 5, u'pop': 0, u'peated': 0, u'gusher': 0, u'blending': 0, u'loaded': 0, u'bizarre': 0, u'acrid': 0, u'simcoe': 0, u'lagerish': 0, u'hay': 0, u'addition': 0, u'scented': 0, u'muddy': 0, u'fusel': 0, u'tiny': 0, u'tropical': 0, u'beer': 4, u'grapefruit': 0, u'slowly': 0, u'treat': 0, u'rancher': 0, u'yeasty': 0, u'waste': 0, u'warmth': 0, u'skunkiness': 0, u'tasteless': 0, u'gas': 0, u'crappy': 0, u'craft': 0, u'decadent': 0, u'grainy': 0, u'chili': 0, u'sticky': 0, u'ruby': 0, u'funk': 0, u'chill': 0, u'wood': 2, u'intriguing': 0, u'mouthfeel': 0, u'reddish': 1, u'gentle': 0, u'solid': 0, u'vanilla': 2, u'appearance': 0, u'cask': 0, u'chalk': 0, u'ugly': 0, u'stunning': 0, u'surprised': 0, u'coca': 0, u'wild': 0, u'medicinal': 0, u'balance': 0, u'layer': 0, u'cloyingly': 0, u'corny': 0, u'bourbony': 0, u'alcoholic': 0, u'rubbing': 0, u'lush': 0, u'smokiness': 0, u'centennial': 0, u'dangerously': 0, u'smoothest': 0, u'neutral': 0, u'floating': 0, u'candied': 0, u'happy': 0, u'shooting': 0, u'farmstead': 0, u'harsh': 0, u'sorachi': 0, u'vintage': 0, u'complex': 1, u'ester': 0, u'toasted': 0, u'finish': 4, u'papaya': 0, u'juniper': 0, u'nib': 0, u'cigar': 0, u'kill': 0, u'fruit': 5, u'delicate': 0, u'peachy': 0, u'dust': 0, u'robust': 0, u'warming': 1, u'pleasantly': 0, u'butter': 0, u'canned': 0, u'smokey': 0, u'hearty': 0, u'english': 0, u'smoked': 0, u'summer': 0, u'butterscotch': 0, u'rocket': 0, u'heavily': 0, u'rest': 0, u'aroma': 7, u'front': 0, u'ipa': 0, u'citrusy': 0, u'bubblegum': 0, u'roasted': 0, u'carbonation': 2, u'glue': 0, u'yet': 0, u'note': 5, u'pils': 0, u'cut': 0, u'ham': 0, u'cherry': 1, u'overcarbonated': 0, u'smoothness': 0, u'hoppy': 1, u'cognac': 0, u'bigger': 0, u'easy': 0, u'kumquat': 0, u'kick': 0, u'crushable': 0, u'coriander': 0, u'big': 1, u'showing': 0, u'astringent': 0, u'amarillo': 0, u'dark': 4, u'cedar': 0, u'unique': 0, u'vague': 0, u'prominent': 0, u'clam': 0, u'flavoring': 0, u'lost': 0, u'cooler': 0, u'vibrant': 0, u'candy': 0, u'blackberry': 0, u'chick': 0, u'unbalanced': 0, u'brett': 0, u'clementine': 0, u'lager': 0, u'old': 2, u'crafted': 0, u'inky': 0, u'vinous': 0, u'crown': 0, u'dead': 0, u'husk': 0, u'resin': 0, u'lingers': 0, u'pale': 0, u'revolting': 0, u'slice': 0, u'dense': 0, u'clash': 0, u'jalapeno': 0, u'purple': 0, u'cleanser': 0, u'overly': 0, u'unfinishable': 0, u'detergent': 0, u'campfire': 0, u'passion': 0, u'sessionable': 0, u'pee': 0, u'moderate': 0, u'pea': 0, u'porter': 0, u'pepper': 0, u'wheat': 0, u'bold': 0, u'zest': 0, u'rum': 1, u'corn': 0, u'ipas': 0, u'pilsener': 0, u'fruitiness': 1, u'raspberry': 1, u'super': 0, u'intense': 1, u'shine': 0, u'jam': 0, u'stone': 0, u'choc': 0, u'fluoride': 0, u'plum': 0, u'breughel': 0, u'oatmeal': 0, u'dinner': 0, u'beige': 2, u'west': 0, u'mixed': 0, u'lacked': 0, u'wheaty': 0, u'amber': 1, u'thinner': 0, u'skunky': 0, u'garbage': 0, u'sol': 0, u'mocha': 0, u'cocoa': 0, u'oregano': 0, u'lactic': 0, u'insecticide': 0, u'balanced': 1, u'witbier': 0, u'moreish': 0, u'oxidized': 4, u'pilsner': 0, u'sock': 0, u'peppery': 0, u'long': 2, u'imperial': 0, u'stuck': 0, u'marshmallow': 0, u'detectable': 0, u'infected': 0, u'strong': 1, u'gin': 0, u'viscous': 0, u'lychee': 0, u'fizz': 0, u'gluten': 0, u'abysmal': 0, u'funkiness': 0, u'buttery': 0, u'remover': 0, u'jul': 0, u'mysterious': 0, u'heat': 0, u'liquor': 0, u'granny': 0, u'dipa': 0, u'dull': 0, u'bud': 0, u'refreshing': 0, u'wise': 0, u'biscuit': 0, u'potato': 0, u'smooth': 1, u'oily': 0, u'whiskey': 0, u'marmalade': 0, u'dirty': 0, u'cake': 0, u'highlight': 0, u'grass': 0, u'leathery': 0, u'firm': 0, u'irish': 0, u'acidity': 0, u'classic': 0, u'penny': 0, u'mikkeller': 0, u'deep': 0, u'dog': 0, u'char': 0, u'drainpour': 0, u'appetizing': 0, u'cacao': 0, u'bacon': 0, u'mold': 0, u'check': 0, u'shit': 0, u'barleywine': 1, u'lemon': 0, u'peach': 0, u'chocolat': 0, u'oak': 0, u'vanishes': 0, u'aromatic': 0, u'rubber': 0, u'tight': 0, u'tin': 0, u'oat': 0, u'phenol': 0, u'papery': 0, u'tart': 0, u'booze': 0, u'moderately': 0, u'draught': 0, u'drinkability': 0, u'peat': 0, u'backbone': 0, u'diet': 0, u'warms': 0, u'brandy': 5, u'modelo': 0, u'smelling': 1, u'saaz': 0, u'chalky': 0, u'skunk': 0, u'insipid': 0, u'lactose': 0, u'mash': 0, u'cooked': 0, u'nelson': 0, u'fresh': 0, u'bandaid': 0, u'original': 2, u'saison': 0}), (u'10452', {u'yellow': 0, u'graininess': 0, u'mild': 0, u'salted': 0, u'skin': 0, u'dish': 0, u'woody': 0, u'guava': 0, u'milk': 0, u'poorly': 0, u'liquorice': 0, u'varnish': 0, u'yummy': 0, u'peanut': 0, u'stinky': 0, u'bile': 0, u'sparkling': 0, u'veg': 0, u'compost': 0, u'melon': 0, u'brown': 0, u'overwhelmed': 0, u'vinegary': 0, u'mainstream': 0, u'dessert': 0, u'blanket': 0, u'brownie': 0, u'balancing': 0, u'bleach': 0, u'anemic': 0, u'school': 0, u'heaven': 0, u'washing': 0, u'salad': 0, u'level': 0, u'cooky': 0, u'lawnmower': 0, u'watered': 0, u'frozen': 0, u'small': 1, u'nondescript': 0, u'round': 0, u'farmhouse': 0, u'dilute': 0, u'miller': 0, u'parmesan': 0, u'radler': 0, u'kolsch': 0, u'nail': 0, u'dishwater': 0, u'second': 0, u'currant': 0, u'dried': 1, u'subtle': 0, u'copenhagen': 0, u'shandy': 0, u'port': 0, u'windex': 0, u'soured': 0, u'bomber': 0, u'hide': 0, u'peel': 1, u'opaque': 0, u'espresso': 0, u'musty': 0, u'sweaty': 0, u'oaky': 0, u'rotten': 0, u'abv': 0, u'shared': 0, u'zesty': 0, u'odor': 0, u'meld': 0, u'body': 4, u'full': 0, u'explosion': 0, u'unfermented': 0, u'herb': 0, u'commercial': 0, u'water': 0, u'grape': 0, u'along': 0, u'cardboard': 0, u'rubbery': 0, u'dry': 1, u'vinegar': 0, u'boysenberry': 0, u'substance': 0, u'dusty': 0, u'smoky': 0, u'amount': 0, u'roastiness': 0, u'cinnamon': 0, u'smoke': 0, u'milky': 1, u'popcorn': 0, u'golden': 1, u'via': 0, u'apple': 0, u'straw': 0, u'liqueur': 0, u'charred': 0, u'wit': 0, u'motor': 0, u'fake': 0, u'quenching': 0, u'market': 0, u'lime': 0, u'chocolatey': 0, u'cough': 0, u'ripe': 0, u'alligator': 0, u'puke': 0, u'rustic': 0, u'creamy': 0, u'alkoholfrei': 0, u'iipa': 0, u'strike': 0, u'blonde': 0, u'blueberry': 0, u'wicked': 0, u'flat': 0, u'flaw': 0, u'sharing': 0, u'brings': 0, u'tangerine': 1, u'infection': 0, u'chocolate': 0, u'chocolaty': 0, u'stick': 0, u'rubbish': 0, u'olive': 0, u'vegetal': 0, u'mellow': 0, u'beery': 0, u'whisky': 0, u'vienna': 0, u'room': 0, u'gassy': 0, u'chardonnay': 0, u'malt': 2, u'gasoline': 0, u'citra': 0, u'soup': 0, u'minhas': 0, u'sour': 0, u'wort': 0, u'thin': 2, u'salty': 0, u'chinook': 0, u'sourish': 0, u'beautiful': 0, u'bittersweet': 0, u'vodka': 0, u'grassy': 0, u'thirsty': 0, u'pie': 0, u'confused': 0, u'honey': 0, u'syrupy': 0, u'tan': 0, u'sweetish': 0, u'pink': 0, u'aging': 0, u'buttered': 0, u'rye': 0, u'stuff': 0, u'pine': 0, u'lounge': 0, u'piny': 0, u'forest': 0, u'pure': 0, u'cloying': 0, u'disappoint': 0, u'struggled': 0, u'fudge': 0, u'watery': 0, u'abrasive': 0, u'huge': 0, u'firewater': 0, u'spot': 0, u'fart': 0, u'birthday': 0, u'blood': 0, u'date': 0, u'cracker': 0, u'cabbage': 0, u'law': 0, u'tannin': 0, u'tomato': 0, u'bretty': 0, u'light': 3, u'cantillon': 0, u'corona': 0, u'bready': 0, u'complexity': 0, u'mango': 0, u'green': 0, u'pleasure': 0, u'egg': 0, u'wine': 0, u'soggy': 0, u'copper': 0, u'estery': 0, u'urine': 0, u'fizzy': 0, u'apricot': 0, u'sickly': 0, u'paper': 0, u'dough': 1, u'pitch': 0, u'hell': 0, u'jolly': 0, u'galaxy': 0, u'cola': 0, u'chemical': 0, u'burning': 0, u'hot': 0, u'fig': 0, u'fade': 0, u'plasticy': 0, u'orange': 7, u'covered': 0, u'hidden': 0, u'coffee': 0, u'richness': 0, u'citrus': 5, u'safe': 0, u'vegetable': 0, u'vomit': 0, u'stout': 0, u'foot': 0, u'weizen': 0, u'pinkish': 0, u'sweetener': 0, u'acetone': 0, u'bread': 0, u'gushing': 0, u'easily': 0, u'polish': 0, u'meat': 0, u'roasty': 0, u'cider': 0, u'carlton': 0, u'aniseed': 0, u'berliner': 0, u'delightful': 0, u'mead': 0, u'roast': 0, u'entirely': 0, u'soft': 1, u'lasting': 1, u'heavy': 0, u'sugary': 0, u'cardboardy': 0, u'bursting': 0, u'spiciness': 0, u'hard': 0, u'citric': 0, u'soy': 0, u'nectar': 0, u'oil': 0, u'grapefruity': 0, u'event': 0, u'silky': 0, u'putrid': 0, u'velvet': 0, u'alcohol': 0, u'borderline': 0, u'puckering': 0, u'perfumy': 0, u'dominated': 0, u'medicine': 0, u'surprise': 0, u'integrated': 0, u'red': 0, u'chemically': 0, u'phenolic': 0, u'foam': 0, u'solvent': 0, u'trashy': 0, u'dirt': 0, u'variant': 0, u'base': 0, u'cookie': 0, u'carb': 0, u'passionfruit': 0, u'keith': 0, u'chlorine': 0, u'underwhelming': 0, u'raisin': 0, u'terrible': 0, u'terribly': 0, u'funky': 0, u'yum': 0, u'massive': 0, u'soda': 0, u'baltic': 0, u'south': 0, u'cleaning': 0, u'cheese': 0, u'piney': 0, u'industrial': 0, u'cidery': 0, u'budweiser': 0, u'powerful': 0, u'veggie': 0, u'rank': 0, u'soapy': 0, u'bland': 0, u'rind': 0, u'thick': 1, u'cheesy': 0, u'maple': 0, u'jet': 0, u'murky': 1, u'top': 0, u'licorice': 0, u'plastic': 0, u'paint': 0, u'mosaic': 0, u'tea': 0, u'chugging': 0, u'white': 3, u'syrup': 0, u'banana': 0, u'lingering': 0, u'floaties': 0, u'kiwi': 0, u'almond': 0, u'nitro': 0, u'exploded': 0, u'needle': 0, u'flowery': 1, u'maltiness': 0, u'cereal': 0, u'hazelnut': 0, u'wasted': 0, u'praline': 0, u'overwhelming': 0, u'lacing': 2, u'prune': 0, u'bitter': 7, u'diacetyl': 0, u'dank': 1, u'spoiled': 0, u'stale': 0, u'feeling': 0, u'fruity': 2, u'skunked': 0, u'cleaner': 0, u'coconut': 0, u'san': 0, u'resinous': 0, u'rotting': 0, u'flavorful': 0, u'juicy': 0, u'ginger': 0, u'sad': 0, u'juice': 0, u'blond': 0, u'seltzer': 0, u'breakfast': 0, u'aged': 0, u'clove': 0, u'acid': 0, u'fermented': 0, u'dankness': 0, u'lambic': 0, u'soaked': 0, u'metallic': 0, u'adjunct': 0, u'hefe': 0, u'malty': 1, u'sherry': 0, u'soap': 0, u'unremarkable': 0, u'begin': 0, u'trace': 0, u'iceland': 0, u'diminishing': 0, u'fusels': 0, u'victoria': 0, u'regular': 0, u'mouth': 0, u'plenty': 1, u'acetaldehyde': 0, u'class': 0, u'mineral': 0, u'metal': 0, u'gooseberry': 0, u'rancid': 0, u'sauvin': 0, u'pineapple': 0, u'barrel': 0, u'notch': 0, u'blend': 0, u'gold': 1, u'saga': 0, u'blended': 0, u'tequila': 0, u'doughy': 0, u'boozy': 0, u'bright': 0, u'session': 0, u'velvety': 0, u'rounded': 0, u'rough': 0, u'fine': 0, u'sulphur': 0, u'creamed': 0, u'slow': 0, u'chamomile': 0, u'nectarine': 0, u'tartness': 0, u'barnyard': 0, u'haze': 0, u'texture': 1, u'celery': 0, u'sweetcorn': 0, u'black': 0, u'rich': 0, u'sulfur': 0, u'bourbon': 0, u'rice': 0, u'toffee': 0, u'tint': 0, u'jammy': 0, u'sipping': 0, u'bean': 0, u'molasses': 0, u'lacto': 0, u'gem': 0, u'tobacco': 0, u'ashtray': 0, u'leather': 0, u'perfume': 0, u'bad': 1, u'undertone': 0, u'nutmeg': 0, u'double': 0, u'hype': 0, u'coors': 0, u'pillowy': 0, u'resiny': 0, u'disaster': 0, u'dump': 0, u'fluffy': 0, u'lemonade': 0, u'pinot': 0, u'milwaukee': 0, u'miserable': 0, u'packed': 0, u'hibiscus': 0, u'satisfying': 0, u'creme': 0, u'crystal': 0, u'muted': 0, u'artificial': 0, u'superb': 0, u'enough': 0, u'chewy': 0, u'moldy': 0, u'calvados': 0, u'mandarin': 0, u'probably': 0, u'burned': 0, u'contaminated': 0, u'piss': 0, u'carbonated': 1, u'wanted': 0, u'kool': 0, u'boiled': 0, u'stank': 0, u'complement': 0, u'sipper': 0, u'weak': 0, u'cheap': 0, u'coat': 0, u'upfront': 0, u'homebrew': 0, u'brau': 0, u'fault': 0, u'uninspiring': 0, u'grain': 0, u'berry': 0, u'disappears': 0, u'load': 0, u'subpar': 0, u'liked': 0, u'lite': 0, u'flavorless': 0, u'bell': 0, u'battery': 0, u'sweet': 0, u'pop': 0, u'peated': 0, u'gusher': 0, u'blending': 0, u'loaded': 0, u'bizarre': 0, u'acrid': 0, u'simcoe': 0, u'lagerish': 0, u'hay': 0, u'addition': 0, u'scented': 0, u'muddy': 0, u'fusel': 0, u'tiny': 0, u'tropical': 0, u'beer': 3, u'grapefruit': 2, u'slowly': 0, u'treat': 0, u'rancher': 0, u'yeasty': 0, u'waste': 0, u'warmth': 0, u'skunkiness': 0, u'tasteless': 0, u'gas': 0, u'crappy': 0, u'craft': 0, u'decadent': 0, u'grainy': 0, u'chili': 0, u'sticky': 0, u'ruby': 0, u'funk': 0, u'chill': 0, u'wood': 0, u'intriguing': 0, u'mouthfeel': 1, u'reddish': 0, u'gentle': 0, u'solid': 2, u'vanilla': 0, u'appearance': 0, u'cask': 1, u'chalk': 0, u'ugly': 0, u'stunning': 0, u'surprised': 0, u'coca': 0, u'wild': 0, u'medicinal': 0, u'balance': 0, u'layer': 0, u'cloyingly': 0, u'corny': 0, u'bourbony': 0, u'alcoholic': 0, u'rubbing': 0, u'lush': 0, u'smokiness': 0, u'centennial': 0, u'dangerously': 0, u'smoothest': 0, u'neutral': 0, u'floating': 0, u'candied': 0, u'happy': 0, u'shooting': 0, u'farmstead': 0, u'harsh': 0, u'sorachi': 0, u'vintage': 0, u'complex': 0, u'ester': 0, u'toasted': 1, u'finish': 4, u'papaya': 0, u'juniper': 0, u'nib': 0, u'cigar': 0, u'kill': 0, u'fruit': 0, u'delicate': 0, u'peachy': 0, u'dust': 0, u'robust': 0, u'warming': 0, u'pleasantly': 0, u'butter': 0, u'canned': 0, u'smokey': 0, u'hearty': 0, u'english': 1, u'smoked': 0, u'summer': 0, u'butterscotch': 0, u'rocket': 0, u'heavily': 0, u'rest': 0, u'aroma': 6, u'front': 0, u'ipa': 1, u'citrusy': 0, u'bubblegum': 0, u'roasted': 0, u'carbonation': 1, u'glue': 0, u'yet': 0, u'note': 0, u'pils': 0, u'cut': 0, u'ham': 0, u'cherry': 0, u'overcarbonated': 0, u'smoothness': 0, u'hoppy': 3, u'cognac': 0, u'bigger': 0, u'easy': 2, u'kumquat': 0, u'kick': 0, u'crushable': 0, u'coriander': 0, u'big': 1, u'showing': 0, u'astringent': 0, u'amarillo': 0, u'dark': 0, u'cedar': 0, u'unique': 0, u'vague': 0, u'prominent': 0, u'clam': 0, u'flavoring': 0, u'lost': 0, u'cooler': 0, u'vibrant': 0, u'candy': 0, u'blackberry': 0, u'chick': 0, u'unbalanced': 0, u'brett': 0, u'clementine': 0, u'lager': 0, u'old': 0, u'crafted': 0, u'inky': 0, u'vinous': 0, u'crown': 0, u'dead': 0, u'husk': 0, u'resin': 2, u'lingers': 0, u'pale': 2, u'revolting': 0, u'slice': 0, u'dense': 1, u'clash': 0, u'jalapeno': 0, u'purple': 0, u'cleanser': 0, u'overly': 0, u'unfinishable': 0, u'detergent': 0, u'campfire': 0, u'passion': 0, u'sessionable': 0, u'pee': 0, u'moderate': 0, u'pea': 0, u'porter': 0, u'pepper': 0, u'wheat': 0, u'bold': 0, u'zest': 0, u'rum': 0, u'corn': 0, u'ipas': 0, u'pilsener': 0, u'fruitiness': 0, u'raspberry': 0, u'super': 0, u'intense': 0, u'shine': 0, u'jam': 0, u'stone': 0, u'choc': 0, u'fluoride': 0, u'plum': 0, u'breughel': 0, u'oatmeal': 0, u'dinner': 0, u'beige': 0, u'west': 0, u'mixed': 0, u'lacked': 0, u'wheaty': 0, u'amber': 2, u'thinner': 0, u'skunky': 0, u'garbage': 0, u'sol': 0, u'mocha': 0, u'cocoa': 0, u'oregano': 0, u'lactic': 0, u'insecticide': 0, u'balanced': 0, u'witbier': 0, u'moreish': 0, u'oxidized': 0, u'pilsner': 0, u'sock': 0, u'peppery': 0, u'long': 3, u'imperial': 0, u'stuck': 0, u'marshmallow': 0, u'detectable': 0, u'infected': 0, u'strong': 0, u'gin': 0, u'viscous': 0, u'lychee': 0, u'fizz': 1, u'gluten': 0, u'abysmal': 0, u'funkiness': 0, u'buttery': 0, u'remover': 0, u'jul': 0, u'mysterious': 0, u'heat': 0, u'liquor': 0, u'granny': 0, u'dipa': 0, u'dull': 0, u'bud': 0, u'refreshing': 1, u'wise': 0, u'biscuit': 1, u'potato': 0, u'smooth': 1, u'oily': 0, u'whiskey': 0, u'marmalade': 0, u'dirty': 0, u'cake': 0, u'highlight': 0, u'grass': 1, u'leathery': 0, u'firm': 0, u'irish': 0, u'acidity': 0, u'classic': 0, u'penny': 0, u'mikkeller': 0, u'deep': 0, u'dog': 0, u'char': 0, u'drainpour': 0, u'appetizing': 0, u'cacao': 0, u'bacon': 0, u'mold': 0, u'check': 0, u'shit': 0, u'barleywine': 0, u'lemon': 0, u'peach': 0, u'chocolat': 0, u'oak': 0, u'vanishes': 0, u'aromatic': 0, u'rubber': 0, u'tight': 0, u'tin': 0, u'oat': 0, u'phenol': 0, u'papery': 0, u'tart': 0, u'booze': 0, u'moderately': 0, u'draught': 0, u'drinkability': 0, u'peat': 0, u'backbone': 0, u'diet': 0, u'warms': 0, u'brandy': 0, u'modelo': 0, u'smelling': 0, u'saaz': 0, u'chalky': 0, u'skunk': 0, u'insipid': 0, u'lactose': 0, u'mash': 0, u'cooked': 0, u'nelson': 0, u'fresh': 0, u'bandaid': 0, u'original': 0, u'saison': 0}), (u'65672', {u'yellow': 0, u'graininess': 0, u'mild': 0, u'salted': 0, u'skin': 0, u'dish': 0, u'woody': 0, u'guava': 0, u'milk': 0, u'poorly': 0, u'liquorice': 0, u'varnish': 0, u'yummy': 0, u'peanut': 0, u'stinky': 0, u'bile': 0, u'sparkling': 0, u'veg': 0, u'compost': 0, u'melon': 0, u'brown': 1, u'overwhelmed': 0, u'vinegary': 0, u'mainstream': 0, u'dessert': 0, u'blanket': 0, u'brownie': 0, u'balancing': 0, u'bleach': 0, u'anemic': 0, u'school': 0, u'heaven': 0, u'washing': 0, u'salad': 0, u'level': 0, u'cooky': 0, u'lawnmower': 0, u'watered': 0, u'frozen': 0, u'small': 0, u'nondescript': 0, u'round': 0, u'farmhouse': 0, u'dilute': 0, u'miller': 0, u'parmesan': 0, u'radler': 0, u'kolsch': 0, u'nail': 0, u'dishwater': 0, u'second': 0, u'currant': 0, u'dried': 0, u'subtle': 0, u'copenhagen': 0, u'shandy': 0, u'port': 0, u'windex': 0, u'soured': 0, u'bomber': 0, u'hide': 0, u'peel': 0, u'opaque': 0, u'espresso': 0, u'musty': 0, u'sweaty': 0, u'oaky': 0, u'rotten': 0, u'abv': 0, u'shared': 0, u'zesty': 0, u'odor': 0, u'meld': 0, u'body': 0, u'full': 0, u'explosion': 0, u'unfermented': 0, u'herb': 0, u'commercial': 0, u'water': 0, u'grape': 0, u'along': 0, u'cardboard': 0, u'rubbery': 0, u'dry': 0, u'vinegar': 0, u'boysenberry': 0, u'substance': 0, u'dusty': 0, u'smoky': 0, u'amount': 0, u'roastiness': 0, u'cinnamon': 0, u'smoke': 0, u'milky': 0, u'popcorn': 0, u'golden': 0, u'via': 0, u'apple': 0, u'straw': 0, u'liqueur': 0, u'charred': 0, u'wit': 0, u'motor': 0, u'fake': 0, u'quenching': 0, u'market': 0, u'lime': 0, u'chocolatey': 0, u'cough': 0, u'ripe': 0, u'alligator': 0, u'puke': 0, u'rustic': 0, u'creamy': 0, u'alkoholfrei': 0, u'iipa': 0, u'strike': 0, u'blonde': 0, u'blueberry': 0, u'wicked': 0, u'flat': 1, u'flaw': 0, u'sharing': 0, u'brings': 0, u'tangerine': 0, u'infection': 0, u'chocolate': 0, u'chocolaty': 0, u'stick': 0, u'rubbish': 0, u'olive': 0, u'vegetal': 0, u'mellow': 0, u'beery': 0, u'whisky': 0, u'vienna': 0, u'room': 0, u'gassy': 0, u'chardonnay': 0, u'malt': 1, u'gasoline': 0, u'citra': 0, u'soup': 0, u'minhas': 0, u'sour': 0, u'wort': 0, u'thin': 0, u'salty': 0, u'chinook': 0, u'sourish': 0, u'beautiful': 0, u'bittersweet': 0, u'vodka': 0, u'grassy': 0, u'thirsty': 0, u'pie': 0, u'confused': 0, u'honey': 1, u'syrupy': 0, u'tan': 0, u'sweetish': 0, u'pink': 0, u'aging': 0, u'buttered': 0, u'rye': 0, u'stuff': 0, u'pine': 0, u'lounge': 0, u'piny': 0, u'forest': 0, u'pure': 0, u'cloying': 0, u'disappoint': 0, u'struggled': 0, u'fudge': 0, u'watery': 0, u'abrasive': 0, u'huge': 0, u'firewater': 0, u'spot': 0, u'fart': 0, u'birthday': 0, u'blood': 0, u'date': 0, u'cracker': 0, u'cabbage': 0, u'law': 0, u'tannin': 0, u'tomato': 0, u'bretty': 0, u'light': 2, u'cantillon': 0, u'corona': 0, u'bready': 0, u'complexity': 0, u'mango': 0, u'green': 0, u'pleasure': 0, u'egg': 0, u'wine': 0, u'soggy': 0, u'copper': 0, u'estery': 0, u'urine': 0, u'fizzy': 0, u'apricot': 0, u'sickly': 0, u'paper': 0, u'dough': 0, u'pitch': 0, u'hell': 0, u'jolly': 0, u'galaxy': 0, u'cola': 0, u'chemical': 0, u'burning': 0, u'hot': 0, u'fig': 0, u'fade': 0, u'plasticy': 0, u'orange': 0, u'covered': 0, u'hidden': 0, u'coffee': 0, u'richness': 0, u'citrus': 0, u'safe': 0, u'vegetable': 0, u'vomit': 0, u'stout': 0, u'foot': 0, u'weizen': 0, u'pinkish': 0, u'sweetener': 0, u'acetone': 0, u'bread': 0, u'gushing': 0, u'easily': 0, u'polish': 0, u'meat': 0, u'roasty': 0, u'cider': 0, u'carlton': 0, u'aniseed': 0, u'berliner': 0, u'delightful': 0, u'mead': 0, u'roast': 0, u'entirely': 0, u'soft': 0, u'lasting': 0, u'heavy': 0, u'sugary': 0, u'cardboardy': 0, u'bursting': 0, u'spiciness': 0, u'hard': 0, u'citric': 0, u'soy': 0, u'nectar': 0, u'oil': 0, u'grapefruity': 0, u'event': 0, u'silky': 0, u'putrid': 0, u'velvet': 0, u'alcohol': 0, u'borderline': 0, u'puckering': 0, u'perfumy': 0, u'dominated': 0, u'medicine': 0, u'surprise': 0, u'integrated': 0, u'red': 0, u'chemically': 0, u'phenolic': 0, u'foam': 0, u'solvent': 0, u'trashy': 0, u'dirt': 0, u'variant': 0, u'base': 0, u'cookie': 0, u'carb': 0, u'passionfruit': 0, u'keith': 0, u'chlorine': 0, u'underwhelming': 0, u'raisin': 0, u'terrible': 0, u'terribly': 0, u'funky': 0, u'yum': 0, u'massive': 0, u'soda': 0, u'baltic': 0, u'south': 0, u'cleaning': 0, u'cheese': 0, u'piney': 0, u'industrial': 0, u'cidery': 0, u'budweiser': 0, u'powerful': 0, u'veggie': 0, u'rank': 0, u'soapy': 0, u'bland': 0, u'rind': 0, u'thick': 0, u'cheesy': 0, u'maple': 0, u'jet': 0, u'murky': 0, u'top': 0, u'licorice': 0, u'plastic': 0, u'paint': 0, u'mosaic': 0, u'tea': 0, u'chugging': 0, u'white': 0, u'syrup': 0, u'banana': 0, u'lingering': 0, u'floaties': 0, u'kiwi': 0, u'almond': 0, u'nitro': 0, u'exploded': 0, u'needle': 0, u'flowery': 0, u'maltiness': 0, u'cereal': 0, u'hazelnut': 0, u'wasted': 0, u'praline': 0, u'overwhelming': 0, u'lacing': 0, u'prune': 0, u'bitter': 0, u'diacetyl': 0, u'dank': 0, u'spoiled': 0, u'stale': 0, u'feeling': 0, u'fruity': 0, u'skunked': 0, u'cleaner': 0, u'coconut': 0, u'san': 0, u'resinous': 0, u'rotting': 0, u'flavorful': 0, u'juicy': 0, u'ginger': 0, u'sad': 0, u'juice': 0, u'blond': 0, u'seltzer': 0, u'breakfast': 0, u'aged': 0, u'clove': 0, u'acid': 0, u'fermented': 0, u'dankness': 0, u'lambic': 0, u'soaked': 0, u'metallic': 0, u'adjunct': 0, u'hefe': 0, u'malty': 0, u'sherry': 0, u'soap': 0, u'unremarkable': 0, u'begin': 0, u'trace': 1, u'iceland': 0, u'diminishing': 0, u'fusels': 0, u'victoria': 0, u'regular': 0, u'mouth': 0, u'plenty': 0, u'acetaldehyde': 0, u'class': 0, u'mineral': 0, u'metal': 0, u'gooseberry': 0, u'rancid': 0, u'sauvin': 0, u'pineapple': 0, u'barrel': 0, u'notch': 0, u'blend': 0, u'gold': 0, u'saga': 0, u'blended': 0, u'tequila': 0, u'doughy': 0, u'boozy': 0, u'bright': 0, u'session': 0, u'velvety': 0, u'rounded': 0, u'rough': 0, u'fine': 0, u'sulphur': 0, u'creamed': 0, u'slow': 0, u'chamomile': 0, u'nectarine': 0, u'tartness': 0, u'barnyard': 0, u'haze': 1, u'texture': 0, u'celery': 0, u'sweetcorn': 0, u'black': 0, u'rich': 0, u'sulfur': 0, u'bourbon': 0, u'rice': 0, u'toffee': 0, u'tint': 0, u'jammy': 0, u'sipping': 0, u'bean': 0, u'molasses': 0, u'lacto': 0, u'gem': 0, u'tobacco': 0, u'ashtray': 0, u'leather': 0, u'perfume': 0, u'bad': 0, u'undertone': 0, u'nutmeg': 0, u'double': 0, u'hype': 0, u'coors': 0, u'pillowy': 0, u'resiny': 0, u'disaster': 0, u'dump': 0, u'fluffy': 0, u'lemonade': 0, u'pinot': 0, u'milwaukee': 0, u'miserable': 0, u'packed': 0, u'hibiscus': 0, u'satisfying': 0, u'creme': 0, u'crystal': 0, u'muted': 0, u'artificial': 0, u'superb': 0, u'enough': 0, u'chewy': 0, u'moldy': 0, u'calvados': 0, u'mandarin': 0, u'probably': 0, u'burned': 0, u'contaminated': 0, u'piss': 0, u'carbonated': 0, u'wanted': 0, u'kool': 0, u'boiled': 0, u'stank': 0, u'complement': 0, u'sipper': 0, u'weak': 0, u'cheap': 0, u'coat': 0, u'upfront': 0, u'homebrew': 0, u'brau': 0, u'fault': 0, u'uninspiring': 0, u'grain': 0, u'berry': 0, u'disappears': 0, u'load': 0, u'subpar': 0, u'liked': 0, u'lite': 0, u'flavorless': 0, u'bell': 0, u'battery': 0, u'sweet': 0, u'pop': 0, u'peated': 0, u'gusher': 0, u'blending': 0, u'loaded': 0, u'bizarre': 0, u'acrid': 0, u'simcoe': 0, u'lagerish': 0, u'hay': 0, u'addition': 0, u'scented': 0, u'muddy': 0, u'fusel': 0, u'tiny': 0, u'tropical': 0, u'beer': 0, u'grapefruit': 0, u'slowly': 0, u'treat': 0, u'rancher': 0, u'yeasty': 0, u'waste': 0, u'warmth': 0, u'skunkiness': 0, u'tasteless': 0, u'gas': 0, u'crappy': 0, u'craft': 0, u'decadent': 0, u'grainy': 0, u'chili': 0, u'sticky': 0, u'ruby': 0, u'funk': 0, u'chill': 0, u'wood': 0, u'intriguing': 0, u'mouthfeel': 0, u'reddish': 0, u'gentle': 0, u'solid': 1, u'vanilla': 0, u'appearance': 0, u'cask': 0, u'chalk': 0, u'ugly': 0, u'stunning': 0, u'surprised': 0, u'coca': 0, u'wild': 0, u'medicinal': 0, u'balance': 0, u'layer': 0, u'cloyingly': 0, u'corny': 0, u'bourbony': 0, u'alcoholic': 0, u'rubbing': 0, u'lush': 0, u'smokiness': 0, u'centennial': 0, u'dangerously': 0, u'smoothest': 0, u'neutral': 0, u'floating': 0, u'candied': 0, u'happy': 0, u'shooting': 0, u'farmstead': 0, u'harsh': 0, u'sorachi': 0, u'vintage': 0, u'complex': 0, u'ester': 0, u'toasted': 0, u'finish': 0, u'papaya': 0, u'juniper': 0, u'nib': 0, u'cigar': 0, u'kill': 0, u'fruit': 0, u'delicate': 0, u'peachy': 0, u'dust': 0, u'robust': 0, u'warming': 0, u'pleasantly': 0, u'butter': 0, u'canned': 0, u'smokey': 0, u'hearty': 0, u'english': 0, u'smoked': 0, u'summer': 0, u'butterscotch': 0, u'rocket': 0, u'heavily': 0, u'rest': 0, u'aroma': 0, u'front': 0, u'ipa': 0, u'citrusy': 0, u'bubblegum': 0, u'roasted': 0, u'carbonation': 0, u'glue': 0, u'yet': 0, u'note': 0, u'pils': 0, u'cut': 0, u'ham': 0, u'cherry': 0, u'overcarbonated': 0, u'smoothness': 0, u'hoppy': 0, u'cognac': 0, u'bigger': 0, u'easy': 0, u'kumquat': 0, u'kick': 0, u'crushable': 0, u'coriander': 0, u'big': 0, u'showing': 0, u'astringent': 0, u'amarillo': 0, u'dark': 0, u'cedar': 0, u'unique': 0, u'vague': 0, u'prominent': 0, u'clam': 0, u'flavoring': 0, u'lost': 0, u'cooler': 0, u'vibrant': 0, u'candy': 0, u'blackberry': 0, u'chick': 0, u'unbalanced': 0, u'brett': 0, u'clementine': 0, u'lager': 0, u'old': 0, u'crafted': 0, u'inky': 0, u'vinous': 0, u'crown': 0, u'dead': 0, u'husk': 0, u'resin': 0, u'lingers': 0, u'pale': 0, u'revolting': 0, u'slice': 0, u'dense': 0, u'clash': 0, u'jalapeno': 0, u'purple': 0, u'cleanser': 0, u'overly': 0, u'unfinishable': 0, u'detergent': 0, u'campfire': 0, u'passion': 0, u'sessionable': 0, u'pee': 0, u'moderate': 0, u'pea': 0, u'porter': 0, u'pepper': 0, u'wheat': 0, u'bold': 0, u'zest': 0, u'rum': 0, u'corn': 0, u'ipas': 0, u'pilsener': 0, u'fruitiness': 0, u'raspberry': 0, u'super': 0, u'intense': 0, u'shine': 0, u'jam': 0, u'stone': 0, u'choc': 0, u'fluoride': 0, u'plum': 0, u'breughel': 0, u'oatmeal': 0, u'dinner': 0, u'beige': 0, u'west': 0, u'mixed': 0, u'lacked': 0, u'wheaty': 0, u'amber': 0, u'thinner': 0, u'skunky': 0, u'garbage': 0, u'sol': 0, u'mocha': 0, u'cocoa': 0, u'oregano': 0, u'lactic': 0, u'insecticide': 0, u'balanced': 0, u'witbier': 0, u'moreish': 0, u'oxidized': 0, u'pilsner': 0, u'sock': 0, u'peppery': 0, u'long': 0, u'imperial': 0, u'stuck': 0, u'marshmallow': 0, u'detectable': 0, u'infected': 0, u'strong': 0, u'gin': 0, u'viscous': 0, u'lychee': 0, u'fizz': 0, u'gluten': 0, u'abysmal': 0, u'funkiness': 0, u'buttery': 0, u'remover': 0, u'jul': 0, u'mysterious': 0, u'heat': 0, u'liquor': 0, u'granny': 0, u'dipa': 0, u'dull': 0, u'bud': 0, u'refreshing': 0, u'wise': 0, u'biscuit': 0, u'potato': 0, u'smooth': 0, u'oily': 0, u'whiskey': 0, u'marmalade': 0, u'dirty': 0, u'cake': 0, u'highlight': 0, u'grass': 0, u'leathery': 0, u'firm': 0, u'irish': 0, u'acidity': 0, u'classic': 0, u'penny': 0, u'mikkeller': 0, u'deep': 0, u'dog': 0, u'char': 0, u'drainpour': 0, u'appetizing': 0, u'cacao': 0, u'bacon': 0, u'mold': 0, u'check': 0, u'shit': 0, u'barleywine': 0, u'lemon': 0, u'peach': 0, u'chocolat': 0, u'oak': 0, u'vanishes': 0, u'aromatic': 0, u'rubber': 0, u'tight': 0, u'tin': 0, u'oat': 0, u'phenol': 0, u'papery': 0, u'tart': 0, u'booze': 0, u'moderately': 0, u'draught': 0, u'drinkability': 0, u'peat': 0, u'backbone': 0, u'diet': 0, u'warms': 0, u'brandy': 0, u'modelo': 0, u'smelling': 0, u'saaz': 0, u'chalky': 0, u'skunk': 0, u'insipid': 0, u'lactose': 0, u'mash': 0, u'cooked': 0, u'nelson': 0, u'fresh': 0, u'bandaid': 0, u'original': 0, u'saison': 0})]\n"
     ]
    }
   ],
   "source": [
    "from nltk.classify import NaiveBayesClassifier\n",
    "\n",
    "def generateDict(bagOfWords,allowedWords):\n",
    "    outDict={}\n",
    "    for word in allowedWords:\n",
    "        outDict[word]=0\n",
    "    for word in bagOfWords:\n",
    "        if word in outDict:\n",
    "            outDict[word]+=1\n",
    "    return outDict\n",
    "            \n",
    "allWordsPerBeer = beerTrainToToken.map(lambda (x,(a,b,c)): (c[0],b)).reduceByKey(lambda a,b:a+b)\n",
    "dictPerBeer = allWordsPerBeer.map(lambda (x,a):(x,generateDict(a,featTopX)))\n",
    "print dictPerBeer.takeSample(False,3,1)"
   ]
  },
  {
   "cell_type": "code",
   "execution_count": 13,
   "metadata": {
    "collapsed": false
   },
   "outputs": [],
   "source": [
    "##join user and rating to beer and dictionary, map to user,(dictionary,rating)\n",
    "ratingAndDictPerUser = beerTrainToToken.map(lambda (x,(a,b,c)):(c[0],(x,c[13]))).join(dictPerBeer).map(lambda (x,((a,b),c)):(a,[(c,b)]))\n",
    "##test to see if the format is good.\n",
    "ratingAndDictListPerUser = ratingAndDictPerUser.reduceByKey(lambda a,b:a+b)\n",
    "#print ratingAndDictListPerUser.takeSample(False,2,1)\n",
    "#ratingAndDictListPerUser.take(1)\n",
    "#classifier = NaiveBayesClassifier.train(trainfeatsAndClasses)"
   ]
  },
  {
   "cell_type": "code",
   "execution_count": 14,
   "metadata": {
    "collapsed": false
   },
   "outputs": [],
   "source": [
    "classifierRDD = ratingAndDictListPerUser.map(lambda (x,y):(x,NaiveBayesClassifier.train(y)))"
   ]
  },
  {
   "cell_type": "code",
   "execution_count": 15,
   "metadata": {
    "collapsed": false
   },
   "outputs": [],
   "source": [
    "testBeersWithUserAndScore = beerTest.map(lambda (a,b): (b[0],(a,b[13],b[1])))\n",
    "###map to user,(score,beername,dict)\n",
    "testBeersWithDicts = testBeersWithUserAndScore.join(dictPerBeer).map(lambda (a,((b,c,d),e)):(b,(c,a,e)))\n",
    "#print testBeersWithDicts.takeSample(False,1,1)"
   ]
  },
  {
   "cell_type": "code",
   "execution_count": 16,
   "metadata": {
    "collapsed": false
   },
   "outputs": [
    {
     "name": "stdout",
     "output_type": "stream",
     "text": [
      "0.276885900502\n",
      "The Spearman correlation using individual Naive Bayes classifiers is 0.176307\n"
     ]
    }
   ],
   "source": [
    "def expectationValue(classifier,inputDict):\n",
    "    probSample = classifier.prob_classify(inputDict)\n",
    "    sumProb=0\n",
    "    for sample in probSample.samples():\n",
    "        sumProb+=float(sample)*probSample.prob(sample)\n",
    "    return sumProb\n",
    "\n",
    "ratesAndPredsClassifier = classifierRDD.join(testBeersWithDicts).map(lambda (x,(a,(b,c,d))):(x,(c,b,expectationValue(a,d))))\n",
    "##Now test MSE and spearman\n",
    "MSE = ratesAndPredsClassifier.map(lambda (x,(a,b,c)):(b-c)**2).mean()\n",
    "print MSE\n",
    "print \"The Spearman correlation using individual Naive Bayes classifiers is %f\" % avgSpearman(ratesAndPredsClassifier)\n"
   ]
  },
  {
   "cell_type": "code",
   "execution_count": 18,
   "metadata": {
    "collapsed": false
   },
   "outputs": [],
   "source": [
    "ratingsXpredictionY = ratesAndPredsClassifier.map(lambda (x,(a,b,c)): (b,c)).collect()"
   ]
  },
  {
   "cell_type": "code",
   "execution_count": 19,
   "metadata": {
    "collapsed": false
   },
   "outputs": [
    {
     "data": {
      "image/png": "[encoded data removed]",
      "text/plain": [
       "<matplotlib.figure.Figure at 0xcfb2410>"
      ]
     },
     "metadata": {},
     "output_type": "display_data"
    }
   ],
   "source": [
    "import matplotlib.pyplot as plt\n",
    "%matplotlib inline\n",
    "ratingsX=[x[0] for x in ratingsXpredictionY]\n",
    "predictionY=[x[1] for x in ratingsXpredictionY]\n",
    "fig = plt.figure(figsize=(10,5))\n",
    "plt.title(\"Predicted Beer Ratings from Collaborative Filtering\")\n",
    "plt.scatter(ratingsX,predictionY,s=1)\n",
    "plt.xlabel(\"User Given Score\")\n",
    "plt.ylabel(\"Prediction\")\n",
    "plt.xlim([0,6])\n",
    "plt.show()\n",
    "pass"
   ]
  },
  {
   "cell_type": "code",
   "execution_count": null,
   "metadata": {
    "collapsed": false
   },
   "outputs": [],
   "source": []
  },
  {
   "cell_type": "code",
   "execution_count": null,
   "metadata": {
    "collapsed": true
   },
   "outputs": [],
   "source": []
  }
 ],
 "metadata": {
  "kernelspec": {
   "display_name": "Python 2",
   "language": "python",
   "name": "python2"
  }
 },
 "nbformat": 4,
 "nbformat_minor": 0
}
