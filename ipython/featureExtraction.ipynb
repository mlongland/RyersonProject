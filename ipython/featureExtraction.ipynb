{
 "cells": [
  {
   "cell_type": "markdown",
   "metadata": {},
   "source": [
    "![Spark Logo](http://spark-mooc.github.io/web-assets/images/ta_Spark-logo-small.png) + ![Python Logo](http://spark-mooc.github.io/web-assets/images/python-logo-master-v3-TM-flattened_small.png)\n",
    "# **Feature Extraction From Beer Reviews**\n"
   ]
  },
  {
   "cell_type": "markdown",
   "metadata": {},
   "source": [
    "### **Preliminaries**\n",
    "#### We read in the allBeer.txt file and create an RDD consisting of lines.\n",
    "#### We want to remove the header from the file, so the parseDataFileLine function identifies lines starting with 'beer_id' and applies a flag of 0, other lines with the correct number of fields are flagged 1, and incorrect lines are flagged -1.  The lines are split into arrays."
   ]
  },
  {
   "cell_type": "code",
   "execution_count": 1,
   "metadata": {
    "collapsed": false
   },
   "outputs": [],
   "source": [
    "import re\n",
    "\n",
    "def parseDatafileLine(datafileLine):\n",
    "    ##Parse a line of the data file using the specified regular expression pattern\n",
    "    splitArray = datafileLine.split(\"\\t\")\n",
    "    for x in range(0,len(splitArray)):\n",
    "        splitArray[x]=splitArray[x].replace(\"\\\"\",'')\n",
    "    #print len(splitArray)\n",
    "    #print splitArray[0],splitArray[1],splitArray[2]\n",
    "    if splitArray[0]=='beer_id':\n",
    "        return (splitArray,0)\n",
    "    elif len(splitArray)<>23:\n",
    "        ##this is a failed parse\n",
    "        return (splitArray,-1)\n",
    "    else:\n",
    "        return (splitArray, 1)"
   ]
  },
  {
   "cell_type": "markdown",
   "metadata": {},
   "source": [
    "### Reading the file\n",
    "#### We read the file into three rdds by first parsing the file as above, the header rdd, failed rdd and the valid rdd.  Print the header names so we can remember what fields we're dealing with and in what order."
   ]
  },
  {
   "cell_type": "code",
   "execution_count": 2,
   "metadata": {
    "collapsed": false,
    "scrolled": false
   },
   "outputs": [
    {
     "name": "stdout",
     "output_type": "stream",
     "text": [
      "0 beer_id\n",
      "1 beer_name\n",
      "2 brewer_name\n",
      "3 beer_style\n",
      "4 distribution\n",
      "5 brewery_location\n",
      "6 commercial_desc\n",
      "7 RATINGS: \n",
      "8 MEAN (/5)\n",
      "9 WEIGHTED AVG\n",
      "10 EST. CALORIES\n",
      "11 ABV (%)\n",
      "12 IBU\n",
      "13 SCORE\n",
      "14 AROMA (/10)\n",
      "15 APPEARANCE(/5)\n",
      "16 TASTE(/10)\n",
      "17 PALATE(/5)\n",
      "18 OVERALL(/20)\n",
      "19 reviewer_name\n",
      "20 review_location\n",
      "21 review_date\n",
      "22 review_content\n",
      "AllBeer.txt - Read 240355 lines, successfully parsed 240354 lines, failed to parse 0 lines\n"
     ]
    }
   ],
   "source": [
    "import sys\n",
    "import os\n",
    "\n",
    "baseDir = os.path.join('')\n",
    "allBeer_Path = 'AllBeer.txt'\n",
    "STOPWORDS_PATH = 'stopwords.txt'\n",
    "\n",
    "def parseData(filename):\n",
    "    #Parse a data file returns a RDD of parsed lines\n",
    "    \n",
    "    return (sc\n",
    "            .textFile(filename, 4, 0)\n",
    "            .map(parseDatafileLine)\n",
    "            .cache())\n",
    "\n",
    "def loadData(path):\n",
    "    ##Load a data file, returns a RDD of parsed valid lines\n",
    "    \n",
    "    filename = os.path.join(baseDir, path)\n",
    "    raw = parseData(filename).cache()\n",
    "    failed = (raw\n",
    "              .filter(lambda s: s[1] == -1)\n",
    "              .map(lambda s: s[0]))\n",
    "    for line in failed.take(10):\n",
    "        print '%s - Invalid datafile line: %s' % (path, line)\n",
    "    valid = (raw\n",
    "             .filter(lambda s: s[1] == 1)\n",
    "             .map(lambda s: s[0])\n",
    "             .cache())\n",
    "    header = (raw\n",
    "              .filter(lambda s: s[1]==0)\n",
    "             .map(lambda s:s[0])\n",
    "             )\n",
    "    for line in header.take(1):\n",
    "        for x in range(0,len(line)):\n",
    "            print x,line[x]\n",
    "            \n",
    "    rawLines = raw.count()\n",
    "    validLines = valid.count()\n",
    "    failedLines = failed.count()\n",
    "    print '%s - Read %d lines, successfully parsed %d lines, failed to parse %d lines' % (path, rawLines, validLines,failedLines)\n",
    "    return valid\n",
    "    \n",
    "allBeer = loadData(allBeer_Path)\n",
    "#allReviews = loadData(allReviews_Path)"
   ]
  },
  {
   "cell_type": "markdown",
   "metadata": {},
   "source": [
    "### Let's examine the first few entries of a sample of 5 lines to check if things look ok."
   ]
  },
  {
   "cell_type": "code",
   "execution_count": 3,
   "metadata": {
    "collapsed": false,
    "scrolled": true
   },
   "outputs": [
    {
     "name": "stdout",
     "output_type": "stream",
     "text": [
      "23\n",
      "allBeer: 40920, Wernecker Haustrunk Pils, Wernecker Bierbrauerei, Pilsener, distribution unknown\n",
      "\n",
      "23\n",
      "allBeer: 21911, Au Ma'tre Brasseur La Boucaneuse, AMB - Ma'tre Brasseur, Smoked, distribution unknown\n",
      "\n",
      "23\n",
      "allBeer: 4991, New Albanian / Struise Naughty Girl, New Albanian Brewing Company, India Pale Ale (IPA), Regional Distribution\n",
      "\n",
      "23\n",
      "allBeer: 38430, BrewDog IPA is Dead - Pioneer, BrewDog, India Pale Ale (IPA), Broad Distribution\n",
      "\n",
      "23\n",
      "allBeer: 41353, Cascade Cerise Nouveau, Cascade Brewing, Sour/Wild Ale, Local Distribution\n",
      "\n"
     ]
    }
   ],
   "source": [
    "sampleArray=allBeer.takeSample(False,5,1)\n",
    "for line in sampleArray:\n",
    "    print len(line)\n",
    "    print 'allBeer: %s, %s, %s, %s, %s\\n' % (line[0], line[1], line[2],line[3],line[4])"
   ]
  },
  {
   "cell_type": "markdown",
   "metadata": {},
   "source": [
    "### Now we'll split the data into a training set (80%) and test set (%20).  \n",
    "#### This is slightly complicated by the fact that we want to split each user into 80/20, not the set of reviews as a whole.  We will take advantage of stratified sampling in Spark, grouping the reviews by the user name, then sampling by key.  To get the unused data we employ subtractByKey using a compound key of the username and the beer_id, guaranting uniqueness."
   ]
  },
  {
   "cell_type": "code",
   "execution_count": 4,
   "metadata": {
    "collapsed": false,
    "scrolled": true
   },
   "outputs": [
    {
     "name": "stdout",
     "output_type": "stream",
     "text": [
      "240334\n",
      "192441\n",
      "47913\n"
     ]
    }
   ],
   "source": [
    "##Using the allBeer array, take stratified sample, and remove blank reviews.\n",
    "beerByUser = allBeer.map(lambda x:(x[19],x)).filter(lambda (x,y):y[22]!='')\n",
    "sampleKeys = beerByUser.keys().collect()\n",
    "fractions={}\n",
    "for k in sampleKeys:\n",
    "    fractions[k]=0.8\n",
    "    \n",
    "beerTrain = beerByUser.sampleByKey(False,fractions).cache()\n",
    "beerTrainKeyed = beerTrain.map(lambda (x,y):(y[0]+y[19],y))\n",
    "beerTest = allBeer.map(lambda x:(x[0]+x[19],x)).subtractByKey(beerTrainKeyed).map(lambda (x,y):(y[19],y)).cache()\n",
    "print beerByUser.count()\n",
    "print beerTrain.count()\n",
    "print beerTest.count()"
   ]
  },
  {
   "cell_type": "markdown",
   "metadata": {},
   "source": [
    "### Let's examine the results with a couple of random users."
   ]
  },
  {
   "cell_type": "code",
   "execution_count": 5,
   "metadata": {
    "collapsed": false,
    "scrolled": true
   },
   "outputs": [
    {
     "name": "stdout",
     "output_type": "stream",
     "text": [
      "The user patricks110 has 79 reviews, split into 57 Train and 22 Test\n",
      "The user slowrunner77 has 623 reviews, split into 489 Train and 134 Test\n"
     ]
    }
   ],
   "source": [
    "from numpy.random import random_integers\n",
    "##find a random user and print out the train and test set.\n",
    "randomUsers = random_integers(1,len(sampleKeys),2)\n",
    "sampleUserReviewCount = beerByUser.filter(lambda (x,y):x==sampleKeys[randomUsers[0]]).count()\n",
    "sampleUserTrainCount = beerTrain.filter(lambda (x,y):x==sampleKeys[randomUsers[0]]).count()\n",
    "sampleUserTestCount = beerTest.filter(lambda (x,y):x==sampleKeys[randomUsers[0]]).count()\n",
    "print \"The user %s has %d reviews, split into %d Train and %d Test\" % (sampleKeys[randomUsers[0]],sampleUserReviewCount,sampleUserTrainCount,sampleUserTestCount)\n",
    "\n",
    "sampleUserReviewCount = beerByUser.filter(lambda (x,y):x==sampleKeys[randomUsers[1]]).count()\n",
    "sampleUserTrainCount = beerTrain.filter(lambda (x,y):x==sampleKeys[randomUsers[1]]).count()\n",
    "sampleUserTestCount = beerTest.filter(lambda (x,y):x==sampleKeys[randomUsers[1]]).count()\n",
    "print \"The user %s has %d reviews, split into %d Train and %d Test\" % (sampleKeys[randomUsers[1]],sampleUserReviewCount,sampleUserTrainCount,sampleUserTestCount)"
   ]
  },
  {
   "cell_type": "markdown",
   "metadata": {},
   "source": [
    "### Scale the reviews:\n",
    "#### Each user has a different way of scoring beers, some people judge more harshly than others.  In order to even out these scores, we get get statistics for each user and adjust their scores to fit a common distribution.  In this particular case we use a normal distribution for it's simplicity to execute.  Users with 1 or less reviews will have a standard deviation of 0, in which case we substitute 1 to ensure the division when obtaining z-scores we will not divide by zero."
   ]
  },
  {
   "cell_type": "code",
   "execution_count": 6,
   "metadata": {
    "collapsed": false
   },
   "outputs": [
    {
     "name": "stdout",
     "output_type": "stream",
     "text": [
      "[('Lubiere', ['22524', 'Brutopia Gold n Wheat', 'Brutopia', 'Wheat Ale', 'distribution unknown', 'Montreal, Canada', 'No commercial description', '6.000', '2.980', '2.870', '', '', '', -0.05648804325138059, '6.000', '3.000', '7.000', '3.000', 0.21007660350402088, 'Lubiere', 'Ottawa, Ontario, CANADA ', 'APR 3, 2004 ', 'Golden clear beer with a fresh malt and cookie nose, and a pleasant aroma of hops. Nice crisp matly taste with some lactic /milkery notes, with a touch of lemon, and the light hoips which linger on pleasantly. Medium body for a lighter beer. ']), ('adnielsen', ['26927', 'Hill Farmstead Genealogy of Morals - Bourbon', 'Hill Farmstead Brewery', 'Imperial Stout', 'Local Distribution', 'Greensboro , Vermont USA', 'An Imperial Stout brewed with Wheat and Coffee and aged in Bourbon barrels from our favorite distilleries...', '97.000', '', '4.110', '300.000', '10.000', '', 1.4296487759258447, '9.000', '4.000', '8.000', '4.000', 1.5272391508510978, 'adnielsen', 'Fort Collins, Colorado, USA ', 'DEC 25, 2014', 'Bottle @ home. Christmas Eve 2014 with jcnielsen. Pours a black appearance with a brown head. Big sweet dark chocolate and toffee in the aroma with smooth whiskey, caramel, and coconut. Creamy mouth feel. Moderate high sweetness. Moderate low bitterness. Lots of coconut and whiskey in the flavor. Pretty fucken tasty. ']), ('Thorpe429', ['2118', 'Upright Sole Composition: Jaune Quatre (Gin Barrel)', 'Upright Brewing', 'Saison', 'distribution unknown', 'Portland , Oregon USA', 'Single cask batch of Four aged 3 months in Ransom Old Tom Gin barrels with dry chrysanthemum flowers as well as homegrown yellow rose petals.', '20.000', '3.850', '3.590', '135.000', '4.500', '', -0.09674685409875738, '6.000', '4.000', '6.000', '4.000', -0.1548815833814837, 'Thorpe429', ', Illinois, USA ', 'DEC 2, 2012 ', 'Big thanks to boralyl for sending this out my way. Served in a tumbler. Clear golden-peach color. The nose is slightly gin-like with some floral and earthy nights. The flavor is a bit spicy with floral notes. Touch of pepper. Very light and crisp. ']), ('hopdog', ['9114', 'Iron Hill Ore House IPA', 'Iron Hill Maple Shade', 'India Pale Ale (IPA)', 'Regional Distribution', 'Maple Shade , New Jersey USA', 'Golden IPA with a balanced hop bitterness and wonderful citrus and pine aroma and flavor.', '15.000', '3.620', '3.480', '201.000', '6.700', '60.000', 0.22345223340823162, '7.000', '3.000', '7.000', '3.000', 0.4067270872805663, 'hopdog', 'Lansdale, Pennsylvania, USA ', 'DEC 22, 2014', 'Tasted from Growler. Poured a golden color with an off white head. Citrus with pine. Some caramel in the tastes.']), ('firefly765', ['11832', 'Lagunitas Dogtown Pale Ale', 'Lagunitas Brewing Company', 'American Pale Ale', 'Regional Distribution', 'Petaluma , California USA', 'Medium amber malty American pale ale', '353.000', '', '3.400', '192.000', '6.400', '', -0.9171610478088179, '4.000', '4.000', '7.000', '5.000', -0.5773502691896258, 'firefly765', '', 'MAY 23, 2015', 'Pint draft at the brass tap in Bonita Springs. Light copper in color with a nice white frothy head. Not much aroma to speak of. Light bodied and crisp nice hops balance. Smooth and goes down easy low level of carbonation. '])]\n"
     ]
    }
   ],
   "source": [
    "from math import sqrt\n",
    "##13 SCORE\n",
    "##14 AROMA (/10)\n",
    "##15 APPEARANCE(/5)\n",
    "##16 TASTE(/10)\n",
    "##17 PALATE(/5)\n",
    "##18 OVERALL(/20)\n",
    "\n",
    "def replaceZeroes(inputValue,replacementValue):\n",
    "    if inputValue == 0:\n",
    "        inputValue = replacementValue\n",
    "    return inputValue\n",
    "\n",
    "def subtractFromColumn(inputList,columnToChange,subtractAmount):\n",
    "    inputList[columnToChange]=float(inputList[columnToChange])-subtractAmount\n",
    "    return inputList\n",
    "\n",
    "def divideColumn(inputList,columnToChange,divisor):\n",
    "    inputList[columnToChange]=float(inputList[columnToChange])/divisor\n",
    "    return inputList\n",
    "\n",
    "\n",
    "### rewrite this to be RDD of (key,everything else) and return (key, everything with normalized column x)\n",
    "### Then run a few times and cache, and move this up into the preliminaries (post split)\n",
    "def normalizeScoreByKey(inputRDD,scoreColumn):\n",
    "    ##Takes in RDD of (key,array) and \n",
    "    ##returns RDD of (key,array with scoreColumn normalized)\n",
    "    sumScores = inputRDD.map(lambda (x,y):(x,float(y[scoreColumn]))).reduceByKey(lambda a,b:a+b)\n",
    "    #print sumScores.map(lambda (x,y):y).reduce(lambda a,b:a+b)\n",
    "    countScoresPerKey = inputRDD.map(lambda (x,y):(x,1)).reduceByKey(lambda a,b:a+b)\n",
    "    #print countKeys.map(lambda (x,y):y).reduce(lambda a,b:a+b)\n",
    "    averageScores = sumScores.join(countScoresPerKey).map(lambda (x,y):(x,y[0]/y[1]))\n",
    "    #print averageScores.takeSample(False,5,3)\n",
    "    centredScores = inputRDD.join(averageScores).map(lambda (x,(y,z)):(x,subtractFromColumn(y,scoreColumn,z)))\n",
    "    #print centredScores.map(lambda (x,y):y[scoreColumn]).reduce(lambda a,b:a+b)\n",
    "    centredScoresSquaredSum = centredScores.map(lambda (x,y):(x,y[scoreColumn]*y[scoreColumn])).reduceByKey(lambda a,b:a+b)\n",
    "    centredScoresSquaredSumAndCount = centredScoresSquaredSum.join(countScoresPerKey)\n",
    "    stdDeviationByKey = centredScoresSquaredSumAndCount.map(lambda (x,y):(x,sqrt(y[0]/y[1])))\n",
    "    ##This is actually pointless since a centred score is 0 and 0/anything = 0\n",
    "    ##countLines = stdDeviationByUser.count()\n",
    "    ##avgStdDev = stdDeviationByUser.map(lambda (x,y):y).reduce(lambda a,b:a+b)/countLines\n",
    "    stdDeviationByKeyNoZero = stdDeviationByKey.map(lambda (x,y):(x,replaceZeroes(y,1)))\n",
    "    normalizedRDD = centredScores.join(stdDeviationByKeyNoZero).map(lambda (x,(y,z)):(x,divideColumn(y,scoreColumn,z)))\n",
    "    return normalizedRDD\n",
    "\n",
    "##Normalize the Scores\n",
    "normalizedScores = normalizeScoreByKey(beerTrain,13)\n",
    "##Normalize the rest of the ratings\n",
    "#beerTrainNormA = normalizeScoreByKey(normalizedScores,14)\n",
    "#beerTrainNormB = normalizeScoreByKey(beerTrainNormA,15)\n",
    "#beerTrainNormC = normalizeScoreByKey(beerTrainNormB,16)\n",
    "#beerTrainNormD = normalizeScoreByKey(beerTrainNormC,17)\n",
    "beerTrainNormalized = normalizeScoreByKey(normalizedScores,18).cache()\n",
    "\n",
    "print beerTrainNormalized.takeSample(False,5,4)\n"
   ]
  },
  {
   "cell_type": "markdown",
   "metadata": {},
   "source": [
    "### **Normalized Histograms**\n",
    "#### Plot histograms of the normalized ratings to check to see if normality approximately holds.\n",
    "#### Clearly score and overall are not normal, skewed right.  This would imply that when people hate a beer, they're more willing to review it harshly than they are willing to give a glowing review to a beer they love."
   ]
  },
  {
   "cell_type": "code",
   "execution_count": 7,
   "metadata": {
    "collapsed": false
   },
   "outputs": [
    {
     "data": {
      "image/png": "[encoded data removed]",
      "text/plain": [
       "<matplotlib.figure.Figure at 0x5376210>"
      ]
     },
     "metadata": {},
     "output_type": "display_data"
    },
    {
     "data": {
      "image/png": "[encoded data removed]",
      "text/plain": [
       "<matplotlib.figure.Figure at 0x524a190>"
      ]
     },
     "metadata": {},
     "output_type": "display_data"
    }
   ],
   "source": [
    "import matplotlib.pyplot as plt\n",
    "%matplotlib inline\n",
    "##Get all the normalized scores into one list.\n",
    "scoreValues = beerTrainNormalized.map(lambda (x,y): y[13]).collect()\n",
    "fig = plt.figure(figsize=(8,3))\n",
    "plt.title('Normalized Scores')\n",
    "plt.hist(scoreValues, 50, log=False)\n",
    "overallValues = beerTrainNormalized.map(lambda (x,y): y[18]).collect()\n",
    "fig = plt.figure(figsize=(8,3))\n",
    "plt.title('Normalized Overall')\n",
    "plt.hist(overallValues, 50, log=False)\n",
    "pass"
   ]
  },
  {
   "cell_type": "markdown",
   "metadata": {},
   "source": [
    "### Step 1: Making Bags of Words\n",
    "#### We can take the commercial descriptions and the user input text reviews and convert them into bags of words, we can then treat each word as a feature.  \n",
    "#### We should take out stopwords before we do this, to avoid unfairly weighting reviews based on words which don't contribute much meaning, such as \"the\", \"a\", \"is\", \"which\", etc."
   ]
  },
  {
   "cell_type": "code",
   "execution_count": 8,
   "metadata": {
    "collapsed": false,
    "scrolled": false
   },
   "outputs": [
    {
     "name": "stdout",
     "output_type": "stream",
     "text": [
      "These are the stopwords: set([u'all', u'just', u'being', u'over', u'both', u'through', u'yourselves', u'its', u'before', u'with', u'had', u'should', u'to', u'only', u'under', u'ours', u'has', u'do', u'them', u'his', u'very', u'they', u'not', u'during', u'now', u'him', u'nor', u'did', u'these', u't', u'each', u'where', u'because', u'doing', u'theirs', u'some', u'are', u'our', u'ourselves', u'out', u'what', u'for', u'below', u'does', u'above', u'between', u'she', u'be', u'we', u'after', u'here', u'hers', u'by', u'on', u'about', u'of', u'against', u's', u'or', u'own', u'into', u'yourself', u'down', u'your', u'from', u'her', u'whom', u'there', u'been', u'few', u'too', u'themselves', u'was', u'until', u'more', u'himself', u'that', u'but', u'off', u'herself', u'than', u'those', u'he', u'me', u'myself', u'this', u'up', u'will', u'while', u'can', u'were', u'my', u'and', u'then', u'is', u'in', u'am', u'it', u'an', u'as', u'itself', u'at', u'have', u'further', u'their', u'if', u'again', u'no', u'when', u'same', u'any', u'how', u'other', u'which', u'you', u'who', u'most', u'such', u'why', u'a', u'don', u'i', u'having', u'so', u'the', u'yours', u'once'])\n",
      "['test', 'tf', 'function', 'return', 'non', 'stopword', 'frequencies', 'frequency', 'sourness']\n"
     ]
    }
   ],
   "source": [
    "stopfile = os.path.join(baseDir, STOPWORDS_PATH)\n",
    "stopwords = set(sc.textFile(stopfile).collect())\n",
    "testString = \"This is a test of the tf function.  It should return non stopword frequencies frequency sourness\"\n",
    "print 'These are the stopwords: %s' % stopwords\n",
    "split_regex = r'\\W+'\n",
    "\n",
    "#from nltk.stem.porter import PorterStemmer\n",
    "#Stmmr = PorterStemmer()\n",
    "\n",
    "def tokenize(string):\n",
    "    ##takes in a string and tokenizes it, removing stopwords, returns list\n",
    "    simple=filter(None,re.split(split_regex,string.lower()))\n",
    "    #simple = [Stmmr.stem(i) for i in simple]\n",
    "    return [i for i in simple if i not in stopwords]\n",
    "\n",
    "print tokenize(testString)"
   ]
  },
  {
   "cell_type": "markdown",
   "metadata": {},
   "source": [
    "### **Tokenizing the Commercial Description and Review**\n",
    "#### Now tokenize the commercial descriptions and reviews. \n",
    "#### To see how much data we're dealing with let's count the total number of tokens."
   ]
  },
  {
   "cell_type": "code",
   "execution_count": 9,
   "metadata": {
    "collapsed": false,
    "scrolled": true
   },
   "outputs": [
    {
     "name": "stdout",
     "output_type": "stream",
     "text": [
      "There are 4672914 tokens in the commercial descriptions\n",
      "There are 6680826 tokens in the reviews\n"
     ]
    }
   ],
   "source": [
    "##6 commercial description\n",
    "##22 user input review\n",
    "##make an RDD where the user_id is the key, and the value is 2 arrays of tokens \n",
    "##and the original line\n",
    "beerTrainToToken = beerTrainNormalized.map(lambda (x,y):(y[19],(tokenize(y[6]),tokenize(y[22]),y)))\n",
    "\n",
    "def countTokens(textRDD,reviewTRUE):\n",
    "    ## Count and return the number of tokens\n",
    "    if reviewTRUE==True:\n",
    "        return textRDD.map(lambda (x,y):len(y[1])).reduce(lambda a,b:a+b)\n",
    "    else:\n",
    "        return textRDD.map(lambda (x,y):len(y[0])).reduce(lambda a,b:a+b)\n",
    "\n",
    "print 'There are %s tokens in the commercial descriptions' % countTokens(beerTrainToToken,False)\n",
    "print 'There are %s tokens in the reviews' % countTokens(beerTrainToToken,True)"
   ]
  },
  {
   "cell_type": "markdown",
   "metadata": {},
   "source": [
    "### Let's get an idea of how big a review is"
   ]
  },
  {
   "cell_type": "code",
   "execution_count": 10,
   "metadata": {
    "collapsed": false,
    "scrolled": true
   },
   "outputs": [
    {
     "name": "stdout",
     "output_type": "stream",
     "text": [
      "The review from user \"SlovakSniper\" has the most tokens (579)\n",
      "The review from user \"Shurf\" has the least tokens (0)\n"
     ]
    }
   ],
   "source": [
    "def findBiggestRecord(textRDD,reviewTRUE):\n",
    "    # Find and return the record with the largest number of tokens\n",
    "    if reviewTRUE==True:\n",
    "        return textRDD.takeOrdered(1,lambda (x,y):-len(y[1]))\n",
    "    else:\n",
    "        return textRDD.takeOrdered(1,lambda (x,y):-len(y[0]))\n",
    "\n",
    "def findSmallestRecord(textRDD,reviewTRUE):\n",
    "    # Find and return the record with the largest number of tokens\n",
    "    if reviewTRUE==True:\n",
    "        return textRDD.takeOrdered(1,lambda (x,y):len(y[1]))\n",
    "    else:\n",
    "        return textRDD.takeOrdered(1,lambda (x,y):len(y[0]))\n",
    "\n",
    "biggestReview = findBiggestRecord(beerTrainToToken,True)\n",
    "print 'The review from user \"%s\" has the most tokens (%s)' % (biggestReview[0][0],\n",
    "                                                                   len(biggestReview[0][1][1]))\n",
    "smallestReview = findSmallestRecord(beerTrainToToken,True)\n",
    "print 'The review from user \"%s\" has the least tokens (%s)' % (smallestReview[0][0], len(smallestReview[0][1][1]))"
   ]
  },
  {
   "cell_type": "markdown",
   "metadata": {},
   "source": [
    "### So clearly we've got some reviews that are empty, and we'll need some special handling for those."
   ]
  },
  {
   "cell_type": "markdown",
   "metadata": {},
   "source": [
    "### **Step 2: Weighted Bag-of-Words using TF-IDF**\n",
    "\n",
    "### Term Frequency (TF) \n",
    "#### This gives higher weight to tokens that appear many times in a individual document. It is computed as the frequency of a token in a document. If a word occurs often in a document, then it is more important to the meaning of the document."
   ]
  },
  {
   "cell_type": "code",
   "execution_count": 11,
   "metadata": {
    "collapsed": false,
    "scrolled": true
   },
   "outputs": [
    {
     "name": "stdout",
     "output_type": "stream",
     "text": [
      "{'function': 0.14285714285714285, 'non': 0.14285714285714285, 'return': 0.14285714285714285, 'frequencies': 0.14285714285714285, 'stopword': 0.14285714285714285, 'tf': 0.14285714285714285, 'test': 0.14285714285714285}\n"
     ]
    }
   ],
   "source": [
    "testString = \"This is a test of the tf function.  It should return non stopword frequencies\"\n",
    "def tf(tokens):\n",
    "    ###Compute TF from list of tokens, return dictionary of word:tf\n",
    "    count = len(tokens)\n",
    "    words={}\n",
    "    for token in tokens:\n",
    "        words[token]=float(len([t for t in tokens if t==token]))/count\n",
    "    return words\n",
    "\n",
    "print tf(tokenize(testString))"
   ]
  },
  {
   "cell_type": "markdown",
   "metadata": {},
   "source": [
    "### Inverse Document Frequency\n",
    "#### This gives higher weight to tokens that are rare over the entire dataset. The rationale is two documents are more alike if they have in common words which are not common to rest data set.  IDF weight for a token in a set of documents is calculated as D/d(t) where D is the total number of documents and d(t) is the number of documents with term t.  \n",
    "#### Keep in mind that the dataset for IDF is not the whole dataset, but the set of reviews for a particular user.  We want to find out what is special to that individual."
   ]
  },
  {
   "cell_type": "code",
   "execution_count": 12,
   "metadata": {
    "collapsed": false
   },
   "outputs": [
    {
     "name": "stdout",
     "output_type": "stream",
     "text": [
      "[('Chrism86', {'shop': 9.0, 'summer': 9.0, 'interpretation': 9.0, 'stlye': 9.0, 'offensive': 9.0, 'bad': 9.0, 'cheap': 9.0, 'fizzy': 9.0, 'abit': 9.0, 'bring': 9.0, 'mild': 4.5, 'citrusy': 9.0, 'looks': 9.0, 'roasted': 4.5, 'go': 9.0, 'earth': 9.0, 'alternative': 9.0, 'still': 9.0, 'bock': 9.0, 'apple': 9.0, 'style': 4.5, '21': 9.0, 'faults': 9.0, 'hops': 9.0, 'interesting': 9.0, 'honey': 4.5, 'seems': 9.0, 'character': 9.0, 'actually': 9.0, 'going': 4.5, 'black': 9.0, 'easy': 9.0, '8': 9.0, 'toffee': 9.0, 'real': 4.5, 'brown': 4.5, 'updated': 2.25, 'good': 4.5, 'dominant': 9.0, 'abv': 9.0, 'citrus': 9.0, 'familiar': 9.0, 'astringent': 9.0, 'overall': 9.0, 'none': 4.5, 'coloured': 4.5, 'dark': 3.0, 'made': 4.5, 'fan': 9.0, 'know': 9.0, 'stout': 9.0, 'drinking': 9.0, 'like': 9.0, 'peculier': 9.0, 'd': 9.0, 'malt': 1.5, 'notes': 4.5, 'didn': 9.0, 'loosely': 9.0, 'biscuity': 9.0, 'lightning': 9.0, 'benefit': 9.0, 'caramel': 4.5, 'common': 9.0, 'roast': 9.0, 'nz': 9.0, 'enhance': 9.0, 'nice': 2.25, 'round': 9.0, 'apples': 9.0, 'sep': 9.0, 've': 9.0, 'cider': 9.0, 'back': 4.5, 'synergy': 9.0, 'detection': 9.0, 'rusty': 9.0, 'sure': 9.0, 'carbonation': 4.5, 'thorogoods': 9.0, 'pale': 4.5, 'packed': 9.0, 'really': 4.5, 'lead': 9.0, 'away': 9.0, 'espresso': 9.0, 'musty': 9.0, 'hazy': 9.0, 'tend': 9.0, 'dispersed': 9.0, 'dominated': 9.0, '7': 9.0, 'prune': 9.0, 'aussie': 9.0, 'dominate': 9.0, 'across': 9.0, 'red': 9.0, 'shows': 9.0, 'body': 9.0, 'perception': 9.0, 'wheat': 9.0, 'doppel': 9.0, 'slight': 9.0, 'pours': 1.5, 'pils': 9.0, 'quite': 9.0, 'decent': 4.5, 'surely': 9.0, 'sweetened': 9.0, 'served': 9.0, 'menacing': 9.0, 'tried': 9.0, 'mullet': 9.0, 'bronze': 9.0, 'dry': 3.0, 'great': 9.0, 'technical': 9.0, 'hinting': 9.0, 'aromas': 3.0, 'raisin': 9.0, 'oatmeal': 9.0, 'agree': 9.0, 'thing': 4.5, 'amount': 9.0, 'expecting': 9.0, 'isn': 4.5, 'smoke': 9.0, 'pick': 9.0, 'lacked': 9.0, 'sweetness': 4.5, 'think': 9.0, 'comes': 9.0, 'amber': 4.5, 'golden': 3.0, 'piney': 9.0, 'whats': 9.0, 'characters': 3.0, 'presence': 9.0, 'sweet': 9.0, 'one': 9.0, 'undesirable': 9.0, 'lively': 4.5, 'murky': 9.0, 'flavoursome': 9.0, 'thick': 4.5, 'apa': 9.0, 'nose': 1.5, 'ash': 9.0, 'much': 3.0, 'would': 4.5, 'tasting': 9.0, 'assumed': 9.0, 'earthy': 9.0, 'realise': 9.0, 'least': 9.0, 'quickly': 4.5, 'beer': 9.0, 'poured': 2.25, 'lot': 9.0, 'forward': 9.0, 'lacing': 4.5, 'bitter': 4.5, 'oily': 9.0, 'thrown': 9.0, 'head': 1.125, 'medium': 9.0, 'finishes': 4.5, 'name': 9.0, 'brings': 4.5, 'tangy': 3.0, 'shattering': 9.0, 'expected': 9.0, 'tending': 9.0, 'beers': 9.0, 'heap': 9.0, 'white': 2.25, 'spice': 9.0, 'albeit': 9.0, 'kind': 9.0, '12': 9.0, 'wise': 9.0, 'dissapears': 9.0, 'tang': 9.0, 'straight': 9.0, 'grainy': 9.0, 'bitterness': 3.0, 'left': 9.0, 'suppose': 9.0, 'thin': 9.0, 'fruits': 9.0, 'detectable': 9.0, 'grass': 9.0, 'didnt': 9.0, 'leaves': 9.0, 'darker': 9.0, 'due': 9.0, 'palate': 1.0, 'reserved': 9.0, 'grassy': 9.0, 'tar': 9.0, '2009': 3.0, 'almost': 4.5, 'exceptionally': 9.0, 'year': 9.0, 'deep': 9.0, 'tad': 4.5, 'say': 9.0, 'substantial': 3.0, 'something': 9.0, 'sense': 9.0, 'tan': 9.0, 'well': 9.0, 'oxidised': 9.0, 'huge': 9.0, 'needs': 9.0, 'lemon': 9.0, 'etc': 9.0, 'rather': 4.5, 'yellow': 4.5, 'reminded': 9.0, 'exception': 9.0, 'adjunct': 9.0, 'also': 4.5, 'high': 4.5, 'complex': 9.0, 'popping': 4.5, 'hop': 4.5, 'department': 9.0, 'grain': 9.0, 'malts': 9.0, 'oz': 9.0, 'finish': 1.5, 'alot': 9.0, 'see': 9.0, 'though': 9.0, 'may': 4.5, 'knew': 9.0, 'upon': 9.0, 'drives': 9.0, 'ball': 9.0, 'falls': 9.0, 'driven': 9.0, 'm': 4.5, 'fruit': 3.0, 'significant': 9.0, 'realised': 9.0, 'nothing': 4.5, 'overt': 9.0, 'citrussy': 9.0, 'early': 9.0, 'winey': 9.0, 'short': 9.0, 'tested': 9.0, 'clear': 9.0, 'curve': 9.0, 'mar': 9.0, 'perhaps': 9.0, 'hugely': 9.0, 'time': 9.0, 'serious': 9.0, '2008': 9.0, 'pretty': 3.0, 'typical': 9.0}), ('shdougan', {'summer': 2.0, 'citrusy': 2.0, 'sweetness': 2.0, 'earth': 2.0, 'yet': 2.0, 'perfect': 2.0, 'cherry': 2.0, 'tickle': 2.0, 'grapefruit': 2.0, 'easy': 2.0, 'familiar': 2.0, 'dark': 2.0, 'cedar': 2.0, 'gem': 2.0, 'like': 2.0, 'caramels': 2.0, 'name': 2.0, 'eve': 2.0, 'large': 2.0, 'caramel': 2.0, 'nose': 2.0, 'brewing': 2.0, 'nice': 2.0, 'sensation': 2.0, 'carbonation': 2.0, 'lead': 2.0, 'slick': 2.0, 'hazy': 1.0, 'goes': 2.0, 'red': 2.0, 'body': 2.0, 'full': 2.0, 'pours': 2.0, 'burn': 2.0, 'let': 2.0, 'plum': 2.0, 'aromas': 2.0, 'days': 2.0, 'forgotten': 2.0, 'slightly': 2.0, 'first': 2.0, 'amber': 2.0, 'copper': 2.0, 'already': 2.0, 'followed': 2.0, 'sweet': 1.0, 'teasing': 2.0, 'one': 2.0, 'wasn': 2.0, 'smells': 2.0, 'pouring': 2.0, 'long': 2.0, 'tropical': 2.0, 'beer': 1.0, 'wood': 2.0, 'way': 2.0, 'white': 2.0, 'bitter': 2.0, 'oily': 2.0, 'head': 1.0, 'medium': 1.0, 'north': 2.0, 'brings': 2.0, 'back': 2.0, 'foamy': 1.0, 'mouthfeel': 1.0, 'bitterness': 2.0, 'whiskey': 2.0, 'light': 2.0, 'balance': 2.0, 'beautiful': 2.0, 'tan': 2.0, 'sip': 2.0, 'winter': 2.0, 'fitting': 2.0, 'definitely': 1.0, 'take': 2.0, 'malty': 2.0, 'beach': 2.0, 'tart': 2.0, 'finish': 2.0, 'backbone': 2.0, 'upon': 2.0, 'warming': 2.0, 'refreshing': 2.0, 'bodied': 2.0, 'mango': 2.0, 'brew': 2.0, 'berries': 2.0})]\n"
     ]
    }
   ],
   "source": [
    "def countEachToken(listOfTokens):\n",
    "    ##Count the number of times each token appears in the list\n",
    "    tokenSet = list(set(listOfTokens))\n",
    "    tokenDict={}\n",
    "    for token in tokenSet:\n",
    "        tokenDict[token]=0\n",
    "    for token in listOfTokens:\n",
    "        tokenDict[token]=tokenDict[token]+1\n",
    "    return tokenDict\n",
    "\n",
    "def divideIntByDict(inputDict,inputInt):\n",
    "    for entry in inputDict:\n",
    "        inputDict[entry]=float(inputInt)/float(inputDict[entry])\n",
    "    return inputDict\n",
    "\n",
    "\n",
    "def IDFByKey(keyCorpus):\n",
    "    uniqueTokens = keyCorpus.map(lambda (x,y):(x,list(set(y))))\n",
    "    tokensByKey = uniqueTokens.reduceByKey(lambda a,b:a+b)\n",
    "    tokensCountByKey = tokensByKey.map(lambda (x,y):(x,countEachToken(y)))\n",
    "    countDocsByKey=keyCorpus.map(lambda (x,y):(x,1)).reduceByKey(lambda a,b:a+b)\n",
    "    countDocsAndTokensByKey = tokensCountByKey.join(countDocsByKey)\n",
    "    IDF=countDocsAndTokensByKey.map(lambda (x,y):(x,divideIntByDict(y[0],y[1])))\n",
    "    return IDF\n",
    "\n",
    "#RDD of (beer_id,text)\n",
    "reviewTokens = beerTrainToToken.map(lambda (x,y):(x,y[1]))\n",
    "reviewIDF=IDFByKey(reviewTokens)\n",
    "print reviewIDF.takeSample(False,2,1)"
   ]
  },
  {
   "cell_type": "markdown",
   "metadata": {},
   "source": [
    "### **Implement a TF-IDF function**\n",
    "#### We want to weight the individual features (words) by the user's given scores.  This should increase the weightings of words used only in positive reviews and greatly increase rare words in positive reviews.  We then create an RDD of (key, dictionary) where the dictionary is a ranked collection of each user's individual preferences.  We have a customized set of features which indicate what a user likes.\n",
    "\n",
    "#### We then sum across all users and reviews to get a weighted feature set which pushes important words to the top and bottom of the list and unimportant words to the middle."
   ]
  },
  {
   "cell_type": "code",
   "execution_count": 13,
   "metadata": {
    "collapsed": false,
    "scrolled": true
   },
   "outputs": [
    {
     "name": "stdout",
     "output_type": "stream",
     "text": [
      "There are 98393 unique features in the reviews\n",
      "The beer features which people hate the most are: \n",
      "[('corn', -6941.209993744306), ('watery', -5850.66264894118), ('water', -4683.900004495215), ('lager', -4389.999520993852), ('bad', -4275.710757612451), ('metallic', -4223.9412930499275), ('bland', -3937.619330094755), ('cardboard', -3801.816296439873), ('nothing', -3673.6976828052298), ('boring', -3215.0573825990336), ('artificial', -2980.1133995228292), ('stale', -2966.6472415862), ('infected', -2921.4956123918155), ('weak', -2842.48224693424), ('grainy', -2826.1889529502555), ('pale', -2825.5800669934138), ('much', -2786.526829001184), ('weird', -2732.136911924141), ('awful', -2689.753985258856), ('unpleasant', -2645.9264146945657)]\n",
      "The beer features which people love the most are: \n",
      "[('awesome', 2026.6487907496098), ('whiskey', 2029.6271022811795), ('great', 2047.5732642319715), ('grapefruit', 2078.4490199791044), ('complex', 2080.840894256015), ('full', 2088.7537960739724), ('balanced', 2211.276953904183), ('oak', 2405.5265184493824), ('smooth', 2407.398388231067), ('tropical', 2424.4399555253844), ('excellent', 2497.3027447054933), ('delicious', 2507.174881177065), ('coconut', 2586.5079574976553), ('rich', 2600.9804130228645), ('nice', 2604.2841425931874), ('black', 2625.5543116623157), ('vanilla', 3383.98450822304), ('coffee', 3473.4888677035397), ('chocolate', 3600.1390347490897), ('bourbon', 3892.1269748535938)]\n"
     ]
    },
    {
     "ename": "NameError",
     "evalue": "name 'path' is not defined",
     "output_type": "error",
     "traceback": [
      "\u001b[1;31m---------------------------------------------------------------------------\u001b[0m",
      "\u001b[1;31mNameError\u001b[0m                                 Traceback (most recent call last)",
      "\u001b[1;32m<ipython-input-13-b0aa1f631685>\u001b[0m in \u001b[0;36m<module>\u001b[1;34m()\u001b[0m\n\u001b[0;32m     75\u001b[0m \u001b[1;32mprint\u001b[0m \u001b[1;34m\"The beer features which people love the most are: \"\u001b[0m\u001b[1;33m\u001b[0m\u001b[0m\n\u001b[0;32m     76\u001b[0m \u001b[1;32mprint\u001b[0m \u001b[0msorted_features\u001b[0m\u001b[1;33m[\u001b[0m\u001b[1;33m-\u001b[0m\u001b[1;36m20\u001b[0m\u001b[1;33m:\u001b[0m\u001b[1;33m]\u001b[0m\u001b[1;33m\u001b[0m\u001b[0m\n\u001b[1;32m---> 77\u001b[1;33m \u001b[0mfeaturesFileName\u001b[0m \u001b[1;33m=\u001b[0m \u001b[0mos\u001b[0m\u001b[1;33m.\u001b[0m\u001b[0mpath\u001b[0m\u001b[1;33m.\u001b[0m\u001b[0mjoin\u001b[0m\u001b[1;33m(\u001b[0m\u001b[0mbaseDir\u001b[0m\u001b[1;33m,\u001b[0m \u001b[0mpath\u001b[0m\u001b[1;33m)\u001b[0m\u001b[1;33m\u001b[0m\u001b[0m\n\u001b[0m\u001b[0;32m     78\u001b[0m \u001b[1;32mwith\u001b[0m \u001b[0mopen\u001b[0m\u001b[1;33m(\u001b[0m\u001b[0mfeaturesFileName\u001b[0m\u001b[1;33m,\u001b[0m \u001b[1;34m\"w\"\u001b[0m\u001b[1;33m)\u001b[0m \u001b[1;32mas\u001b[0m \u001b[0mf\u001b[0m\u001b[1;33m:\u001b[0m\u001b[1;33m\u001b[0m\u001b[0m\n\u001b[0;32m     79\u001b[0m     \u001b[1;32mfor\u001b[0m \u001b[0mfeature\u001b[0m \u001b[1;32min\u001b[0m \u001b[0msortedfeatures\u001b[0m\u001b[1;33m:\u001b[0m\u001b[1;33m\u001b[0m\u001b[0m\n",
      "\u001b[1;31mNameError\u001b[0m: name 'path' is not defined"
     ]
    }
   ],
   "source": [
    "def multiplyDict(inputDict,multiplier):\n",
    "    #multiplies every entry in a dictionary by a number.\n",
    "    for item in inputDict:\n",
    "        inputDict[item]=inputDict[item]*multiplier\n",
    "    return inputDict\n",
    "\n",
    "def stf(tokens, score):\n",
    "    ### Compute S-TF\n",
    "    tfsDict = tf(tokens)\n",
    "    stfsDict = multiplyDict(tfsDict,score)\n",
    "    return stfsDict\n",
    "\n",
    "def multiplyTwoDicts(firstDict,secondDict):\n",
    "    multDict = {token:firstDict[token]*secondDict[token] for token in firstDict}\n",
    "    return multDict\n",
    "\n",
    "def addTwoDicts(firstDict,secondDict):\n",
    "    for token in firstDict:\n",
    "        if token in secondDict:\n",
    "            firstDict[token]=firstDict[token]+secondDict[token]\n",
    "    for token in secondDict:\n",
    "        if token in firstDict:\n",
    "            pass\n",
    "        else:\n",
    "            firstDict[token]=secondDict[token]            \n",
    "    return firstDict\n",
    "\n",
    "##13 SCORE\n",
    "##14 AROMA (/10)\n",
    "##15 APPEARANCE(/5)\n",
    "##16 TASTE(/10)\n",
    "##17 PALATE(/5)\n",
    "##18 OVERALL(/20)\n",
    "\n",
    "def stfidfByKey(inputRDD,idfRDD,reviewTrue,whichRating):\n",
    "    ##Takes RDD of form (key,(list,list,wholebeer)) and calculates the s-tf of \n",
    "    ##reviewTrue==True ===> review\n",
    "    ##reviewTrue==False ===> commercial Description\n",
    "    ##whichRating ==-1 => don't weight by any column, just use 1 as a factor\n",
    "    ##takes the sum of s-tf and applies the idf to it.\n",
    "    \n",
    "    if (whichRating < 13 or whichRating >18) and whichRating!=-1:\n",
    "        raise ValueError('whichRating must be between 13 and 18 or equal to 0, please refer to documentation about fields')\n",
    "                         \n",
    "    if reviewTrue==True:\n",
    "        #print \"Got past true\"\n",
    "        #print inputRDD.map(lambda (x,(a,b,c)):(x,(b,c[whichRating]))).takeSample(False,3,1)\n",
    "        if whichRating!=-1:\n",
    "            stfRDD = inputRDD.map(lambda (x,(a,b,c)):(x,(stf(b,float(c[whichRating]))))).reduceByKey(addTwoDicts)\n",
    "        else:\n",
    "            stfRDD = inputRDD.map(lambda (x,(a,b,c)):(x,(stf(b,1)))).reduceByKey(addTwoDicts)\n",
    "        #print stfRDD.takeSample(True,3,1)\n",
    "    else:\n",
    "        if whichRating!=-1:\n",
    "            stfRDD = inputRDD.map(lambda (x,(a,b,c)):(x,(stf(a,float(c[whichRating]))))).reduceByKey(lambda a,b:a+b)\n",
    "        else:\n",
    "            stfRDD = inputRDD.map(lambda (x,(a,b,c)):(x,(stf(a,1)))).reduceByKey(lambda a,b:a+b)\n",
    "            \n",
    "    stfidfRDD=stfRDD.join(idfRDD).map(lambda (x,(y,z)):(x,multiplyTwoDicts(y,z)))\n",
    "    #print stfidfRDD.takeSample(True,3,1)\n",
    "    return stfidfRDD\n",
    "\n",
    "    \n",
    "#Generate dictionaries of ranked terms for each user individually.\n",
    "scoreTfIdf = stfidfByKey(beerTrainToToken,reviewIDF,True,13)\n",
    "##Find the best keywords across all users.\n",
    "sumAllFeatures =scoreTfIdf.map(lambda (x,y):y).reduce(addTwoDicts)\n",
    "#print sumAllFeatures.takeSample(False,3,1)\n",
    "\n",
    "import operator\n",
    "sorted_features = sorted(sumAllFeatures.items(), key=operator.itemgetter(1))\n",
    "print \"There are %d unique features in the reviews\" % len(sorted_features)\n",
    "print \"The beer features which people hate the most are: \"\n",
    "print sorted_features[:20]\n",
    "print \"The beer features which people love the most are: \"\n",
    "print sorted_features[-20:]\n"
   ]
  },
  {
   "cell_type": "markdown",
   "metadata": {},
   "source": [
    "# Fantastic!\n",
    "### By amalgamating people's individual love/hates we show here that our intuition lines up with the methodology taken so far.  A vanilla bourbon beer beats an infected watery beer."
   ]
  },
  {
   "cell_type": "code",
   "execution_count": 15,
   "metadata": {
    "collapsed": false
   },
   "outputs": [],
   "source": [
    "featuresFileName = os.path.join(baseDir, \"sortedFeatures.txt\")\n",
    "with open(featuresFileName, \"w\") as f:\n",
    "    for feature in sorted_features:\n",
    "        f.write(str(feature[0]))\n",
    "        f.write(\",\")\n",
    "        f.write(str(feature[1]))\n",
    "        f.write(\"\\n\")"
   ]
  }
 ],
 "metadata": {
  "kernelspec": {
   "display_name": "Python 2",
   "language": "python",
   "name": "python2"
  },
  "language_info": {
   "codemirror_mode": {
    "name": "ipython",
    "version": 2
   },
   "file_extension": ".py",
   "mimetype": "text/x-python",
   "name": "python",
   "nbconvert_exporter": "python",
   "pygments_lexer": "ipython2",
   "version": "2.7.5"
  }
 },
 "nbformat": 4,
 "nbformat_minor": 0
}
