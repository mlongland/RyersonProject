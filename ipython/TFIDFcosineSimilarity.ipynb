{
 "cells": [
  {
   "cell_type": "markdown",
   "metadata": {},
   "source": [
    "![Spark Logo](http://spark-mooc.github.io/web-assets/images/ta_Spark-logo-small.png) + ![Python Logo](http://spark-mooc.github.io/web-assets/images/python-logo-master-v3-TM-flattened_small.png)\n",
    "# **Text Analysis of Beer Reviews**\n",
    "Here we use pySpark to analyze the text in the commercial description and review text to create similarity scores between beers.  The scores can then be used for clustering and beer style identification or to find beers similar to what a user enjoys, as a recommendation service."
   ]
  },
  {
   "cell_type": "markdown",
   "metadata": {},
   "source": [
    "### **Preliminaries**\n",
    "#### We read in the allBeer.txt file and create an RDD consisting of lines.\n",
    "#### We want to remove the header from the file, so the parseDataFileLine function identifies lines starting with 'beer_id' and applies a flag of 0, other lines with the correct number of fields are flagged 1, and incorrect lines are flagged -1.  The lines are split into arrays."
   ]
  },
  {
   "cell_type": "code",
   "execution_count": 1,
   "metadata": {
    "collapsed": false
   },
   "outputs": [],
   "source": [
    "import re\n",
    "\n",
    "def parseDatafileLine(datafileLine):\n",
    "    ##Parse a line of the data file using the specified regular expression pattern\n",
    "    splitArray = datafileLine.split(\"\\t\")\n",
    "    for x in range(0,len(splitArray)):\n",
    "        splitArray[x]=splitArray[x].replace(\"\\\"\",'')\n",
    "    #print len(splitArray)\n",
    "    #print splitArray[0],splitArray[1],splitArray[2]\n",
    "    if splitArray[0]=='beer_id':\n",
    "        return (splitArray,0)\n",
    "    elif len(splitArray)<>23:\n",
    "        ##this is a failed parse\n",
    "        return (splitArray,-1)\n",
    "    else:\n",
    "        return (splitArray, 1)"
   ]
  },
  {
   "cell_type": "markdown",
   "metadata": {},
   "source": [
    "### Reading the file\n",
    "#### We read the file into three rdds by first parsing the file as above, the header rdd, failed rdd and the valid rdd.  Print the header names so we can remember what fields we're dealing with and in what order."
   ]
  },
  {
   "cell_type": "code",
   "execution_count": 2,
   "metadata": {
    "collapsed": false,
    "scrolled": false
   },
   "outputs": [
    {
     "name": "stdout",
     "output_type": "stream",
     "text": [
      "0 beer_id\n",
      "1 beer_name\n",
      "2 brewer_name\n",
      "3 beer_style\n",
      "4 distribution\n",
      "5 brewery_location\n",
      "6 commercial_desc\n",
      "7 RATINGS: \n",
      "8 MEAN (/5)\n",
      "9 WEIGHTED AVG\n",
      "10 EST. CALORIES\n",
      "11 ABV (%)\n",
      "12 IBU\n",
      "13 SCORE\n",
      "14 AROMA (/10)\n",
      "15 APPEARANCE(/5)\n",
      "16 TASTE(/10)\n",
      "17 PALATE(/5)\n",
      "18 OVERALL(/20)\n",
      "19 reviewer_name\n",
      "20 review_location\n",
      "21 review_date\n",
      "22 review_content\n",
      "AllBeer.txt - Read 620388 lines, successfully parsed 620387 lines, failed to parse 0 lines\n"
     ]
    }
   ],
   "source": [
    "import sys\n",
    "import os\n",
    "\n",
    "baseDir = os.path.join('')\n",
    "allBeer_Path = 'AllBeer.txt'\n",
    "STOPWORDS_PATH = 'stopwords.txt'\n",
    "\n",
    "def parseData(filename):\n",
    "    #Parse a data file returns a RDD of parsed lines\n",
    "    \n",
    "    return (sc\n",
    "            .textFile(filename, 4, 0)\n",
    "            .map(parseDatafileLine)\n",
    "            .cache())\n",
    "\n",
    "def loadData(path):\n",
    "    ##Load a data file, returns a RDD of parsed valid lines\n",
    "    \n",
    "    filename = os.path.join(baseDir, path)\n",
    "    raw = parseData(filename).cache()\n",
    "    failed = (raw\n",
    "              .filter(lambda s: s[1] == -1)\n",
    "              .map(lambda s: s[0]))\n",
    "    for line in failed.take(10):\n",
    "        print '%s - Invalid datafile line: %s' % (path, line)\n",
    "    valid = (raw\n",
    "             .filter(lambda s: s[1] == 1)\n",
    "             .map(lambda s: s[0])\n",
    "             .cache())\n",
    "    header = (raw\n",
    "              .filter(lambda s: s[1]==0)\n",
    "             .map(lambda s:s[0])\n",
    "             )\n",
    "    for line in header.take(1):\n",
    "        for x in range(0,len(line)):\n",
    "            print x,line[x]\n",
    "            \n",
    "    rawLines = raw.count()\n",
    "    validLines = valid.count()\n",
    "    failedLines = failed.count()\n",
    "    print '%s - Read %d lines, successfully parsed %d lines, failed to parse %d lines' % (path, rawLines, validLines,failedLines)\n",
    "    return valid\n",
    "    \n",
    "allBeer = loadData(allBeer_Path)\n",
    "#allReviews = loadData(allReviews_Path)"
   ]
  },
  {
   "cell_type": "markdown",
   "metadata": {},
   "source": [
    "### Let's examine the first few entries of a sample of 5 lines to check if things look ok."
   ]
  },
  {
   "cell_type": "code",
   "execution_count": 3,
   "metadata": {
    "collapsed": false,
    "scrolled": true
   },
   "outputs": [
    {
     "name": "stdout",
     "output_type": "stream",
     "text": [
      "23\n",
      "allBeer: 62903, duclaw-bourbon-barrel-serum, DuClaw Brewing Company, Imperial IPA, distribution unknown\n",
      "\n",
      "23\n",
      "allBeer: 106807, atlas-red-squirrel, Atlas (Sinclair Breweries), Bitter, distribution unknown\n",
      "\n",
      "23\n",
      "allBeer: 108406, fiddler-ale, De Haagsche Bierbrouwerij, Bitter, distribution unknown\n",
      "\n",
      "23\n",
      "allBeer: 67592, hoganas-apa, H�gan�s Bryggeri, American Pale Ale, distribution unknown\n",
      "\n",
      "23\n",
      "allBeer: 78504, beach-city-kickout-double-ipa, Beach City Brewery, Imperial IPA, Local Distribution\n",
      "\n"
     ]
    }
   ],
   "source": [
    "sampleArray=allBeer.takeSample(False,5,1)\n",
    "for line in sampleArray:\n",
    "    print len(line)\n",
    "    print 'allBeer: %s, %s, %s, %s, %s\\n' % (line[0], line[1], line[2],line[3],line[4])"
   ]
  },
  {
   "cell_type": "markdown",
   "metadata": {},
   "source": [
    "### Now we'll split the data into a training set (80%) and test set (%20).  \n",
    "#### This is slightly complicated by the fact that we want to split each user into 80/20, not the set of reviews as a whole.  We will take advantage of stratified sampling in Spark, grouping the reviews by the user name, then sampling by key.  To get the unused data we employ subtractByKey using a compound key of the username and the beer_id, guaranting uniqueness."
   ]
  },
  {
   "cell_type": "code",
   "execution_count": 4,
   "metadata": {
    "collapsed": false,
    "scrolled": true
   },
   "outputs": [
    {
     "name": "stdout",
     "output_type": "stream",
     "text": [
      "620325\n",
      "496775\n",
      "123612\n"
     ]
    }
   ],
   "source": [
    "##Using the allBeer array, take stratified sample, and remove blank reviews.\n",
    "beerByUser = allBeer.map(lambda x:(x[19],x)).filter(lambda (x,y):y[22]!='')\n",
    "sampleKeys = beerByUser.keys().collect()\n",
    "fractions={}\n",
    "for k in sampleKeys:\n",
    "    fractions[k]=0.8\n",
    "    \n",
    "beerTrain = beerByUser.sampleByKey(False,fractions).cache()\n",
    "beerTrainKeyed = beerTrain.map(lambda (x,y):(y[0]+y[19],y))\n",
    "beerTest = allBeer.map(lambda x:(x[0]+x[19],x)).subtractByKey(beerTrainKeyed).map(lambda (x,y):(y[19],y)).cache()\n",
    "print beerByUser.count()\n",
    "print beerTrain.count()\n",
    "print beerTest.count()"
   ]
  },
  {
   "cell_type": "markdown",
   "metadata": {},
   "source": [
    "### Let's examine the results with a couple of random users."
   ]
  },
  {
   "cell_type": "code",
   "execution_count": 5,
   "metadata": {
    "collapsed": false,
    "scrolled": true
   },
   "outputs": [
    {
     "name": "stdout",
     "output_type": "stream",
     "text": [
      "The user swieca has 7 reviews, split into 6 Train and 1 Test\n",
      "The user DSG has 1354 reviews, split into 1082 Train and 272 Test\n"
     ]
    }
   ],
   "source": [
    "from numpy.random import random_integers\n",
    "##find a random user and print out the train and test set.\n",
    "randomUsers = random_integers(1,len(sampleKeys),2)\n",
    "sampleUserReviewCount = beerByUser.filter(lambda (x,y):x==sampleKeys[randomUsers[0]]).count()\n",
    "sampleUserTrainCount = beerTrain.filter(lambda (x,y):x==sampleKeys[randomUsers[0]]).count()\n",
    "sampleUserTestCount = beerTest.filter(lambda (x,y):x==sampleKeys[randomUsers[0]]).count()\n",
    "print \"The user %s has %d reviews, split into %d Train and %d Test\" % (sampleKeys[randomUsers[0]],sampleUserReviewCount,sampleUserTrainCount,sampleUserTestCount)\n",
    "\n",
    "sampleUserReviewCount = beerByUser.filter(lambda (x,y):x==sampleKeys[randomUsers[1]]).count()\n",
    "sampleUserTrainCount = beerTrain.filter(lambda (x,y):x==sampleKeys[randomUsers[1]]).count()\n",
    "sampleUserTestCount = beerTest.filter(lambda (x,y):x==sampleKeys[randomUsers[1]]).count()\n",
    "print \"The user %s has %d reviews, split into %d Train and %d Test\" % (sampleKeys[randomUsers[1]],sampleUserReviewCount,sampleUserTrainCount,sampleUserTestCount)"
   ]
  },
  {
   "cell_type": "markdown",
   "metadata": {},
   "source": [
    "### Scale the reviews:\n",
    "#### Each user has a different way of scoring beers, some people judge more harshly than others.  In order to even out these scores, we get get statistics for each user and adjust their scores to fit a common distribution.  In this particular case we use a normal distribution for it's simplicity to execute.  Users with 1 or less reviews will have a standard deviation of 0, in which case we substitute 1 to ensure the division when obtaining z-scores we will not divide by zero."
   ]
  },
  {
   "cell_type": "code",
   "execution_count": 6,
   "metadata": {
    "collapsed": false
   },
   "outputs": [],
   "source": [
    "from math import sqrt\n",
    "##13 SCORE\n",
    "##14 AROMA (/10)\n",
    "##15 APPEARANCE(/5)\n",
    "##16 TASTE(/10)\n",
    "##17 PALATE(/5)\n",
    "##18 OVERALL(/20)\n",
    "\n",
    "def replaceZeroes(inputValue,replacementValue):\n",
    "    if inputValue == 0:\n",
    "        inputValue = replacementValue\n",
    "    return inputValue\n",
    "\n",
    "def subtractFromColumn(inputList,columnToChange,subtractAmount):\n",
    "    inputList[columnToChange]=float(inputList[columnToChange])-subtractAmount\n",
    "    return inputList\n",
    "\n",
    "def divideColumn(inputList,columnToChange,divisor):\n",
    "    inputList[columnToChange]=float(inputList[columnToChange])/divisor\n",
    "    return inputList\n",
    "\n",
    "\n",
    "### rewrite this to be RDD of (key,everything else) and return (key, everything with normalized column x)\n",
    "### Then run a few times and cache, and move this up into the preliminaries (post split)\n",
    "def normalizeScoreByKey(inputRDD,scoreColumn):\n",
    "    ##Takes in RDD of (key,array) and \n",
    "    ##returns RDD of (key,array with scoreColumn normalized)\n",
    "    sumScores = inputRDD.map(lambda (x,y):(x,float(y[scoreColumn]))).reduceByKey(lambda a,b:a+b)\n",
    "    #print sumScores.map(lambda (x,y):y).reduce(lambda a,b:a+b)\n",
    "    countScoresPerKey = inputRDD.map(lambda (x,y):(x,1)).reduceByKey(lambda a,b:a+b)\n",
    "    #print countKeys.map(lambda (x,y):y).reduce(lambda a,b:a+b)\n",
    "    averageScores = sumScores.join(countScoresPerKey).map(lambda (x,y):(x,y[0]/y[1]))\n",
    "    #print averageScores.takeSample(False,5,3)\n",
    "    centredScores = inputRDD.join(averageScores).map(lambda (x,(y,z)):(x,subtractFromColumn(y,scoreColumn,z)))\n",
    "    #print centredScores.map(lambda (x,y):y[scoreColumn]).reduce(lambda a,b:a+b)\n",
    "    centredScoresSquaredSum = centredScores.map(lambda (x,y):(x,y[scoreColumn]*y[scoreColumn])).reduceByKey(lambda a,b:a+b)\n",
    "    centredScoresSquaredSumAndCount = centredScoresSquaredSum.join(countScoresPerKey)\n",
    "    stdDeviationByKey = centredScoresSquaredSumAndCount.map(lambda (x,y):(x,sqrt(y[0]/y[1])))\n",
    "    ##This is actually pointless since a centred score is 0 and 0/anything = 0\n",
    "    ##countLines = stdDeviationByUser.count()\n",
    "    ##avgStdDev = stdDeviationByUser.map(lambda (x,y):y).reduce(lambda a,b:a+b)/countLines\n",
    "    stdDeviationByKeyNoZero = stdDeviationByKey.map(lambda (x,y):(x,replaceZeroes(y,1)))\n",
    "    normalizedRDD = centredScores.join(stdDeviationByKeyNoZero).map(lambda (x,(y,z)):(x,divideColumn(y,scoreColumn,z)))\n",
    "    return normalizedRDD\n",
    "\n",
    "##Normalize the Scores\n",
    "normalizedScores = normalizeScoreByKey(beerTrain,13)\n",
    "##Normalize the rest of the ratings\n",
    "#beerTrainNormA = normalizeScoreByKey(normalizedScores,14)\n",
    "#beerTrainNormB = normalizeScoreByKey(beerTrainNormA,15)\n",
    "#beerTrainNormC = normalizeScoreByKey(beerTrainNormB,16)\n",
    "#beerTrainNormD = normalizeScoreByKey(beerTrainNormC,17)\n",
    "beerTrainNormalized = normalizeScoreByKey(normalizedScores,18).cache()\n",
    "\n",
    "#print beerTrainNormalized.takeSample(False,5,4)\n"
   ]
  },
  {
   "cell_type": "markdown",
   "metadata": {},
   "source": [
    "### **Normalized Histograms**\n",
    "#### Plot histograms of the normalized ratings to check to see if normality approximately holds.\n",
    "#### Clearly score and overall are not normal, skewed right.  This would imply that when people hate a beer, they're more willing to review it harshly than they are willing to give a glowing review to a beer they love."
   ]
  },
  {
   "cell_type": "code",
   "execution_count": 7,
   "metadata": {
    "collapsed": false
   },
   "outputs": [
    {
     "data": {
      "image/png": "[encoded data removed]",
      "text/plain": [
       "<matplotlib.figure.Figure at 0x78757d0>"
      ]
     },
     "metadata": {},
     "output_type": "display_data"
    },
    {
     "data": {
      "image/png": "[encoded data removed]",
      "text/plain": [
       "<matplotlib.figure.Figure at 0x6870750>"
      ]
     },
     "metadata": {},
     "output_type": "display_data"
    }
   ],
   "source": [
    "import matplotlib.pyplot as plt\n",
    "%matplotlib inline\n",
    "##Get all the normalized scores into one list.\n",
    "scoreValues = beerTrainNormalized.map(lambda (x,y): y[13]).collect()\n",
    "fig = plt.figure(figsize=(8,3))\n",
    "plt.title('Normalized Scores')\n",
    "plt.hist(scoreValues, 50, log=False)\n",
    "overallValues = beerTrainNormalized.map(lambda (x,y): y[18]).collect()\n",
    "fig = plt.figure(figsize=(8,3))\n",
    "plt.title('Normalized Overall')\n",
    "plt.hist(overallValues, 50, log=False)\n",
    "pass"
   ]
  },
  {
   "cell_type": "markdown",
   "metadata": {},
   "source": [
    "### Let's think about the test data set as if it were a menu in a pub\n",
    "#### For each of the beers on the menu we need to generate a score, to see how compatable the beer is with the beer drinker's tastes.  From these scores we can then order the list, best to worst and the user can make their choice.  To do that we first need to know what the user likes, so let's take a look at their reviews and generate a list of traits, with each trait weighted by their own review scores."
   ]
  },
  {
   "cell_type": "markdown",
   "metadata": {},
   "source": [
    "### Step 1: Making Bags of Words\n",
    "#### We can take the commercial descriptions and the user input text reviews and convert them into bags of words, we can then treat each word as a feature.  \n",
    "#### We should take out stopwords before we do this, to avoid unfairly weighting reviews based on words which don't contribute much meaning, such as \"the\", \"a\", \"is\", \"which\", etc."
   ]
  },
  {
   "cell_type": "code",
   "execution_count": 8,
   "metadata": {
    "collapsed": false,
    "scrolled": false
   },
   "outputs": [
    {
     "name": "stdout",
     "output_type": "stream",
     "text": [
      "These are the stopwords: set([u'all', u'just', u'being', u'over', u'both', u'through', u'yourselves', u'its', u'before', u'with', u'had', u'should', u'to', u'only', u'under', u'ours', u'has', u'do', u'them', u'his', u'very', u'they', u'not', u'during', u'now', u'him', u'nor', u'did', u'these', u't', u'each', u'where', u'because', u'doing', u'theirs', u'some', u'are', u'our', u'ourselves', u'out', u'what', u'for', u'below', u'does', u'above', u'between', u'she', u'be', u'we', u'after', u'here', u'hers', u'by', u'on', u'about', u'of', u'against', u's', u'or', u'own', u'into', u'yourself', u'down', u'your', u'from', u'her', u'whom', u'there', u'been', u'few', u'too', u'themselves', u'was', u'until', u'more', u'himself', u'that', u'but', u'off', u'herself', u'than', u'those', u'he', u'me', u'myself', u'this', u'up', u'will', u'while', u'can', u'were', u'my', u'and', u'then', u'is', u'in', u'am', u'it', u'an', u'as', u'itself', u'at', u'have', u'further', u'their', u'if', u'again', u'no', u'when', u'same', u'any', u'how', u'other', u'which', u'you', u'who', u'most', u'such', u'why', u'a', u'don', u'i', u'having', u'so', u'the', u'yours', u'once'])\n",
      "['test', 'tf', 'function', 'return', 'non', 'stopword', 'frequencies', 'frequency', 'sourness']\n"
     ]
    }
   ],
   "source": [
    "stopfile = os.path.join(baseDir, STOPWORDS_PATH)\n",
    "stopwords = set(sc.textFile(stopfile).collect())\n",
    "testString = \"This is a test of the tf function.  It should return non stopword frequencies frequency sourness\"\n",
    "print 'These are the stopwords: %s' % stopwords\n",
    "split_regex = r'\\W+'\n",
    "\n",
    "#from nltk.stem.porter import PorterStemmer\n",
    "#Stmmr = PorterStemmer()\n",
    "\n",
    "def tokenize(string):\n",
    "    ##takes in a string and tokenizes it, removing stopwords, returns list\n",
    "    simple=filter(None,re.split(split_regex,string.lower()))\n",
    "    #simple = [Stmmr.stem(i) for i in simple]\n",
    "    return [i for i in simple if i not in stopwords]\n",
    "\n",
    "print tokenize(testString)"
   ]
  },
  {
   "cell_type": "markdown",
   "metadata": {},
   "source": [
    "### **Tokenizing the Commercial Description and Review**\n",
    "#### Now tokenize the commercial descriptions and reviews. \n",
    "#### To see how much data we're dealing with let's count the total number of tokens."
   ]
  },
  {
   "cell_type": "code",
   "execution_count": 9,
   "metadata": {
    "collapsed": false,
    "scrolled": true
   },
   "outputs": [
    {
     "name": "stdout",
     "output_type": "stream",
     "text": [
      "There are 11605139 tokens in the commercial descriptions\n",
      "There are 16321560 tokens in the reviews\n"
     ]
    }
   ],
   "source": [
    "##6 commercial description\n",
    "##22 user input review\n",
    "##make an RDD where the user_id is the key, and the value is 2 arrays of tokens \n",
    "##and the original line\n",
    "beerTrainToToken = beerTrainNormalized.map(lambda (x,y):(y[19],(tokenize(y[6]),tokenize(y[22]),y)))\n",
    "\n",
    "def countTokens(textRDD,reviewTRUE):\n",
    "    ## Count and return the number of tokens\n",
    "    if reviewTRUE==True:\n",
    "        return textRDD.map(lambda (x,y):len(y[1])).reduce(lambda a,b:a+b)\n",
    "    else:\n",
    "        return textRDD.map(lambda (x,y):len(y[0])).reduce(lambda a,b:a+b)\n",
    "\n",
    "print 'There are %s tokens in the commercial descriptions' % countTokens(beerTrainToToken,False)\n",
    "print 'There are %s tokens in the reviews' % countTokens(beerTrainToToken,True)"
   ]
  },
  {
   "cell_type": "markdown",
   "metadata": {},
   "source": [
    "### **Step 2: Weighted Bag-of-Words using TF-IDF**\n",
    "\n",
    "### Term Frequency (TF) \n",
    "#### This gives higher weight to tokens that appear many times in a individual document. It is computed as the frequency of a token in a document. If a word occurs often in a document, then it is more important to the meaning of the document."
   ]
  },
  {
   "cell_type": "code",
   "execution_count": 10,
   "metadata": {
    "collapsed": false,
    "scrolled": true
   },
   "outputs": [
    {
     "name": "stdout",
     "output_type": "stream",
     "text": [
      "{'function': 0.14285714285714285, 'non': 0.14285714285714285, 'return': 0.14285714285714285, 'frequencies': 0.14285714285714285, 'stopword': 0.14285714285714285, 'tf': 0.14285714285714285, 'test': 0.14285714285714285}\n"
     ]
    }
   ],
   "source": [
    "testString = \"This is a test of the tf function.  It should return non stopword frequencies\"\n",
    "def tf(tokens):\n",
    "    ###Compute TF from list of tokens, return dictionary of word:tf\n",
    "    count = len(tokens)\n",
    "    words={}\n",
    "    for token in tokens:\n",
    "        words[token]=float(len([t for t in tokens if t==token]))/count\n",
    "    return words\n",
    "\n",
    "print tf(tokenize(testString))"
   ]
  },
  {
   "cell_type": "markdown",
   "metadata": {},
   "source": [
    "### Inverse Document Frequency\n",
    "#### This gives higher weight to tokens that are rare over the entire dataset. The rationale is two documents are more alike if they have in common words which are not common to rest data set.  IDF weight for a token in a set of documents is calculated as D/d(t) where D is the total number of documents and d(t) is the number of documents with term t.  \n",
    "#### We want to find out what is special to each individual, so the IDF needs to be across all beer reviews."
   ]
  },
  {
   "cell_type": "code",
   "execution_count": 11,
   "metadata": {
    "collapsed": false
   },
   "outputs": [],
   "source": [
    "def countEachToken(listOfTokens):\n",
    "    ##Count the number of times each token appears in the list\n",
    "    tokenSet = list(set(listOfTokens))\n",
    "    tokenDict={}\n",
    "    for token in tokenSet:\n",
    "        tokenDict[token]=0\n",
    "    for token in listOfTokens:\n",
    "        tokenDict[token]=tokenDict[token]+1\n",
    "    return tokenDict\n",
    "\n",
    "def divideIntByDict(inputDict,inputInt):\n",
    "    for entry in inputDict:\n",
    "        inputDict[entry]=float(inputInt)/float(inputDict[entry])\n",
    "    return inputDict\n",
    "\n",
    "##IDFByKey is depricated, it just didn't make sense to pick words which each user used rarely.\n",
    "def IDFByKey(keyCorpus):\n",
    "    uniqueTokens = keyCorpus.map(lambda (x,y):(x,list(set(y))))\n",
    "    tokensByKey = uniqueTokens.reduceByKey(lambda a,b:a+b)\n",
    "    tokensCountByKey = tokensByKey.map(lambda (x,y):(x,countEachToken(y)))\n",
    "    countDocsByKey=keyCorpus.map(lambda (x,y):(x,1)).reduceByKey(lambda a,b:a+b)\n",
    "    countDocsAndTokensByKey = tokensCountByKey.join(countDocsByKey)\n",
    "    IDF=countDocsAndTokensByKey.map(lambda (x,y):(x,divideIntByDict(y[0],y[1])))\n",
    "    return IDF\n",
    "\n",
    "def IDFWhole(keyCorpus):\n",
    "    N = keyCorpus.count()\n",
    "    uniqueTokens = keyCorpus.map(lambda (x,y):list(set(y))).flatMap(lambda y:y)\n",
    "    tokenCountPairTuple = uniqueTokens.map(lambda y:(y,1))\n",
    "    tokenSumPairTuple = tokenCountPairTuple.reduceByKey(lambda a,b:a+b)\n",
    "    IDFs = tokenSumPairTuple.map(lambda (k,V):(k,float(N)/V))\n",
    "    return IDFs\n",
    "\n",
    "#RDD of (beer_id,text)\n",
    "reviewTokens = beerTrainToToken.map(lambda (x,y):(x,y[1]))\n",
    "#reviewIDF=IDFByKey(reviewTokens)\n",
    "##make this a broadcast variable, so each node has it.\n",
    "reviewIDF=IDFWhole(reviewTokens)\n",
    "#print reviewIDF.take(5)\n",
    "#print reviewIDF.takeSample(False,2,1)"
   ]
  },
  {
   "cell_type": "code",
   "execution_count": 12,
   "metadata": {
    "collapsed": false
   },
   "outputs": [
    {
     "data": {
      "image/png": "[encoded data removed]",
      "text/plain": [
       "<matplotlib.figure.Figure at 0x3ca7ad0>"
      ]
     },
     "metadata": {},
     "output_type": "display_data"
    }
   ],
   "source": [
    "idf_values = reviewIDF.map(lambda s: s[1]).collect()\n",
    "fig = plt.figure(figsize=(8,3))\n",
    "plt.hist(idf_values, 50, log=True)\n",
    "pass"
   ]
  },
  {
   "cell_type": "markdown",
   "metadata": {},
   "source": [
    "### **Implement a TF-IDF function**\n",
    "#### We want to weight the individual features (words) by the user's given scores.  This should increase the weightings of words used only in positive reviews and greatly increase rare words in positive reviews.  We then create an RDD of (key, dictionary) where the dictionary is a ranked collection of each user's individual preferences.  We have a customized set of features which indicate what a user likes."
   ]
  },
  {
   "cell_type": "code",
   "execution_count": 13,
   "metadata": {
    "collapsed": false,
    "scrolled": true
   },
   "outputs": [
    {
     "name": "stdout",
     "output_type": "stream",
     "text": [
      "[('MrMaerzen', {'limburgse': 0.0, 'although': 0.0, 'taste': 0.0, 'sight': 0.0, 'balanced': 0.0, 'acid': 0.0, 'clearly': 0.0, 'special': 0.0, 'alcohol': 0.0, 'also': 0.0, 'beer': 0.0, '5': 0.0, '6': 0.0, 'aftertaste': 0.0, 'nice': 0.0, 'full': 0.0, 'jot': 0.0, 'however': 0.0, 'quite': 0.0, 'mouth': 0.0, 'besides': 0.0, 'fruitiness': 0.0, 'bit': 0.0, 'like': 0.0, 'colour': 0.0, 'keeping': 0.0, 'short': 0.0, 'refreshing': 0.0, 'bulge': 0.0, 'apricot': 0.0, 'clear': 0.0, 'well': 0.0, 'abrikozenvlaai': 0.0, 'reminding': 0.0, 'nose': 0.0, 'making': 0.0, 'fruity': 0.0}), ('pabs1975', {'en': 0.0, 'principio': 0.0, 'esta': 0.0, 'color': 0.0, 'ale': 0.0, 'sima': 0.0, 'menos': 0.0, 'cerveza': 0.0, 'descuidas': 0.0, 'pale': 0.0, 'pintas': 0.0, 'neo': 0.0, 'canta': 0.0, 'muy': 0.0, 'igual': 0.0, 'parece': 0.0, 'bien': 0.0, 'te': 0.0, 'fin': 0.0, 'gallo': 0.0, 'poca': 0.0, 'acabada': 0.0, 'veraniega': 0.0, 'para': 0.0, 'entra': 0.0, 'de': 0.0, 'sola': 0.0, 'que': 0.0, 'perfecta': 0.0, 'caen': 0.0, 'count': 0.0, 'refrescante': 0.0, 'sabor': 0.0, 'homog': 0.0, 'una': 0.0, 'si': 0.0, 'un': 0.0, 'y': 0.0, 'tres': 0.0, 'buen': 0.0}), ('Gription79', {'sourness': 0.16148979258822346, 'ale': 0.5217461539766537, 'yellow': 0.04529470097493276, 'graininess': 0.039580387718035175, 'enjoyable': 0.18617606723887778, 'mild': -0.12759778545217398, 'skin': 0.008927224336381141, 'go': 0.040536008001569986, 'woody': 0.1880238434307381, 'bomber': -0.23673624744867838, 'saved': 0.0024390452204755618, 'milk': -0.00024299083698989948, 'overpriced': -0.051521543680711775, 'jsquire': -0.003910769600853297, 'blueberries': -0.04972596096722838, 'grape': 0.19618545366185589, 'foaming': 0.019016063405689093, 'everything': 0.0356781667970346, 'peanut': -0.042039390334490535, 'ibrew2or3': 0.013164966973169373, 'helps': 0.023328032136522625, 'melon': 0.1423831479067573, 'dislike': 0.01555859733192744, 'pleasing': 0.03349109729987592, 'dramatically': 0.01629948291916208, 'brown': -0.20055904604112038, 'liter': -0.15339838806465877, 'yeast': -0.45841789461386595, 'far': -0.2844097402923442, 'dessert': 0.01629948291916208, 'blanket': -0.016682590423672348, 'choice': 0.11963362341103621, 'sours': 0.03192257029208359, 'putting': -0.19428461220316892, 'drinking': 0.1439606388300522, 'sakes': 0.04665606427304525, 'cool': 0.018954026110924633, 'entire': 0.019016063405689093, 'perceived': -0.01985193432462053, 'level': 0.020126577626555012, 'caramely': -0.13703533803889956, 'notes': 0.05135706979677397, 'cloudy': -0.23191668023581913, 'try': -0.010552870351508925, 'porter': -0.13428801353432393, 'humpy': 0.08107201600313997, 'loads': 0.12917994672809283, '330ml': -0.13950942656097726, 'round': 0.051591282911089074, 'enjoy': -0.06651653814431367, 'phenolic': 0.014360824317270537, 'drier': 0.0048780904409511236, 'tea': -0.008095228138781206, 'almond': 0.0032520602939674157, 'lavender': -0.08157577749446031, 'kolsch': 0.0022955719722122935, 'past': 0.02852409510853364, 'consists': -0.04894546649667619, 'second': -0.010952367481880455, 'dried': 0.06777271263228513, 'follow': -0.02047408824723425, 'acid': -0.09084941892291216, 'odd': -0.046412832603821924, 'rough': 0.013643851353807065, 'even': -0.12700539033073596, 'hide': -0.03970386864924106, 'showcase': -0.016682590423672348, 'slight': 0.24260245139081527, 'crust': -0.013776526378016973, 'musty': -0.2897301813562233, 'hazy': 0.14088825015716933, 'find': -0.01876791422663139, 'oaky': 0.12720435620828582, 'rotten': -0.22856152745015085, 'indian': 0.04146516808556066, 'minty': -0.016682590423672348, 'abv': 0.0033934542197920857, 'shared': -0.03217356724565382, 'filled': -0.10024707659449558, 'body': -0.09306586811382092, 'vinious': 0.0035477021388735444, 'homer321': 0.004336080391956554, 'meh': -0.6700337297629685, 'nonexistent': -0.04972596096722838, 'lack': -0.08143472427689066, 'raspberries': -0.1895309812923015, 'along': 0.02013465537072963, 'strong': 0.021857651373395355, 'dry': -0.17705633122446954, 'vinegar': -0.07940773729848212, 'great': 0.6351676042491118, 'noticeable': -0.06706224883481877, 'dusty': 0.26418322041332676, '32': 0.0035477021388735444, 'smoky': 0.01801451092961231, 'changed': 0.07773599546061911, 'spiced': -0.231871339224888, 'alaska': 0.12048295667409473, 'experience': 0.030326441777479413, 'cinnamon': -0.2241105148068413, 'smoke': -0.07757466008104624, 'milky': 0.026329933946338747, 'raccoon': -0.044666852230396195, 'cookie': -0.11500539005847255, 'spices': -0.03322586902752285, 'sweetness': -0.11343509538167246, 'golden': -0.01961117176343451, 'fantastic': 0.47162211879401356, 'ipa': 0.1219750770745392, 'love': 0.08730832492645844, 'apple': 0.2920183082596668, 'straw': 0.008789276622065549, 'highly': 0.06674471005362725, 'total': -0.005032168843026156, 'charater': -0.042567997296288934, 'lime': -0.09528928475817855, 'flavors': -0.01985193432462053, 'use': -0.10304308736142359, 'flaws': -0.13645443488890843, 'would': 0.026846511933719994, 'iced': 0.019016063405689093, 'sake': 0.02013465537072963, 'pears': 0.04665606427304525, 'berries': 0.42760323953478613, 'creamy': 0.18092913507816533, 'iipa': 0.02978685724677627, 'oily': -0.027885997219528197, 'belgian': 0.08812264148165859, 'drinkable': 0.0885435452327395, 'iis': 0.03349109729987592, 'tangerine': 0.10563929357984905, 'sister': -0.08036821009352753, 'infection': -0.8142829949265349, 'chocolate': -0.11263951858429758, 'casey': 0.21096342154407582, 'glass': -0.021449044830435877, 'aaahhh': -0.006895935081183991, 'beers': -0.14306487120167824, 'lemons': 0.08107201600313997, '8': 0.0035477021388735444, 'vegetal': 0.02039674304856673, 'lemony': 0.10885018445579248, 'glad': 0.08407911591132802, 'hints': 0.04315902455939219, 'fan': -0.10421343603971063, 'sample': 0.05015828305116406, 'none': 0.017329395301416806, 'maly': 0.0037166403359627604, 'ml': 0.0986541876262013, 'malt': -0.30890057300909585, 'work': -0.15471629512110116, 'eclipse': 0.048249928216936, 'citra': 0.12590707577422763, 'huge': 0.47074732430272115, 'sour': 0.21600799851685756, 'thin': -0.8279825752271004, 'making': -0.098717661574108, 'personality': 0.03369604641942157, 'biscuit': -0.0464566871760282, 'whiskey': 0.093228372249558, 'heart': 0.0356781667970346, 'melons': 0.04665606427304525, 'tap': -0.09236795777110705, 'grassy': 0.05777279147002243, 'pie': 0.0048780904409511236, 'acetic': 0.2442673349900184, 'honey': -0.1485323029710731, 'salty': 0.04665606427304525, 'something': -0.11500539005847255, 'nough': 0.0356781667970346, 'sense': 0.021661744126771007, 'spruce': 0.062197752128340986, 'every': 0.048249928216936, 'tan': 0.0649852323803131, 'pink': 0.0007319807123880029, 'aging': 0.038032126811378054, 'needs': -0.23879228577975872, 'end': 0.08745299489319651, 'rye': 0.07627723996267638, 'american': 0.1934985856198912, 'pine': 0.4675925340618322, 'makes': -0.020826458092887332, 'hot': 0.16905882514488843, 'hop': 0.06463090645083971, 'cloying': -0.07381785052812836, 'browns': 0.051591282911089074, 'barleywine': -0.005062243252778487, 'luster': -0.08143472427689066, 'profile': 0.028759183804482988, 'okay': -0.042039390334490535, 'tried': -0.12180326675311083, 'brokensail': 0.05805123531978493, 'footbalmed': -0.6464671343830266, 'mess': -0.288621750427086, 'earlier': -0.005032168843026156, 'stouts': 0.040536008001569986, 'gum': -0.09421179490174345, 'coming': -0.028339942296706666, 'floral': -0.4502055696725777, 'cloves': 0.05675041120219798, 'tannin': 0.004336080391956554, 'light': -0.08802038912030116, 'catty': 0.07916077543607035, 'bready': 0.7606745891483673, 'complexity': -0.1100178929551758, 'mango': 0.043290772708416025, 'green': -0.0475882618000608, 'carbonic': -0.09322945999366893, 'balancing': -0.004690775617424245, 'breads': 0.024261153421983532, 'wine': 0.0602424112286978, 'esters': -0.22107464898030357, 'sulfury': -0.420571452849538, 'interpretation': 0.043323488253542014, 'copper': 0.050560861678843, 'estery': 0.08960051147286156, 'mousse': -0.008095228138781206, 'apricot': 0.12847655137257286, 'earthiness': -0.04661472999683446, 'dough': -0.3843032675802032, 'looks': -0.004889230264778895, 'signs': -0.11301354765279177, 'still': 0.0372142703519065, 'style': 0.02303869220304624, 'thank': -0.051521543680711775, '22': -0.5626252686580887, 'apex': -0.05104783112045279, 'interesting': 0.5946226089479898, 'amazing': 0.3483530609818975, 'denver': 0.043323488253542014, 'better': 0.06881540882519702, 'bouquet': -0.05104783112045279, 'orange': 0.10345958726671525, 'covered': 0.009508031702844547, 'holiday': 0.06779510203189941, '2011': 0.013164966973169373, '2013': 0.04321775937390984, 'coffee': 0.1498250618604366, 'good': 0.0316128223479481, 'taphouse': 0.1356639573801751, 'food': 0.04146516808556066, 'sweetened': 0.04592289754875454, 'dak': 0.0035477021388735444, 'vegetable': -0.026495878908185496, 'stout': -0.2246849525687085, 'half': -0.09842380070417114, 'foot': 0.018954026110924633, 'balances': 0.029026144469295086, 'silver': -0.06542889600951102, 'bread': 0.011134733792765052, 'coriander': -0.34467920971122373, 'name': -0.02047408824723425, 'roasty': -0.0949434703041368, 'delicate': -0.029710044383484614, 'cider': 0.051977649716196686, 'rbsg': -0.03217356724565382, 'ales': 0.051591282911089074, 'berliner': 0.03349109729987592, 'elephino': -0.01876791422663139, 'mead': 0.0048780904409511236, 'roast': -0.08143472427689066, 'found': -0.0751252557722687, 'european': -0.11301354765279177, '375': 0.000818108661903974, 'side': -0.020150174144218155, 'capped': 0.048249928216936, 'sugary': -0.081536260039332, 'delicious': 0.037908052221849266, 'house': 0.1763635397012797, 'hard': -0.03884840700564717, 'line': -0.06542889600951102, 'bland': -0.11452065955682453, 'strips': -0.08899175726668399, 'expect': -0.021449044830435877, 'doug': 0.1442034060953945, 'special': 0.0035477021388735444, 'really': -0.026620958008073063, 'large': -0.23015407227447623, 'dominates': -0.17390657890506236, 'spicing': 0.051534154713996375, 'alcohol': 0.04541774935886979, 'miss': 0.022819276086826913, 'looking': 0.06381753907735534, 'daniel': 0.1242074332999224, 'dominated': -0.030308718728393656, 'barley': 0.051591282911089074, '7': -0.023800083069657547, 'brewers': 0.04582992262088283, 'got': 0.12573072663367624, 'dominate': -0.0586820566539162, 'brewery': -0.2655024394110048, 'red': 0.03192257029208359, 'ass': 0.08730832492645844, 'pours': 0.16103343196067132, 'spot': 0.0356781667970346, 'little': -0.2267599743722928, 'pub': -0.2341008624682383, 'base': -0.017412889104144968, 'california': 0.07916077543607035, 'suntan': 0.02852409510853364, 'grapes': 0.07773599546061911, 'put': 0.03349109729987592, 'ash': -0.1459594164416606, 'huskiness': 0.0022955719722122935, 'care': -0.025023885635508523, 'oktoberfest': 0.04665606427304525, 'g': -0.006895935081183991, 'starts': -0.022514444411079197, 'could': -0.10304308736142359, 'tasting': 0.029464449892331455, 'raisin': 0.3147204643126782, 'terrible': -0.1459594164416606, 'times': 0.09963486368330465, 'thing': 0.043323488253542014, 'funky': 0.20140956596529544, 'edges': 0.002271435687252285, 'place': -0.06484629597870716, 'wowed': 0.026329933946338747, 'think': -0.0286102081839731, 'first': -0.02687886026101889, 'cheese': 0.028882325502361344, 'feel': -0.06267929383671113, 'powerful': -0.042039390334490535, 'ciders': 0.03997851195117554, 'one': 0.022621092543371753, 'date': 0.03997851195117554, 'talked': 0.04582992262088283, 'done': 0.21487460553229368, 'seasonable': -0.006895935081183991, 'another': 0.05182085944921484, 'soapy': -0.2090313490291873, 'drinker': 0.0026913602432833785, 'rind': 0.18442415047828067, 'thick': -0.2166798006128972, 'clarity': 0.062197752128340986, 'quality': -0.128613811537313, 'flesh': 0.04146516808556066, 'city': 0.11963362341103621, 'weisse': 0.03349109729987592, 'jet': -0.0005746612567654047, 'festival': -0.0546045050881194, 'leading': 0.022819276086826913, 'bite': -0.16343180850822983, 'earthy': 0.07121677614097577, 'licorice': 0.018954026110924633, 'least': 0.02013465537072963, 'station': 0.030326441777479413, 'draft': 0.323777902465695, 'listed': 0.05404801066875998, 'passed': 0.05675041120219798, 'masala': 0.04146516808556066, 'white': 0.009563324708424303, 'bitter': -0.03219844435633633, 'banana': -0.13010479249368376, 'lingering': 0.032775791210277266, 'beard': 0.01555859733192744, 'hue': -0.03884840700564717, 'accompany': -0.16638748174493073, 'nitro': 0.10168277537154861, 'season': 0.043538426489838696, 'suit': 0.0048780904409511236, 'brewpub': 0.05097774163360524, 'maltiness': 0.3981866118309737, 'watery': -0.01780339067514479, 'cereal': 0.038082241244300506, 'overwhelming': 0.021016929417881025, 'loved': 0.026329933946338747, '12': -0.6165040760961287, 'unfortunately': -0.02327378089899597, '16': 0.0033934542197920857, 'double': 0.050544069629132354, 'bitterness': -0.12754457643386907, 'dank': -0.05104783112045279, 'apples': -0.28279481040071874, 'maybe': -0.021449044830435877, 'feeling': -0.014322326707074444, 'derived': 0.02852409510853364, 'resinious': 0.030326441777479413, 'fermentation': -0.02047408824723425, 'tannins': -0.0654621265920965, 'cleaner': -0.09253945940555756, 'coconut': 0.32072262134407276, 'fashion': -0.027370023328418237, 'san': 0.16186003384646705, 'resinous': -0.09463402993560352, 'craig': -0.05377653919843756, 'flavorful': -0.05362261207608964, 'juicy': 0.29718256439496854, 'decadent': 0.07773599546061911, 'tonight': 0.05442303311229837, 'juice': 0.021267752154657395, 'tartness': 0.2701199656005763, '750': 0.09783607896429733, '375ml': 0.10972003131510574, 'aged': 0.013753624079207199, 'mint': 0.03573348178431665, 'kevin': 0.027211516556149184, 'mountain': 0.04582992262088283, 'clove': -0.00687529304828402, 'fermented': -0.267409934455798, 'cascade': 0.1763635397012797, 'shocked': -0.009309512359598388, 'metallic': -0.15480138534625448, 'note': 0.05085935414760761, 'high': 0.12911764406863482, 'take': 0.08251333360330618, 'malty': 0.628277433995603, 'malts': -0.4233959015709339, 'soap': 0.019016063405689093, 'syrup': -0.28688244759389614, 'play': -0.22856152745015085, 'towards': 0.025272034814566177, 'qualities': -0.03217356724565382, 'clash': -0.051521543680711775, 'though': -0.2775654578175844, 'lively': 0.03997851195117554, 'mouth': -0.06267929383671113, 'nothing': 0.0035477021388735444, 'plays': -0.10421343603971063, 'rbsg2015': 0.0356781667970346, 'clemente': 0.16186003384646705, 'refreshing': -0.12708567673340782, 'surprising': -0.01876791422663139, 'alaskan': -0.13074849639722108, 'clear': 0.036586426731068454, 'stronger': 0.045400328961758385, 'thanksgiving': -0.029777901486930797, 'mrs': 0.026329933946338747, 'looked': -0.18502599841202685, 'muted': -0.11595297834060732, 'definitely': -0.14216709020048018, 'bodies': 0.0035477021388735444, 'clean': -0.03531026430226139, 'brew': -0.040216959057067264, 'barrel': 0.3828097064112063, 'typical': -0.0409481764944685, 'typically': 0.01555859733192744, 'rating': -0.005032168843026156, 'bomb': -0.11973141747188548, 'cda': 0.018015217963284404, 'gold': 0.03997851195117554, 'show': -0.08899175726668399, 'german': 0.04432574314215565, 'doughy': 0.05402813054551046, 'peaches': 0.03192257029208359, 'bright': 0.05993077153916541, 'session': 0.18002035623993987, 'subtle': -0.022614204945394012, 'hopped': -0.33416178924243717, 'fine': 0.05122167822333964, 'enjoyed': 0.0926868463089003, 'ground': 0.03349109729987592, 'toast': 0.08200117608713064, 'honer321': -0.042039390334490535, 'chamomile': -0.021449044830435877, '500ml': -0.12656920765373963, 'hops': 0.26454386197869784, 'menu': 0.0024390452204755618, 'winner': 0.15122614659439373, 'texture': 0.04665606427304525, 'sugar': -0.143304634273497, 'celery': 0.03369604641942157, 'going': 0.13181078560734907, 'black': -0.07215703200341089, 'rich': 0.42234594268789677, 'lodge': -0.044666852230396195, 'sulfur': -0.43821198703252195, 'bourbon': 0.261195804654815, 'rice': -0.011636890449497984, 'toffee': 0.2470374229617243, 'handle': 0.08900971667813906, 'get': -0.05590931609002344, 'overall': -0.6748894527163225, 'likely': 0.02139307133140023, 'herbal': -0.028304459685851997, 'molasses': 0.040536008001569986, 'watermelon': 0.06739209283884313, 'breast': 0.062197752128340986, 'probably': -0.02047408824723425, '2': 0.02091478743274442, 'lacto': 0.009508031702844547, '22ounce': 0.062197752128340986, 'bar': -0.08157577749446031, 'tobacco': 0.018954026110924633, 'leather': 0.09328319455274295, 'unenjoyable': -0.10359575201505912, 'oats': 0.04582992262088283, 'humpys': -0.013299303370854838, 'perfume': 0.08324611281875743, 'bad': -0.13352285920170814, 'perfumy': -0.05416535746320881, 'caramel': -0.7207597005566021, 'boring': -0.034648457033781034, 'release': -0.010952367481880455, 'seat': -0.006895935081183991, 'changes': 0.01629948291916208, 'best': 0.028046751412591442, 'seems': -0.07336856990920275, 'said': 0.0356781667970346, 'strawberry': 0.0640296120967783, 'lots': 0.0035477021388735444, 'away': 0.018954026110924633, 'label': 0.022819276086826913, '3': -0.005032168843026156, 'score': -0.005032168843026156, 'prune': 0.20060874654738398, 'mandarin': 0.025272034814566177, 'acidic': -0.032531103473280844, 'across': -0.04474806468899696, 'carbonated': -0.09209876022004734, 'notice': 0.043323488253542014, 'stinks': -0.22856152745015085, 'oxidation': -0.08856432327404865, 'tongue': 0.02852409510853364, 'fruits': 0.39806534343733296, 'weak': -0.01985193432462053, 'lotion': 0.05704819021706728, 'concentrate': 0.01629948291916208, 'comb': 0.007804944705521798, 'come': -0.02222656761703929, 'undrinkable': -0.14727747066242894, 'last': 0.0024390452204755618, 'restaurant': -0.695201054194239, 'hefeweizen': 0.05122167822333964, 'sweat': 0.05675041120219798, 'fruity': 0.6201682914566797, 'astringency': 0.04145575436072281, 'april': 0.013164966973169373, 'grain': -0.07906884472262911, 'berry': 0.016787846269379562, 'whole': -0.021449044830435877, 'comes': -0.02047408824723425, 'liked': 0.024261153421983532, 'point': -0.017324228516890517, 'color': -0.031513009484723895, 'sweet': -0.473688128405532, 'sampling': 0.04582992262088283, 'dimensional': -0.12844747673686735, 'tons': -0.051521543680711775, 'gusher': -0.0702023485145609, 'scottish': 0.006504120587934831, 'throughout': -0.03949580702958033, 'cardboard': -0.4471753368952289, 'lightly': 0.024261153421983532, 'hay': 0.08745299489319651, 'west': 0.048249928216936, 'three': 0.04365416246322922, 'lactic': -0.172253479456853, 'quickly': -0.01985193432462053, 'tropical': 0.7333828820472337, 'peppery': 0.15091847671563668, 'poured': 0.10336887017780536, 'damn': 0.05122167822333964, 'treat': 0.10207390890378021, 'expected': 0.012760091996811962, 'yeasty': -0.2301117770202928, 'lovely': 0.09080065792351677, 'location': 0.038160950667491714, 'firm': 0.3227790805751027, 'mike': -0.1994679467561767, 'flight': 0.02013465537072963, 'finishes': -0.13453435162820102, 'offered': -0.05919757258003378, 'andrew': 0.039580387718035175, 'else': 0.03939480713299736, '2015': -0.03217356724565382, 'finished': -0.07344474296745186, 'craft': -0.008095228138781206, 'understand': 0.04582992262088283, 'ginger': -0.0038285873340341142, 'grainy': -0.28178284626674455, 'worked': 0.0024390452204755618, 'funk': 0.05805123531978493, 'mouthfeel': -0.015515853932663979, 'grains': -0.05919757258003378, 'solid': 0.43133513707982707, 'vanilla': 0.5046538547349042, 'cracker': -0.0724425816568242, 'batch': 0.02091478743274442, 'n': 0.0356781667970346, 'brilliant': 0.062197752128340986, 'pressed': 0.0356781667970346, 'expecting': 0.009508031702844547, 'fun': -0.010343902621775985, 'medicinal': 0.08707685297967739, 'balance': 0.14975391042239658, 'noticed': -0.008095228138781206, 'crafted': -0.11500539005847255, 'wild': 0.10368329255048764, 'ripe': 0.009508031702844547, 'dyacital': -0.914458308628006, 'almost': -0.19700343162965733, 'sushi': 0.14566297713481635, 'belmont': 0.030326441777479413, 'surprisingly': 0.048249928216936, 'sting': 0.04754015851422273, 'smokiness': -0.035733481784316956, 'rio': 0.04665606427304525, 'triple': -0.08873694084799753, 'roosted': -0.010952367481880455, 'candied': -0.029073496529836894, 'facet': -0.051521543680711775, 'present': 0.02091478743274442, 'harsh': -0.04661472999683446, 'reminded': -0.029777901486930797, 'chewy': 0.12082612271359354, 'apricots': 0.08107201600313997, 'complex': -0.051521543680711775, 'northwest': 0.05404801066875998, 'digging': -0.07475467014356613, '9': -0.005032168843026156, 'filtered': -0.18502599841202685, 'several': 0.09963486368330465, 'toasted': -0.30295307704098795, 'higher': 0.039580387718035175, 'week': -0.008095228138781206, 'finish': 0.46929032406862337, 'papaya': 0.062197752128340986, 'peaks': -0.06542889600951102, 'saltiness': 0.02852409510853364, 'drink': -0.008095228138781206, 'driven': -0.0831211900558129, 'fruit': 0.3189760914906847, 'esbs': 0.03111719466385488, 'peachy': 0.03192257029208359, 'ira': 0.03192257029208359, 'six': 0.05442303311229837, 'warming': 0.40753719779486297, 'butter': -0.29526664056598917, 'kept': 0.019016063405689093, 'hopping': -0.005818445224748992, 'bodied': -0.0048513758164117765, 'well': 0.1628129393669707, 'yhe': 0.018015217963284404, 'thought': 0.0048780904409511236, 'amounts': -0.14727747066242894, 'without': -0.021449044830435877, 'bottle': 0.31769121871006767, 'english': -0.03753582845326278, 'barrelworks': 0.0741286065930442, 'smoked': -0.016926386108360704, 'caramelized': 0.0033934542197920857, 'summer': 0.02444922437874312, 'growler': 0.12852899059123177, 'less': 0.017329395301416806, 'oak': 0.0033934542197920857, 'rest': 0.0313235421085753, 'aroma': -0.6052825392661669, 'distracting': 0.045400328961758385, 'warms': 0.043538426489838696, 'citrusy': 0.5915487012922225, 'thanks': 0.001672036976808497, 'roasted': -0.6852412756583118, 'carbonation': 0.11254255610090669, 'flavor': -0.020413216512622, 'guys': 0.03369604641942157, 'yet': -0.16638748174493073, 'sampled': -0.08916349537075918, 'burns': 0.0037166403359627604, 'firkin': -0.008095228138781206, 'hint': 0.05774586146935977, 'thinking': -0.0702023485145609, 'cherry': 0.6714555665285794, 'character': -0.519411067457441, 'lake': -0.01876791422663139, '750ml': 0.9729362328609675, 'hoppy': 0.21540247019784475, 'lets': 0.06698219459975184, 'cherries': -0.05593350637612855, '4': -0.015400614375826079, 'easy': 0.13855677093455435, 'wet': -0.016682590423672348, 'kumquat': -0.021449044830435877, 'kick': 0.08730832492645844, 'real': 0.04043729110327087, 'gushing': -0.03970386864924106, 'around': 0.10626235103738307, 'lacking': -0.021449044830435877, 'big': 1.2909862954655644, 'showing': -0.05497458736048763, 'astringent': -0.13703533803889956, 'dark': 0.02958993363924799, 'five': -0.16638748174493073, 'know': 0.09143141897849497, 'background': 0.06407128560631652, 'world': 0.0479146321979666, 'bit': -0.2823184157966572, 'unique': 0.11367098184146401, 'burnt': 0.1638381816803506, 'prominent': -0.042039390334490535, 'pithy': -0.011636890449497984, 'crisp': 0.03645563869863884, 'like': -0.12292234969574352, 'vibrant': 0.039580387718035175, 'resin': -0.0009885781060440246, 'sized': -0.017324228516890517, 'hunk': 0.062197752128340986, 'appearance': -0.08859588763042789, 'night': 0.018954026110924633, 'served': 0.07430370049975711, 'works': -0.06403170736144828, 'soft': -0.19086724582739556, 'lager': -0.00786509975419137, 'brite': 0.03349109729987592, 'old': 0.0325989658383241, 'dissipating': -0.01985193432462053, 'vinous': -0.04473603749226722, 'back': 0.11404815711188843, 'leathery': -0.0720938667578324, 'strongest': -0.06542889600951102, 'sure': -0.019009999609960315, 'candy': -0.09421179490174345, 'lingers': -0.025326921292026565, 'wheaty': 0.050049518492837335, 'pale': 0.2171598385185458, 'pronounced': 0.06065288355495883, 'slice': 0.05675041120219798, 'dense': -0.0488301834374284, 'saaz': 0.019016063405689093, 'jalapeno': 0.02013465537072963, 'annex': 0.03349109729987592, 'boise': 0.03369604641942157, 'denali': 0.030326441777479413, 'nutty': -0.1853398360307577, 'sessionable': 0.08730832492645844, 'minimal': -0.011238510416091748, 'nose': -0.07025723770472359, 'pepper': -0.04633113093505429, 'heated': 0.05675041120219798, 'wheat': -0.09183385576645138, 'citrus': 0.05925518685214832, 'corn': -0.1015893173573221, 'burn': -0.009309512359598388, 'hoping': -0.11500539005847255, 'barrelhouse': -0.1454191504944476, 'santa': -0.0702023485145609, 'fruitiness': -0.08694075256868924, 'raspberry': -0.15373700884937772, 'super': 0.16665571246248076, 'stone': 0.15403245546581135, 'brettanomyces': 0.04639050111650973, 'plum': -0.09830126962628237, 'favorite': 0.07455768848302799, 'oatmeal': -0.11500539005847255, 'dinner': 0.06922901137484032, 'ounce': -1.1570391995101186, 'ashy': -0.2043351763743326, 'tannic': 0.052532294588675185, 'lacked': -0.07536943592139476, 'slightly': 0.038613910373874114, 'amber': 0.037587087606790984, 'followed': 0.030326441777479413, 'flawed': -0.14727747066242894, 'mocha': 0.0406778075324601, 'cocoa': -0.17624954621292369, 'complaints': -0.05919757258003378, 'runts': -0.10421343603971063, 'acetaldehyde': -0.026495878908185496, 'balanced': 0.35559444610991964, 'brilliantly': -0.034648457033781034, 'oxidized': 0.044440922834288785, 'breakside': 0.06698219459975184, 'pilsner': -0.011472004659125762, 'bayou': 0.01629948291916208, 'smokey': -0.019778627998040706, '22ml': 0.07773599546061911, 'sock': 0.05675041120219798, 'beer': 0.7552319699299668, 'minerally': 0.05300756209845141, 'imperial': 0.05955207140725908, 'start': 0.041234557269534004, 'cats': 0.04365416246322922, 'infected': -0.21616176495622152, 'low': -0.16680882390520058, 'lot': -0.0034717138735162606, 'ed': 0.009508031702844547, 'forward': 0.03255074251607803, 'gin': 0.02852409510853364, 'bubble': -0.09421179490174345, 'diacetyl': -0.40427619099798606, 'beverage': -0.011543031729536232, 'head': 0.14052819977883993, 'spicy': -0.3509376292045464, 'offering': 0.026329933946338747, 'nightshift': -0.05104783112045279, 'bus': 0.0356781667970346, 'raisins': -0.11500539005847255, 'funkiness': 0.009508031702844547, 'buttery': -0.1454191504944476, 'reminds': -0.023023326928801442, 'heat': 0.15656658379126734, 'dipa': -0.006206341573065591, 'removee': -0.006895935081183991, 'chilies': 0.0037166403359627604, 'spice': 0.02219974822926589, 'made': 0.06778518623123413, 'soreness': -0.051521543680711775, 'characteristic': -0.011636890449497984, 'wife': 0.04146516808556066, 'smooth': 0.02444922437874312, 'blueberry': -0.04972596096722838, 'planet': 0.04043525570330588, 'crystal': -0.09937908175437847, 'garbage': -0.051521543680711775, 'husk': -0.04154439211496502, 'solventy': -0.18502599841202685, 'highlight': 0.12048295667409473, 'similar': -0.06594925168193883, 'nutmeg': -0.029777901486930797, 'irish': 0.017329395301416806, 'palate': -0.2572222966730944, 'lactobacillus': 0.03349109729987592, 'acidity': -0.019392661599748864, 'alameda': -0.1454191504944476, 'taste': -0.8108755213206067, 'contribute': -0.008095228138781206, 'mikkeller': -0.08157577749446031, 'sticky': 0.062197752128340986, 'single': -0.010343902621775985, 'tasty': 0.726520018486461, 'follows': 0.0048780904409511236, 'shines': 0.052445123410800557, 'horse': -0.016682590423672348, 'trip': 0.12048295667409473, 'rainy': 0.018954026110924633, 'compared': 0.025272034814566177, 'lemon': 0.7538002146766274, 'peach': -0.1639874259078521, 'zane': 0.026370818936938618, 'offensive': -0.026495878908185496, 'bubblegum': -0.02327378089899597, 'rubber': -0.016682590423672348, 'dominating': 0.03564871592018505, 'melanoidin': -0.017324228516890517, '5': -0.01876791422663139, 'pour': 0.025272034814566177, 'unfiltered': -0.005032168843026156, 'nice': 0.6729833258481933, 'drat': -0.18070980845200518, 'hey': 0.01555859733192744, 'silky': 0.02444922437874312, 'backbone': 0.062197752128340986, 'pear': 0.10863572370716831, 'much': -0.16632704640664359, 'toasty': -0.03746708443118947, 'scotch': -0.007161163353537222, 'backstage': 0.062197752128340986, 'husky': -0.18365006803573403, 'grapefruit': 0.09817683884175944, 'restrained': -0.06651405521730522, 'opened': -0.0702023485145609, 'downtown': 0.03729716232063567, 'mildly': -0.047644642379089275, 'implies': -0.02047408824723425, 'tart': 0.37328557052472483, 'lactose': 0.019016063405689093, 'salt': -0.01876791422663139, 'age': -0.1370989051454967, 'together': 0.0024390452204755618, 'chocolaty': -0.16027058395685656, 'drank': 0.030326441777479413, 'almanac': 0.03192257029208359, 'time': 0.09963486368330465, 'fresh': 0.08290580660830857, '2008': 0.02091478743274442, 'surprised': 0.023328032136522625, 'saison': 0.1661467608358398}), ('Bosbouw', {'zoet': -1.371254917899263, 'volle': 0.4832450770179891, 'ale': 0.03394165241025965, 'lichtzoetig': 0.015682099238043104, 'als': -0.11674221517801947, 'frisse': -0.00988861515949907, 'gouden': -1.2470704605915501, 'stinkt': -0.0021330653248331877, 'verrassend': 0.029774250988981656, 'te': -0.18899697880969715, 'schuimkraag': -0.03995571158999761, 'tikkeltje': 0.2065385698030036, 'duidelijke': 0.06460714349455182, 'maar': 0.18586179898668512, 'zwarte': 1.8001004611196283, 'mout': -2.326783838878086, 'grote': 0.015113824332151752, 'gerookt': 0.3128305639089129, 'geur': 0.1757106050142913, 'typsice': -0.07561566662303952, 'wijn': -0.05463374242798119, 'muffe': 0.029774250988981656, 'zo': -0.11557084048729069, 'almond': 0.029774250988981656, 'bacon': 0.10278197462802399, 'zonder': -0.05294427534835233, 'donkerr': 0.009250337861555063, 'caramelbruine': 0.08900306369013808, 'gebrand': 0.3884192025137489, 'goed': -0.08569157166002729, 'overrijp': -0.08365793575518084, 'boogie': 0.03394165241025965, 'likeur': -0.1840861074913258, 'net': 0.033082501098868504, 'oranjebruine': 0.010991352280166494, 'boter': -0.14807431991744913, 'met': -0.6424095120705478, 'rruikt': 0.029774250988981656, 'bok': -0.013379692023179046, 'moutiger': 0.029774250988981656, 'geeloranje': 0.09824550514066982, 'oester': 0.006552322651934836, 'waterige': -0.13640838531942712, 'ipa': 0.033082501098868504, 'eveneens': 0.029774250988981656, 'afdronk': 1.0388528000099893, 'bruine': 0.7284159568897934, 'sterk': 0.012213405208559156, 'total': 0.019395229948719797, 'citruskleur': -0.03995571158999761, 'zit': 0.03691836771117247, 'honing': 0.396938170067656, 'score': 0.019395229948719797, 'goudgele': -0.020138299714595936, '6': 0.1102705871420974, 'geroosterd': 0.15222080097705473, 'ook': -0.18072454187367834, 'appel': 0.05376719738757636, 'iii': 0.019395229948719797, 'whisky': -0.00475837649385865, 'hout': 0.2090272198996333, 'zurig': -1.4303322269346002, 'rook': 0.040729982892311584, 'moutige': 0.010483716243095739, 'rood': 0.017691271160224058, 'citra': -0.1901630702425187, 'erg': -0.16559308724314423, 'den': 0.03394165241025965, 'v': -0.004123926294677496, 'meer': 0.019849500659321104, 'lichte': -0.11465011957793098, 'rode': 0.09848089189754977, 'updated': 0.006290229745857443, 'tinten': -0.07561566662303952, 'kruidig': -0.22712935653710672, 'niets': -0.23552546323623103, 'pine': 0.03394165241025965, '1': 0.041348571836513165, 'hot': 0.019395229948719797, 'fantastisch': 0.0802348988243443, 'hop': 2.0077118667404874, 'helder': -0.18860959090190327, 'mat': -0.04230604756587982, 'earlier': 0.019395229948719797, 'variant': 0.0626317855597268, 'vlak': -0.07889818472469454, 'framboos': -0.005833571532941867, 'geprobeerd': -0.012216240542902608, 'stro': -0.4346610538126836, 'bruinrode': -0.14527790264425336, 'weissen': -0.07385933688450888, 'achtig': 0.09522106915612807, 'pittig': 0.019395229948719797, 'pepertje': 0.03691836771117247, 'houtige': 0.0626317855597268, 'cola': -0.08610340270990441, '29': 0.019395229948719797, 'lichtgele': -0.02778267614185325, 'orange': 1.6292552944182035, 'gebruikt': -0.002379188246929325, 'vlakke': -0.17566924769986153, 'paarse': -0.0670226747633254, 'schuim': -0.41522029589024895, 'smaaky': -0.0493851287729766, 'citrus': 0.8448589405678847, 'smaakt': -0.9198663866122696, 'fles': 0.0626317855597268, 'kerrie': -0.10082088883071937, 'gekruid': 0.03440600547860688, 'palmachtig': 0.011232553117602576, 'drop': 0.62532938720022, 'kers': -0.06483278666090603, 'kunstmatig': -0.08723790817402696, 'en': -1.057324694565433, 'frisdrank': 0.029774250988981656, 'mijn': -0.14527790264425336, 'stroop': 0.0025153466104584563, 'zoetzuur': 0.013104645303869672, 'peper': 0.17952646202429953, 'flauwe': -0.03995571158999761, 'et': 0.031341316830507004, 'er': -0.02511046872662744, 'chocoladebruine': 0.07184413578387311, 'alcohol': 1.1691135333642995, 'citroengele': -0.9260152807992769, 'teveel': 0.02509135878086897, 'pul': 0.010483716243095739, 'inspiratieloos': -0.11299392427886373, 'plaatsen': -0.0021330653248331877, 'aardige': -0.6051022011509345, 'donkerbruin': 0.029774250988981656, 'organic': -0.09244957440997943, 'lelijke': -0.17506740746493865, 'siroop': -0.18587007713360165, 'voor': 0.006552322651934836, 'iets': 0.5892936980784033, 'keel': 0.019395229948719797, 'mouten': 0.04698701345058314, 'ding': -0.14527790264425336, 'zuri': -0.022731280479698114, 'echt': 0.006552322651934836, 'weisse': 0.027067500899074233, 'drinkbaar': 0.006837206245497221, 'lichtbruine': 0.08111892004804128, 'zelfs': -0.0021330653248331877, 'bitter': 1.22061104332551, 'bijzonder': 0.031341316830507004, 'kruide': -0.04495017553874731, 'chcoloade': 0.035417376428097024, 'honingkleur': -0.031845530234877684, 'bijsmaak': -0.09972883505539688, 'fruitig': 2.446272655682897, 'ben': -0.022731280479698114, 'amandel': 0.06460714349455182, 'weizenhop': -0.0036387584953036733, 'aan': -0.060917478144902844, 'kapot': -0.022731280479698114, 'houtig': 0.11658449637925487, 'donker': -0.03481767882081144, 'blik': -0.10704687563260774, 'stenen': 0.010483716243095739, 'lekkere': 0.06460714349455182, 'vooral': 0.031341316830507004, 'prettige': 0.06264144669897138, 'kraag': -0.6052247638511491, 'verfrissend': -0.0030929447210081224, 'fris': 0.05138684915688176, 'kan': -0.0021330653248331877, 'koffie': 2.8098902080212045, 'gedronken': 0.03394165241025965, 'kleine': -0.18058691650428646, 'troebele': -0.4947296803634149, 'lijkt': 0.013708355860122957, 'raar': -0.6414842642880788, 'licht': -0.05864484041790972, 'boterbabbelaar': 0.007488368745068384, 'rating': 0.019395229948719797, 'ongebalanceerd': -0.14527790264425336, 'bitterzoete': 0.49416601542526095, 'donkere': 0.1972077661031486, 'niet': -0.8808947062444533, 'structuur': 0.3690608029795116, 'nasmaak': 0.2142809955067691, 'moet': -0.03995571158999761, 'bitterzoet': 0.2444741562668208, 'creme': -0.0175608457804225, 'bourbon': 0.07830180837371423, 'mleur': 0.061330982168584416, 'klein': 0.03691836771117247, 'banaansnoep': -0.015609640693708888, 'de': 0.1736320669171089, 'bittere': 0.6325537527090614, 'salmiak': 0.16638186686056122, 'geen': -0.237846206899049, 'heldere': -2.046223365918886, 'hij': -0.22029467721718377, 'zoethout': -0.10082088883071937, 'smaken': -0.0670226747633254, 'prima': 0.04419406100154497, 'bijzondere': -0.0670226747633254, 'poepbruine': -0.03846832081179681, 'heledere': -0.014048676624338001, 'caramel': 0.038577148113667484, 'gele': -0.295476441126292, 'bijzonders': -0.15990979661319152, 'vies': -0.1840861074913258, 'koperen': -0.08104649930185664, 'alcoholisch': 0.009250337861555063, 'kruiden': -2.192489627734112, 'matig': -0.296051279690192, 'suiker': -0.1276363187164494, 'troebel': -0.13936218006039752, 'best': -0.08734460513170547, 'smaak': -0.13829815748386787, 'bier': -0.9017955068061928, 'bruingele': -0.03125720449568625, '3': 0.019395229948719797, 'muf': -0.04917925805700893, 'champagne': -0.0041044068500813435, 'flauw': 0.04225458267359424, 'lekker': 0.27240416841324233, 'metaal': 0.033082501098868504, 'wn': 0.02589065303389709, 'zoveel': -0.2193244460004928, 'pilsachtig': -0.20219556796456434, 'abrikozen': 0.022465106235205153, 'roodzwarte': 0.06593836494628566, 'veel': -0.48091377981501937, 'dezelfde': 0.009250337861555063, 'versneden': -0.002379188246929325, 'frambozensnoep': -0.06538207351090518, 'peated': 0.44675584273145175, 'gusher': 0.006837206245497221, 'cr': 2.2033518664970217, 'mekleur': 0.16735341642458218, 'dun': -0.4724626072670388, 'bloemig': -0.06346084584378298, 'ruikt': -1.3573238742102889, 'scherp': 0.08818292013644874, 'chocolade': 1.795354720360344, 'gist': 0.06757993631993817, 'tarwe': -0.0030929447210081224, 'kleur': -0.7991796974802903, 'goede': 0.5298794464887933, '2015': 0.006290229745857443, 'goedr': -0.09972883505539688, 'weinig': -0.6400726775701742, 'vanille': 4.187230847839818, '2013': 0.019395229948719797, 'caramelkleur': -0.1809302899781871, 'vol': 2.5318559876083246, 'ik': -0.0021330653248331877, 'banaan': -0.021901020315299204, 'koolzuur': -0.2360774380599054, 'niks': -0.237846206899049, '9': 0.019395229948719797, 'blijvende': -0.02957616131439584, 'karamel': -0.0175608457804225, 'dan': -0.07233950529707213, 'tops': 0.03394165241025965, 'fruit': -0.27375182130977266, 'bijna': 0.2918388420274852, 'koper': -0.24062488334295629, 'zuur': -0.4994755261672842, 'honingkleurig': -0.0670226747633254, 'aardig': 0.030102442546575573, 'slechte': -0.10082088883071937, 'doorsnee': -0.08899535864621856, 'zoete': -0.09033783130166306, 'smoked': 0.015054815268521383, 'redelijk': 0.036814381831860005, 'beetje': 0.04756319966157718, 'normaal': 0.027067500899074233, 'roze': -0.09176978152131678, 'subtiel': 0.053336882358979446, 'pils': -0.7076014682023685, 'laurier': 0.08970254866166286, 'typisch': -0.10704687563260774, 'wel': -0.0030929447210081224, 'bloemen': 0.1587251398948302, 'grapefruit': 0.1338130520041842, 'tijm': 0.029774250988981656, 'herfstfruit': 0.1367054278807155, 'nergens': -0.10486054401165018, 'sterker': -0.07233950529707213, 'subtiele': 0.029774250988981656, 'zoetige': 0.13845916377123968, 'sinaassnoep': -0.00343660524556458, 'koperkleur': -0.051371629187139785, 'plakkerig': -0.15020035167240972, 'zoetigs': 0.08168299279832397, 'stoffig': -0.48007289710140805, 'bruin': -0.10251203355279054, 'heel': -0.24464695884584398, 'lager': -0.09244957440997943, 'oranjegele': 0.07848417893463534, 'naar': -0.40708518970904906, 'butterscotch': -0.02500440852766793, 'mooi': -0.14961212994069822, 'gemogen': 0.029774250988981656, 'een': -0.39951165315598824, 'zacht': 0.045245860405999275, 'scherpe': -0.00475837649385865, 'bessen': -0.024432481085805216, 'limonadeachtig': -0.002577453934173435, '7up': -0.475692413798098, 'rum': 0.019395229948719797, 'zoetig': -3.4240078749425185, 'butterschotch': 0.1050371364763557, 'peer': -0.082673720339511, 'graan': 0.022139434218413797, 'zwatebruine': 0.009250337861555063, 'rare': -0.13758161445644726, 'dikke': 0.17308084724759848, 'curry': -0.052128747038141965, 'op': 0.01069986425234493, 'raars': 0.034785302386339284, 'moutig': -0.5287198691693241, 'eind': 0.03691836771117247, 'stal': -0.08603417017623448, 'slecht': -0.22581601829544923, 'het': 0.04375557395666969, 'matige': -0.19828377464013863, 'van': -0.027886188348044984, 'koperbruine': -0.10082088883071937, 'pilsner': -0.08400326069075328, 'sinas': -0.2831320008601795, 'zwaar': -0.14101467849495794, 'imperial': 0.033082501098868504, 'wat': 0.0520353222283557, 'goudbruine': 0.0802348988243443, 'perzik': 0.042873666202433235, 'jun': 0.006290229745857443, 'alchol': 0.11151369973032235, 'spici': 0.019395229948719797, 'oud': -0.048621266376102645, 'roodbruine': -0.019646574337578417, 'helemaal': -0.237846206899049, 'waterig': -0.06550229905157491, 'mooie': 3.807269643298863, 'fijns': 0.029774250988981656, 'oranje': 0.14053406293104914, 'caramelkkeur': -0.011301630514413068, 'zeer': -0.22849757593413544, 'fijne': 0.326279444763247, 'honinggeur': -0.031845530234877684, 'snoep': -0.8083313613893146, 'cassis': -0.3167863898358055, 'uit': 0.010483716243095739, 'frutig': 0.019808967458580764, '5': 0.0820270155084466, 'ziltig': 0.08951155923103861, 'diep': 0.08295923657910377, 'proef': 0.006552322651934836, 'gember': -0.035121691560845, 'pies': -0.035720583610954176, 'fruitige': 0.07952858582153817, 'nasr': -0.00343660524556458, 'smaakje': 0.061330982168584416, 'gebrande': 0.09397402690116628, 'verder': -0.24022116077788208}), ('00german00', {'enjoy': 0.0, 'different': 0.0, 'ipa': 0.0, 'tastebuds': 0.0, 'afterwards': 0.0, 'whole': 0.0, '0': 0.0, 'taste': 0.0, 'able': 0.0, 'allows': 0.0, 'beer': 0.0, 'highly': 0.0, 'hoppy': 0.0, 'recommended': 0.0, 'without': 0.0, '5l': 0.0, 'bottle': 0.0, 'jading': 0.0, 'drinking': 0.0, 'keep': 0.0, 'seek': 0.0})]\n",
      "There are 166158 unique features in the reviews\n",
      "The beer features which people hate the most are: \n",
      "[('light', -1239.4106077270335), ('white', -825.2969867112571), ('clear', -714.0110859972043), ('thin', -604.1469557505872), ('yellow', -596.1114727403187), ('golden', -576.4435349201186), ('watery', -548.5604206115996), ('pale', -539.9103096882932), ('taste', -465.25726885158343), ('bad', -451.4681259172956), ('much', -425.7057247245883), ('head', -416.41084061554454), ('aroma', -409.4103197106454), ('bottle', -408.6718053559808), ('like', -364.09174872327435), ('sweet', -354.408060768915), ('grainy', -342.0018529317743), ('grain', -336.1740710350938), ('corn', -335.11451507789656), ('bit', -327.1181241337306)]\n",
      "The beer features which people love the most are: \n",
      "[('rich', 339.5776764152407), ('tan', 341.18097710857495), ('great', 345.48210272861957), ('fruit', 357.0124421205515), ('creamy', 357.57499383897925), ('grapefruit', 379.50597685399424), ('pine', 395.3967908053657), ('well', 402.41079461395384), ('full', 409.29629952961443), ('citrus', 416.4260598189603), ('smooth', 420.94260457759356), ('brown', 453.33678889691976), ('vanilla', 488.0807716140186), ('roasted', 648.3166871168265), ('good', 680.713706076032), ('black', 775.5084552785067), ('coffee', 820.6096783432256), ('dark', 989.2587346765416), ('chocolate', 1179.4567171460924), ('nice', 1598.7708043448918)]\n"
     ]
    }
   ],
   "source": [
    "def multiplyDict(inputDict,multiplier):\n",
    "    #multiplies every entry in a dictionary by a number.\n",
    "    for item in inputDict:\n",
    "        inputDict[item]=inputDict[item]*multiplier\n",
    "    return inputDict\n",
    "\n",
    "def stf(tokens, score):\n",
    "    ### Compute S-TF\n",
    "    tfsDict = tf(tokens)\n",
    "    stfsDict = multiplyDict(tfsDict,score)\n",
    "    return stfsDict\n",
    "\n",
    "def multiplyTwoDicts(firstDict,secondDict):\n",
    "    multDict = {token:firstDict[token]*secondDict[token] for token in firstDict}\n",
    "    return multDict\n",
    "\n",
    "def addTwoDicts(firstDict,secondDict):\n",
    "    for token in firstDict:\n",
    "        if token in secondDict:\n",
    "            firstDict[token]=firstDict[token]+secondDict[token]\n",
    "    for token in secondDict:\n",
    "        if token in firstDict:\n",
    "            pass\n",
    "        else:\n",
    "            firstDict[token]=secondDict[token]            \n",
    "    return firstDict\n",
    "\n",
    "def stfidf(tokens, idfs, score):\n",
    "    \"\"\" Compute TF-IDF\n",
    "    Args:\n",
    "        tokens (list of str): input list of tokens from tokenize\n",
    "        idfs (dictionary): record to IDF value\n",
    "    Returns:\n",
    "        dictionary: a dictionary of records to TF-IDF values\n",
    "    \"\"\"\n",
    "    tfs = stf(tokens)\n",
    "    tfIdfDict = {token:tfs[token]*idfs[token] for token in tfs}\n",
    "    return tfIdfDict\n",
    "\n",
    "##13 SCORE\n",
    "##14 AROMA (/10)\n",
    "##15 APPEARANCE(/5)\n",
    "##16 TASTE(/10)\n",
    "##17 PALATE(/5)\n",
    "##18 OVERALL(/20)\n",
    "\n",
    "def stfidfByKey(inputRDD,idfRDD,reviewTrue,whichRating):\n",
    "    ##Takes RDD of form (key,(list,list,wholebeer)) and calculates the s-tf of \n",
    "    ##reviewTrue==True ===> review\n",
    "    ##reviewTrue==False ===> commercial Description\n",
    "    ##whichRating ==-1 => don't weight by any column, just use 1 as a factor\n",
    "    ##takes the sum of s-tf and applies the idf to it.\n",
    "    \n",
    "    if (whichRating < 13 or whichRating > 18) and whichRating!=-1:\n",
    "        raise ValueError('whichRating must be between 13 and 18 or equal to 0, please refer to documentation about fields')\n",
    "                         \n",
    "    if reviewTrue==True:\n",
    "        if whichRating!=-1:\n",
    "            stfRDD = inputRDD.map(lambda (x,(a,b,c)):(x,stfidf(b,idfRDD,float(c[whichRating])))).reduceByKey(addTwoDicts)\n",
    "        else:\n",
    "            stfRDD = inputRDD.map(lambda (x,(a,b,c)):(x,stfidf(b,idfRDD,1))).reduceByKey(addTwoDicts)\n",
    "        #print stfRDD.takeSample(True,3,1)\n",
    "    else:\n",
    "        if whichRating!=-1:\n",
    "            stfRDD = inputRDD.map(lambda (x,(a,b,c)):(x,stfidf(a,idfRDD,float(c[whichRating])))).reduceByKey(lambda a,b:a+b)\n",
    "        else:\n",
    "            stfRDD = inputRDD.map(lambda (x,(a,b,c)):(x,stfidf(a,idfRDD,1))).reduceByKey(lambda a,b:a+b)\n",
    "            \n",
    "    stfidfRDD=stfRDD.map(lambda (x,(y,z)):(x,multiplyTwoDicts(y,z)))\n",
    "    #print stfidfRDD.takeSample(True,3,1)\n",
    "    return stfidfRDD\n",
    "\n",
    "def stfidfReduced(inputRDD,idfRDD,reviewTrue,whichRating):\n",
    "    ##Takes RDD of form (key,(list,list,wholebeer)) and calculates the s-tf of \n",
    "    ##reviewTrue==True ===> review\n",
    "    ##reviewTrue==False ===> commercial Description\n",
    "    ##whichRating ==-1 => don't weight by any column, just use 1 as a factor\n",
    "    ##takes the sum of s-tf and applies the idf to it.\n",
    "    \n",
    "    if (whichRating < 13 or whichRating >18) and whichRating!=-1:\n",
    "        raise ValueError('whichRating must be between 13 and 18 or equal to 0, please refer to documentation about fields')\n",
    "                         \n",
    "    if reviewTrue==True:\n",
    "        if whichRating!=-1:\n",
    "            stfidfRDD = inputRDD.map(lambda (x,(a,b,c)):(x,(stf(b,float(c[whichRating]))))).reduceByKey(addTwoDicts)\n",
    "        else:\n",
    "            stfidfRDD = inputRDD.map(lambda (x,(a,b,c)):(x,(stf(b,1)))).reduceByKey(addTwoDicts)\n",
    "        #print stfRDD.takeSample(True,3,1)\n",
    "    else:\n",
    "        if whichRating!=-1:\n",
    "            stfidfRDD = inputRDD.map(lambda (x,(a,b,c)):(x,(stf(a,float(c[whichRating]))))).reduceByKey(lambda a,b:a+b)\n",
    "        else:\n",
    "            stfidfRDD = inputRDD.map(lambda (x,(a,b,c)):(x,(stf(a,1)))).reduceByKey(lambda a,b:a+b)\n",
    "            \n",
    "    #stfidfRDD=stfRDD.map(lambda (x,y):(x,multiplyTwoDicts(y,z)))\n",
    "    #print stfidfRDD.takeSample(True,3,1)\n",
    "    return stfidfRDD\n",
    "\n",
    "    \n",
    "#Generate dictionaries of ranked terms for each user individually.\n",
    "scoreTfIdf = stfidfReduced(beerTrainToToken,reviewIDF,True,13)\n",
    "print scoreTfIdf.take(5)\n",
    "##Find the best keywords across all users.\n",
    "sumAllFeatures =scoreTfIdf.map(lambda (x,y):y).reduce(addTwoDicts)\n",
    "#print sumAllFeatures.takeSample(False,3,1)\n",
    "\n",
    "import operator\n",
    "sorted_features = sorted(sumAllFeatures.items(), key=operator.itemgetter(1))\n",
    "print \"There are %d unique features in the reviews\" % len(sorted_features)\n",
    "print \"The beer features which people hate the most are: \"\n",
    "print sorted_features[:20]\n",
    "print \"The beer features which people love the most are: \"\n",
    "print sorted_features[-20:]\n",
    "featureSet = sorted_features[:500]+sorted_features[-500:]"
   ]
  },
  {
   "cell_type": "markdown",
   "metadata": {},
   "source": [
    "# Fantastic!\n",
    "### By amalgamating people's individual love/hates we show here that our intuition lines up with the methodology taken so far.  A vanilla bourbon beer beats an infected watery beer."
   ]
  },
  {
   "cell_type": "markdown",
   "metadata": {},
   "source": [
    "### Step 3:  Using reviews to identify features of each beer\n",
    "#### Now that we have a user's preference, we need to figure out what each beer actually contains.  We can do this in a very similar way to the user features.  Collecting the reviews per beer, and applying tf-idf to the review text.  We will build a crowd sourced dictionary of terms that people commonly use to describe each beer.\n",
    "\n",
    "### Generate the IDFs per beer:"
   ]
  },
  {
   "cell_type": "code",
   "execution_count": 14,
   "metadata": {
    "collapsed": false
   },
   "outputs": [
    {
     "name": "stdout",
     "output_type": "stream",
     "text": [
      "[('lezakowaniem', 496775.0), ('mackinlays', 496775.0)]\n"
     ]
    }
   ],
   "source": [
    "### recall beerTrainNormalized is a normalized beerTrain which is 80% of each user's reviews.\n",
    "### This takes the form of beerByUser = allBeer.map(lambda x:(x[19],x)) Where x is the entire\n",
    "### line and x[19] is the user_id.  Let's remap this to use the beer id as the key\n",
    "### similar to beerTrainToToken.\n",
    "\n",
    "trainByBeer = beerTrainNormalized.map(lambda (x,y):(y[0],(tokenize(y[6]),tokenize(y[22]),y)))\n",
    "\n",
    "### Remap to form similar to reviewTokens = beerTrainToToken.map(lambda (x,y):(x,y[1]))\n",
    "### which is the input for the idfByKey function.\n",
    "reviewTokensByBeer = trainByBeer.map(lambda (x,(a,b,c)):(x,b))\n",
    "\n",
    "### Now apply the idfByKey Function to get the idf dictionaries for each beer\n",
    "idfByBeer = IDFWhole(reviewTokensByBeer)\n",
    "print idfByBeer.takeSample(False,2,1)"
   ]
  },
  {
   "cell_type": "markdown",
   "metadata": {},
   "source": [
    "### Generate tf-idf of features in each beer.\n",
    "#### Time to make a tf-idf for each beer, this time we won't weight it by the review, as we're trying to extract honest features from the beer, not each user's opinion about those features.  If someone indicates that the beer tastes like grapefruit but does not enjoy grapefruit, it doesn't mean that another user who does enjoy grapefruit will not."
   ]
  },
  {
   "cell_type": "code",
   "execution_count": 15,
   "metadata": {
    "collapsed": false,
    "scrolled": true
   },
   "outputs": [
    {
     "name": "stdout",
     "output_type": "stream",
     "text": [
      "[('71023', {'summer': 0.09698275862068965, 'gold': 0.023255813953488372, 'rating': 0.0625, 'brisbane': 0.034482758620689655, 'anyway': 0.023255813953488372, 'aroma': 0.07993730407523511, 'looks': 0.034482758620689655, 'touch': 0.023255813953488372, 'carbonation': 0.023255813953488372, 'style': 0.045454545454545456, 'cut': 0.023255813953488372, 'hops': 0.16997561825148033, 'easy': 0.0625, '2015': 0.03333333333333333, '2014': 0.0625, 'good': 0.034482758620689655, 'hop': 0.023255813953488372, 'citrus': 0.10101010101010101, 'big': 0.045454545454545456, 'sunny': 0.023255813953488372, 'fan': 0.045454545454545456, 'front': 0.023255813953488372, 'flavour': 0.045454545454545456, 'bit': 0.12452107279693486, 'day': 0.05555555555555555, 'february': 0.0625, 'ales': 0.045454545454545456, 'caramel': 0.03333333333333333, 'nose': 0.05555555555555555, 'lasting': 0.023255813953488372, 'corner': 0.05555555555555555, '11th': 0.03333333333333333, 'hazy': 0.03333333333333333, 'everything': 0.034482758620689655, 'bought': 0.023255813953488372, 'pepper': 0.023255813953488372, 'foam': 0.045454545454545456, 'slight': 0.03333333333333333, 'pours': 0.057738572574178026, 'brewing': 0.0625, 'mayne': 0.023255813953488372, 'quite': 0.05555555555555555, 'great': 0.0625, 'ok': 0.045454545454545456, 'annual': 0.03333333333333333, 'sweetness': 0.034482758620689655, 'golden': 0.168826192964124, 'followed': 0.023255813953488372, 'apple': 0.023255813953488372, 'color': 0.03333333333333333, 'sweet': 0.023255813953488372, '330': 0.023255813953488372, 'wasn': 0.045454545454545456, 'scent': 0.03333333333333333, 'little': 0.06871035940803383, 'newstead': 0.0625, 'would': 0.034482758620689655, 'festival': 0.03333333333333333, 'bite': 0.023255813953488372, 'contains': 0.034482758620689655, 'jetty': 0.034482758620689655, 'beer': 0.22729885057471264, 'low': 0.0787878787878788, 'expected': 0.034482758620689655, 'aftertaste': 0.16454369274136715, 'australian': 0.03333333333333333, 'bitter': 0.045454545454545456, 'head': 0.056589147286821705, 'spicy': 0.05555555555555555, 'hotel': 0.05555555555555555, 'stone': 0.05555555555555555, 'forward': 0.05555555555555555, 'warm': 0.05555555555555555, 'white': 0.056589147286821705, 'hints': 0.034482758620689655, 'october': 0.03333333333333333, 'mouthfeel': 0.03333333333333333, '17': 0.03333333333333333, 'ml': 0.023255813953488372, 'smooth': 0.0625, 'bitterness': 0.067816091954023, 'thin': 0.06871035940803383, 'light': 0.10319311802872348, 'grass': 0.023255813953488372, 'fruity': 0.12222222222222222, 'aromas': 0.023255813953488372, 'tap': 0.1525383141762452, 'grassy': 0.023255813953488372, 'lightly': 0.06871035940803383, 'taste': 0.13652645136205682, 'honey': 0.023255813953488372, 'juice': 0.023255813953488372, 'medium': 0.03333333333333333, 'want': 0.034482758620689655, 'clearly': 0.034482758620689655, 'cream': 0.03333333333333333, 'huge': 0.045454545454545456, 'end': 0.023255813953488372, 'reminded': 0.045454545454545456, 'malty': 0.06666666666666667, 'malts': 0.034482758620689655, 'nice': 0.0625, 'finish': 0.07881136950904392, 'clean': 0.023255813953488372, 'draught': 0.03333333333333333, 'drink': 0.0625, 'southbank': 0.034482758620689655, 'fruit': 0.023255813953488372, 'floral': 0.06666666666666667, 'lemon': 0.023255813953488372, 'misnamed': 0.023255813953488372, 'refreshing': 0.14131136950904394, 'maybe': 0.023255813953488372, 'clear': 0.09003831417624521, 'bottle': 0.023255813953488372, 'fresh': 0.046511627906976744}), ('16301', {'ale': 0.03571428571428571, 'yellow': 0.07023809523809524, 'ending': 0.02040816326530612, 'hazy': 0.07402597402597402, 'carbonation': 0.03571428571428571, 'flavor': 0.041666666666666664, 'citrusfruit': 0.041666666666666664, 'pils': 0.04, 'nice': 0.04897959183673469, 'gouden': 0.04, 'hops': 0.14943064182194615, 'much': 0.0824829931972789, 'texture': 0.02040816326530612, 'hoppy': 0.02857142857142857, 'grapefruit': 0.045454545454545456, 'wet': 0.02040816326530612, 'orange': 0.06207482993197279, 'te': 0.041666666666666664, 'sure': 0.02857142857142857, 'bocks': 0.02857142857142857, 'hop': 0.09090909090909091, 'citrus': 0.1297491328547229, 'big': 0.09285714285714286, 'de': 0.08333333333333333, 'fan': 0.02857142857142857, 'mout': 0.08, 'bar': 0.043478260869565216, 'bit': 0.061224489795918366, 'aroma': 0.06586270871985157, 'crisp': 0.03571428571428571, 'like': 0.0977891156462585, 'nicely': 0.03571428571428571, 'always': 0.041666666666666664, 'notes': 0.043478260869565216, 'cloudy': 0.043478260869565216, 'een': 0.08166666666666667, 'caramel': 0.09090909090909091, 'nose': 0.02857142857142857, 'small': 0.045454545454545456, 'geur': 0.041666666666666664, 'betreft': 0.04, 'soft': 0.02040816326530612, 'vanilla': 0.02040816326530612, 'zwart': 0.041666666666666664, 'heavy': 0.041666666666666664, 'body': 0.07653061224489796, 'en': 0.041666666666666664, 'hard': 0.02040816326530612, 'zonder': 0.041666666666666664, 'added': 0.02857142857142857, 'troebel': 0.04, 'home': 0.06428571428571428, 'vianen': 0.02857142857142857, 'mooi': 0.041666666666666664, 'witte': 0.04, 'bier': 0.04, 'erg': 0.04, 'malty': 0.03571428571428571, 'shared': 0.043478260869565216, 'schaik': 0.02857142857142857, 'bought': 0.02857142857142857, 'lekker': 0.04, 'dozijn': 0.041666666666666664, 'slight': 0.08695652173913043, 'never': 0.041666666666666664, 'heller': 0.02857142857142857, 'met': 0.04, 'strong': 0.08163265306122448, 'graan': 0.08, 'chinook': 0.041666666666666664, 'lenteboks': 0.02040816326530612, 'dry': 0.02857142857142857, '33': 0.02857142857142857, 'fruity': 0.1077639751552795, 'wegslobberbier': 0.041666666666666664, 'isn': 0.02040816326530612, 'w': 0.02857142857142857, 'veel': 0.041666666666666664, 'amber': 0.045454545454545456, 'golden': 0.07919254658385093, 'liked': 0.041666666666666664, 'cl': 0.02857142857142857, 'sweet': 0.0862708719851577, 'one': 0.05714285714285714, 'clear': 0.07919254658385093, 'hooi': 0.04, 'wilnis': 0.041666666666666664, 'zijn': 0.041666666666666664, 'quickly': 0.02040816326530612, 'flavors': 0.041666666666666664, 'little': 0.08712121212121213, 'van': 0.07023809523809524, 'tasting': 0.02040816326530612, 'faint': 0.043478260869565216, 'schenkt': 0.041666666666666664, 'long': 0.02040816326530612, 'plastic': 0.02040816326530612, 'ruikt': 0.04, 'peppery': 0.03571428571428571, 'poured': 0.043478260869565216, 'white': 0.15321852060982494, 'wat': 0.04, 'bitter': 0.23570151380710386, 'oily': 0.03571428571428571, 'head': 0.17362668387513108, 'meibock': 0.03571428571428571, 'foamy': 0.03571428571428571, 'beers': 0.041666666666666664, 'overwhelming': 0.02040816326530612, 'appreciated': 0.02040816326530612, 'count': 0.06207482993197279, 'fruitig': 0.12166666666666667, '13': 0.041666666666666664, 'ontzettend': 0.041666666666666664, 'flavour': 0.045454545454545456, 'balans': 0.041666666666666664, 'grains': 0.08695652173913043, 'yeasts': 0.03571428571428571, 'malt': 0.09090909090909091, 'bitterness': 0.09960070984915705, 'sour': 0.02040816326530612, 'zeer': 0.041666666666666664, 'balance': 0.02040816326530612, 'agree': 0.041666666666666664, 'palate': 0.03571428571428571, 'grassy': 0.03571428571428571, 'taste': 0.04897959183673469, 'describe': 0.02040816326530612, 'doesn': 0.041666666666666664, 'sticky': 0.041666666666666664, 'medium': 0.10974025974025974, 'tasty': 0.02857142857142857, 'uit': 0.041666666666666664, 'different': 0.04081632653061224, 'mij': 0.04, 'stevige': 0.04, 'strange': 0.02040816326530612, 'pure': 0.041666666666666664, 'smaakt': 0.04, 'topper': 0.04, 'kraag': 0.04, 'dikke': 0.04, 'finish': 0.0846938775510204, 'verfrissend': 0.041666666666666664, 'fruit': 0.13257575757575757, 'floral': 0.043478260869565216, 'warming': 0.041666666666666664, 'refreshing': 0.03571428571428571, 'fijne': 0.041666666666666664, 'colour': 0.06388642413487133, 'm': 0.02857142857142857, 'astonishing': 0.02040816326530612, 'cooked': 0.043478260869565216, 'without': 0.02040816326530612, 'bottle': 0.19488518727649162, 'normally': 0.02857142857142857})]\n"
     ]
    }
   ],
   "source": [
    "beerTfIdf = stfidfReduced(trainByBeer,idfByBeer,True,-1)\n",
    "print beerTfIdf.takeSample(False,2,1)"
   ]
  },
  {
   "cell_type": "markdown",
   "metadata": {},
   "source": [
    "### Step 4:  Cosine distance\n",
    "\n",
    "#### We now have two sets of features, one per user and one per beer.  How do we compare the two?  One method is to imagine a multidimensional space where each word, or feature is a direction.  The weight on each feature is the distance along that axis.  In order to compare, we measure the angle between the two vectors.  A smaller angle will correspond to vectors pointing in nearly the same direction.\n",
    "\n",
    "#### The formula for cosine distance is:\n",
    "#### $$ similarity = \\cos \\theta = \\frac{a \\cdot b}{\\|a\\| \\|b\\|} = \\frac{\\sum a_i b_i}{\\sqrt{\\sum a_i^2} \\sqrt{\\sum b_i^2}} $$\n"
   ]
  },
  {
   "cell_type": "markdown",
   "metadata": {},
   "source": [
    "### Implement the components of a cosine distance function\n",
    "#### We need to make a function `similarity` that returns cosine distance given two dictionaries.  The dot product of two dictionaries divided by the magnitudes of each dictionary.  Since perpendicular components have a dot product of zero we can ignore features which do not appear in both dictionaries.  To do this we can use the intersection of their keys."
   ]
  },
  {
   "cell_type": "code",
   "execution_count": 16,
   "metadata": {
    "collapsed": false
   },
   "outputs": [
    {
     "name": "stdout",
     "output_type": "stream",
     "text": [
      "0.925820099773\n",
      "0.633503512093\n",
      "0\n",
      "0\n"
     ]
    }
   ],
   "source": [
    "def similarity(a, b):\n",
    "    if len(a)==0 or len(b)==0:\n",
    "         sim=0\n",
    "    else:\n",
    "        aDotB= sum([a[token]*b[token] for token in list(set(a.keys())&set(b.keys()))])\n",
    "        magA = sqrt(sum(a[token]*a[token] for token in a.keys()))\n",
    "        magB = sqrt(sum(b[token]*b[token] for token in b.keys()))\n",
    "        if magA!=0 and magB!=0:\n",
    "            sim = aDotB/(magA*magB)\n",
    "        else:\n",
    "            sim=0\n",
    "    return sim\n",
    "\n",
    "def filterByFeatures(inputDict,featureSet):\n",
    "    ##Filter the beer dictionaries by the features in the allowed Feature set\n",
    "    outputDict={}\n",
    "    for word in inputDict:\n",
    "        if word in featureSet:\n",
    "            outputDict[word]=inputDict[word]\n",
    "    return outputDict\n",
    "\n",
    "testVec1 = {'foo': 2, 'bar': 2, 'baz': 2 }\n",
    "testVec2 = {'foo': 3, 'bar': 2, 'baz': 1 }\n",
    "print similarity(testVec1, testVec2)\n",
    "\n",
    "testVec3 = {'foo': 20, 'bar': 1, 'baz': 1 }\n",
    "print similarity(testVec1, testVec3)\n",
    "\n",
    "testVec4={}\n",
    "print similarity(testVec1, testVec4)\n",
    "\n",
    "testVec5 = {'foo': 0, 'bar': 0, 'baz': 0 }\n",
    "print similarity(testVec1, testVec5)"
   ]
  },
  {
   "cell_type": "markdown",
   "metadata": {},
   "source": [
    "### Comparing a menu's worth of beers to a user\n",
    "#### Recall that we split the original data set into 80% for training and 20% for test.  We consider the 20% of each user's reviews as a menu.  We can then compare each of the beers on the menu, using the features extracted from the training set to the features we extracted for each user.  By using the cosine similarity we can generate a score for each beer and rank them.  We can then compare this ranking to the user's given ratings."
   ]
  },
  {
   "cell_type": "code",
   "execution_count": 37,
   "metadata": {
    "collapsed": false,
    "scrolled": true
   },
   "outputs": [],
   "source": [
    "### beerTest is of the form (user,line)\n",
    "### we can remap this to (beer, line) and then join with beerTfIdf, then remap back\n",
    "### to (user,line,beerTfIdf).  Then join to scoreTfIdf and generate cosine distance between\n",
    "### beerTfIdf and scoreTFIdf.  We'll then have (user,line,score) which we can examine\n",
    "featureSet = [a[0] for a in sorted_features[:500]+sorted_features[-500:]]\n",
    "beerTestByBeer = beerTest.map(lambda (x,y):(y[0],y))\n",
    "beerTestByBeerWithTfIdf = beerTestByBeer.join(beerTfIdf)\n",
    "beerTestByUserWithTfIdf = beerTestByBeerWithTfIdf.map(lambda (x,y):(y[0][19],(y[0],y[1])))\n",
    "beerTestByUserWithDicts = beerTestByUserWithTfIdf.join(scoreTfIdf)\n",
    "beerTestByUserWithDictsFlat = beerTestByUserWithDicts.map(lambda (x,y):(x,y[0][0],y[0][1],y[1]))\n",
    "##special handling, there are users with no review words and beers with no words\n",
    "##so get rid of them.\n",
    "removeEmpties = beerTestByUserWithDictsFlat.filter(lambda (a,b,c,d):(d!=False and c!=False))\n",
    "cosSim = removeEmpties.map(lambda (a,b,c,d):(a,(b,similarity(filterByFeatures(c,featureSet),d)))).cache()"
   ]
  },
  {
   "cell_type": "code",
   "execution_count": 38,
   "metadata": {
    "collapsed": false
   },
   "outputs": [
    {
     "name": "stdout",
     "output_type": "stream",
     "text": [
      "[('10185', '3.9', 0.3332056387663327), ('63803', '3.7', 0.3478022529915184), ('555', '3.5', 0.24796076106500273), ('58201', '3.4', 0.1605488935266882), ('102199', '3.3', 0.36512003799822906), ('11763', '3.3', 0.1463654775103884), ('61876', '3.3', 0.3298994384909745), ('10600', '3.3', 0.2916849724758053), ('56366', '3.2', 0.296502653627392), ('16458', '3.2', 0.26764837656295), ('18255', '3', 0.27279018546180256), ('102577', '2.9', 0.17632198504496913), ('56378', '2.8', 0.1616593923246843), ('101830', '2.1', 0.06684360620943722)]\n"
     ]
    }
   ],
   "source": [
    "oneUser = cosSim.filter(lambda (x,y):x=='wilnatp').map(lambda (x,y):(y[0][0],y[0][13],y[1])).collect()\n",
    "print sorted(oneUser,key=lambda x:x[1],reverse=True)"
   ]
  },
  {
   "cell_type": "markdown",
   "metadata": {},
   "source": [
    "### Quantifying the fit\n",
    "#### Now that we've scored the beers and looking at the single user above we can visually see that there's a correspondence between the generated rating and the user's rating, we need to quantify how closely the two lists match.\n",
    "\n",
    "#### There are a number of ways to do this like the Rank Biased Overlap, the Kendall Tau and counting the pair wise swaps to match the lists exactly.  I'm going to try using Spearman's rank correlation coefficient as it measures monotonicity, in a simple way with statistical tests available.  It's also available in the Scipy library."
   ]
  },
  {
   "cell_type": "code",
   "execution_count": 39,
   "metadata": {
    "collapsed": false,
    "scrolled": true
   },
   "outputs": [
    {
     "name": "stdout",
     "output_type": "stream",
     "text": [
      "0.171028523036\n"
     ]
    }
   ],
   "source": [
    "### ToDo: lookup Kendall Tau, Rank Biased Overlap (RBO), maybe mean squared error??\n",
    "from scipy.stats import spearmanr\n",
    "from scipy.stats.stats import rankdata\n",
    "from scipy.stats import pearsonr\n",
    "import math\n",
    "\n",
    "### Need to implement a function which will take the results from the cosSim RDD and spit out\n",
    "### average?? spearman.\n",
    "\n",
    "def catTuplesToLists(tupleOne,tupleTwo):\n",
    "    if len(tupleOne)==len(tupleTwo):\n",
    "        a=[]\n",
    "        for x in range(0,len(tupleOne)):\n",
    "            firstEle=tupleOne[x]\n",
    "            if type(firstEle) is not list: firstEle = [ tupleOne[x] ]\n",
    "            secondEle=tupleTwo[x]\n",
    "            if type(secondEle) is not list: secondEle = [ tupleTwo[x] ]\n",
    "            a.append(firstEle+secondEle)\n",
    "        return tuple(a)\n",
    "    else:\n",
    "        raise ValueError('Two tuples are not the same dimensions')\n",
    "\n",
    "def mattSpearman(listOne,listTwo):\n",
    "    if type(listOne) is list and type(listTwo) is list:\n",
    "        lO=len(listOne)\n",
    "        if lO==len(listTwo) and lO>1:\n",
    "            lOR = rankdata(listOne)\n",
    "            lTR = rankdata(listTwo)\n",
    "            print lOR\n",
    "            print lTR\n",
    "            dSquared=0\n",
    "            for x in range(0,lO):\n",
    "                dSquared+=(lOR[x]-lTR[x])**2\n",
    "            return 1-6*dSquared/lO/(lO**2-1)\n",
    "        else:\n",
    "            raise ValueError(\"Both Lists must be same length and greater than one.\")\n",
    "    else:\n",
    "        return 0\n",
    "\n",
    "def reduceNaN(a,b):\n",
    "    if math.isnan(a):\n",
    "        a=0\n",
    "    if math.isnan(b):\n",
    "        b=0\n",
    "    return a+b\n",
    "\n",
    "def avgSpearman(inputRDD):\n",
    "    #So the problem here is trying to output two lists which have the scores in the same order.\n",
    "    #Write custom reduce function, catTuplesToLists\n",
    "    convertedToLists = inputRDD.map(lambda (x,y):(x,(y[0][0],y[0][13],y[1]))).reduceByKey(catTuplesToLists)\n",
    "    filteredLists = convertedToLists.filter(lambda (x,y):type(y[1]) is list)\n",
    "    spearmanByKey = convertedToLists.map(lambda (x,y):(x,mattSpearman(y[1],y[2]), len(y[1])))\n",
    "    spearmanOnly = spearmanByKey.map(lambda (x,y,z):y)\n",
    "    avgSpearmanRho=spearmanOnly.reduce(lambda a,b:a+b)/spearmanOnly.count()\n",
    "    return avgSpearmanRho\n",
    "\n",
    "print avgSpearman(cosSim)\n"
   ]
  },
  {
   "cell_type": "markdown",
   "metadata": {},
   "source": [
    "### So 0.17 Spearman correlation, not the best."
   ]
  },
  {
   "cell_type": "code",
   "execution_count": null,
   "metadata": {
    "collapsed": true
   },
   "outputs": [],
   "source": []
  }
 ],
 "metadata": {
  "kernelspec": {
   "display_name": "Python 2",
   "language": "python",
   "name": "python2"
  },
  "language_info": {
   "codemirror_mode": {
    "name": "ipython",
    "version": 2
   },
   "file_extension": ".py",
   "mimetype": "text/x-python",
   "name": "python",
   "nbconvert_exporter": "python",
   "pygments_lexer": "ipython2",
   "version": "2.7.5"
  }
 },
 "nbformat": 4,
 "nbformat_minor": 0
}
